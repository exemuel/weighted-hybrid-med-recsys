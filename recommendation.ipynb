{
 "cells": [
  {
   "cell_type": "markdown",
   "metadata": {
    "id": "nTGCMKSzVXtF"
   },
   "source": [
    "# Notebook\n",
    "## Sistem Rekomendasi Obat berdasarkan _Weighted Hybrid Approach_\n",
    "\n",
    "Notebook ini menyajikan penerapan dan eksperimentasi _weighted hybrid approach_ pada sistem rekomendasi obat. _Weighted hybrid approach_ yang diusulkan merupakan kombinasi antara _content-based filtering_  dan _collaborative filtering_. Beberapa teknik pembobotan yang akan dimasukkan dalam eksperimentasi antara lain _optimal weight_."
   ]
  },
  {
   "cell_type": "markdown",
   "metadata": {
    "id": "XIftJR9dUmmb"
   },
   "source": [
    "## 1. Pustaka\n",
    "\n",
    "Impor pustaka yang dibutuhkan."
   ]
  },
  {
   "cell_type": "code",
   "execution_count": 1,
   "metadata": {
    "id": "ejBtEAGbKzpI"
   },
   "outputs": [],
   "source": [
    "# pustaka eksternal\n",
    "import re\n",
    "import matplotlib.pyplot as plt\n",
    "import numpy as np\n",
    "import pandas as pd\n",
    "import plotly.graph_objects as go\n",
    "from scipy.spatial.distance import pdist, squareform\n",
    "from sklearn.impute import SimpleImputer\n",
    "from sklearn.preprocessing import MultiLabelBinarizer\n",
    "from sklearn.ensemble import RandomForestClassifier\n",
    "from sklearn.neighbors import KNeighborsClassifier\n",
    "\n",
    "# pustaka custom\n",
    "from analysis import *"
   ]
  },
  {
   "cell_type": "markdown",
   "metadata": {
    "id": "h3_BPWQqX9mt"
   },
   "source": [
    "## 2. Persiapan Set Data\n",
    "\n",
    "Pada bagian ini, dilakukan persiapan set data yang dibutuhkan dalam penelitian. Karena set data yang sesuai untuk secara langsung digunakan dalam penelitian ini belum tersedia saat penelitian ini dikerjakan, maka Peneliti melakukan pengumpulan data dari beberapa sumber dan menggabungkannya.\n",
    "\n",
    "Set data `WebMD` dan `DailyMed` digabungkan dalam struktur data DataFrame."
   ]
  },
  {
   "cell_type": "code",
   "execution_count": 2,
   "metadata": {
    "id": "OBNcD-4TKzpT",
    "scrolled": true
   },
   "outputs": [],
   "source": [
    "# berkas WebMD Drug Reviews oleh Rohan Harode dari Kaggle\n",
    "path_wmd = \"E:\\data\\webmd\\webmd.csv\"\n",
    "\n",
    "# berkas DailyMed Drug dari situs web DailyMed\n",
    "# yang dikompilasi dengan menggunakan generate_dailymed.py\n",
    "path_dm = \"E:\\data\\dailymed\\dailymed.csv\"\n",
    "\n",
    "df_wmd = pd.read_csv(path_wmd)\n",
    "df_dm = pd.read_csv(path_dm)"
   ]
  },
  {
   "cell_type": "markdown",
   "metadata": {},
   "source": [
    "Atribut yang diperlukan sebagai pelengkap data pada DailyMed, antara lain:\n",
    "1. nama obat secara umum pada kolom `sub_name`\n",
    "2. daftar bahan aktif pada kolom `list_activeIngredient`, dan \n",
    "3. daftar bahan inaktif pada kolom `list_activeIngredient`.\n",
    "\n",
    "Oleh karena itu, perlu dilakukan seleksi kolom pada DataFrame `df_dm` sebagai berikut."
   ]
  },
  {
   "cell_type": "code",
   "execution_count": 3,
   "metadata": {},
   "outputs": [],
   "source": [
    "df_dm = df_dm[[\"SubName\", \"ListActiveIngredient\", \"ListInactiveIngredient\"]]"
   ]
  },
  {
   "cell_type": "markdown",
   "metadata": {},
   "source": [
    "## 3. Prapemrosesan"
   ]
  },
  {
   "cell_type": "markdown",
   "metadata": {},
   "source": [
    "### Data Integration"
   ]
  },
  {
   "cell_type": "markdown",
   "metadata": {},
   "source": [
    "Tahap pertama pada data integration yaitu melakukan integrasi set data DailyMed dan WebMD pada _df_drugs_"
   ]
  },
  {
   "cell_type": "code",
   "execution_count": 4,
   "metadata": {},
   "outputs": [],
   "source": [
    "df_drugs = pd.merge(df_dm, df_wmd, left_on = \"SubName\", right_on = \"Drug\")"
   ]
  },
  {
   "cell_type": "markdown",
   "metadata": {},
   "source": [
    "### Data Selection"
   ]
  },
  {
   "cell_type": "markdown",
   "metadata": {},
   "source": [
    "Tahap kedua dalam pra-pemrosesan yaitu data selection dikarenakan memfokuskan pada atribute yang akan digunakan pada penelitian "
   ]
  },
  {
   "cell_type": "code",
   "execution_count": 5,
   "metadata": {
    "scrolled": true
   },
   "outputs": [],
   "source": [
    "list_sufficient = [val for val, cnt in df_drugs[\"Drug\"].value_counts().iteritems() if cnt >= 500]\n",
    "df_drugs_sub = df_drugs[df_drugs[\"Drug\"].isin(list_sufficient)]"
   ]
  },
  {
   "cell_type": "markdown",
   "metadata": {},
   "source": [
    "Periksa banyaknya baris data dengan nilai atribut `Age` dan `Sex` yang kosong."
   ]
  },
  {
   "cell_type": "code",
   "execution_count": 6,
   "metadata": {
    "scrolled": true
   },
   "outputs": [
    {
     "name": "stdout",
     "output_type": "stream",
     "text": [
      "Jumlah baris data dengan nilai atribut Age dan Sex yang kosong adalah 1051\n"
     ]
    }
   ],
   "source": [
    "cnt_empty_agensex = df_drugs_sub[(df_drugs_sub[\"Age\"] == \" \") & (df_drugs_sub[\"Sex\"] == \" \")].shape[0]\n",
    "print(\"Jumlah baris data dengan nilai atribut Age dan Sex yang kosong adalah\", cnt_empty_agensex)"
   ]
  },
  {
   "cell_type": "markdown",
   "metadata": {},
   "source": [
    "### Cleaning Data"
   ]
  },
  {
   "cell_type": "markdown",
   "metadata": {},
   "source": [
    "Tahap Ketiga pada proses _cleaning data_ yaitu dengan mengubah nilai pada kolom `ListActiveIngredient` ke dalam bentuk _one-hot encoding vector_. _One-hot encoding_ mengubah fitur kategorikal/nominal ke format yang lebih sesuai digunakan dalam algoritma klasifikasi dan regresi. Dalam sistem rekomendasi ini, algoritma klasifikasi digunakan sebagai pembentuk model _hybrid_. "
   ]
  },
  {
   "cell_type": "code",
   "execution_count": 7,
   "metadata": {},
   "outputs": [],
   "source": [
    "def active_ingredient_text_cleaning(txt_in):\n",
    "    txt_out = txt_in.replace(\"[[\", \"\")\n",
    "    txt_out = txt_out.replace(\"]]\", \"\")\n",
    "    list_out = txt_out.split(\"], [\")\n",
    "    list_out = [[j.strip(\"\\'\") for j in i.split(\",\")][0].lower() for i in list_out]\n",
    "    return list_out\n",
    "\n",
    "list_active_ingredients = []\n",
    "for i in df_drugs_sub['ListActiveIngredient']:\n",
    "    list_active_ingredients.append(active_ingredient_text_cleaning(i))\n",
    "\n",
    "# hapus kolom list active ingredient\n",
    "df_drugs_sub = df_drugs_sub.drop(columns = [\"ListActiveIngredient\"])\n",
    "# buat kolom active ingredients berdasarkan list active ingredients\n",
    "df_drugs_sub[\"ActiveIngredients\"] = list_active_ingredients\n",
    "\n"
   ]
  },
  {
   "cell_type": "markdown",
   "metadata": {},
   "source": [
    "Kemudian mengubah nilai pada kolom `ListInactiveIngredient` ke dalam bentuk _one-hot encoding vector_, sama seperti pada `ListActiveIngredient`. "
   ]
  },
  {
   "cell_type": "code",
   "execution_count": 8,
   "metadata": {},
   "outputs": [],
   "source": [
    "def inactive_ingredient_text_cleaning(txt_in):\n",
    "    txt_out = txt_in.replace(\"[[\", \"\")\n",
    "    txt_out = txt_out.replace(\"]]\", \"\")\n",
    "    list_out = txt_out.split(\"], [\")\n",
    "    list_out = [[j.strip(\"\\'\") for j in i.split(\",\")][0].lower() for i in list_out]\n",
    "    return list_out\n",
    "\n",
    "list_inactive_ingredients = []\n",
    "for i in df_drugs_sub['ListInactiveIngredient']:\n",
    "    list_inactive_ingredients.append(inactive_ingredient_text_cleaning(i))\n",
    "\n",
    "# hapus kolom list inactive ingredient\n",
    "df_drugs_sub = df_drugs_sub.drop(columns = [\"ListInactiveIngredient\"])\n",
    "# buat kolom inactive ingredients berdasarkan list inactive ingredients\n",
    "df_drugs_sub[\"InactiveIngredients\"] = list_inactive_ingredients\n",
    "\n"
   ]
  },
  {
   "cell_type": "markdown",
   "metadata": {},
   "source": [
    "Langkah berikutnya yaitu mengubah nilai pada kolom `sides` ke dalam bentuk _one-hot encoding vector_, sama seperti pada `ListActiveIngredient` dan `ListInactiveIngredient`. "
   ]
  },
  {
   "cell_type": "code",
   "execution_count": 9,
   "metadata": {},
   "outputs": [],
   "source": [
    "def sides_text_cleaning(txt_in):\n",
    "    # ganti whitespace lebih dari 1 menjadi 1 \n",
    "    txt_out = re.sub('\\s+', ' ', txt_in)\n",
    "    # hapus kalimat keterangan\n",
    "    txt_out = txt_out.replace(\"If any of these effects persist or worsen, tell your doctor or pharmacist promptly.\", \"\")\n",
    "    txt_out = txt_out.replace(\"If any of these effects last or get worse, tell your doctor or pharmacist promptly.\", \"\")\n",
    "    txt_out = txt_out.replace(\"may occur, especially during the first 2 hours after you take the medication .\", \"\")\n",
    "    txt_out = txt_out.replace(\"may occur as your body adjusts to this medication .\", \"\")\n",
    "    txt_out = txt_out.replace(\"may occur as your body adjusts to the medication .\", \"\")\n",
    "    txt_out = txt_out.replace(\"may also occur.\", \"\")\n",
    "    txt_out = txt_out.replace(\"may occur.\", \"\")\n",
    "    txt_out = txt_out.replace(\"and \", \"\")\n",
    "    txt_out = txt_out.replace(\"your \", \"\")\n",
    "    txt_out = txt_out.replace(\"or \", \"\")\n",
    "    return txt_out\n",
    "\n",
    "list_sides = []\n",
    "for id, val in df_drugs_sub[\"Sides\"].iteritems():\n",
    "    # pembersihan text sides dan tokenisasi text sides\n",
    "    list_sides.append([i.strip().lower() for i in sides_text_cleaning(val).split(\",\")])\n",
    "\n",
    "# hapus kolom sides yang lama\n",
    "df_drugs_sub = df_drugs_sub.drop(columns = [\"Sides\"])\n",
    "# buat kolom sides yang baru berdasarkan list sides\n",
    "df_drugs_sub[\"Sides\"] = list_sides"
   ]
  },
  {
   "cell_type": "markdown",
   "metadata": {},
   "source": [
    "## Data Transformation"
   ]
  },
  {
   "cell_type": "markdown",
   "metadata": {},
   "source": [
    "Pada `df_drugs` terdapat baris data dengan nilai atribut `Age` dan `Sex` yang kosong. Oleh karena itu, dilakukan imputasi dengan menggunakan Simple Imputer."
   ]
  },
  {
   "cell_type": "code",
   "execution_count": 10,
   "metadata": {
    "scrolled": true
   },
   "outputs": [],
   "source": [
    "# label encoding map untuk nilai pada sex\n",
    "map_sex = {\"Male\":0, \"Female\":1}\n",
    "# label encoding map untuk nilai pada age\n",
    "map_age = {'0-2':0,\n",
    "           '3-6':1,\n",
    "           '7-12':2,\n",
    "           '13-18':3,\n",
    "           '19-24':4,\n",
    "           '25-34':5,\n",
    "           '35-44':6,\n",
    "           '45-54':7,\n",
    "           '55-64':8,\n",
    "           '65-74':9,\n",
    "           '75 or over':10}\n",
    "\n",
    "df_tmp = df_drugs_sub.copy()\n",
    "# label encoding pada sex\n",
    "df_tmp[\"Sexmap\"] = df_tmp[\"Sex\"].map(map_sex)\n",
    "# label encoding pada age\n",
    "df_tmp[\"Agemap\"] = df_tmp[\"Age\"].map(map_age)\n",
    "\n",
    "# inverted label encoding map untuk nilai pada sex\n",
    "inv_map_sex = {v: k for k, v in map_sex.items()}\n",
    "# inverted label encoding map untuk nilai pada age\n",
    "inv_map_age = {v: k for k, v in map_age.items()}\n",
    "\n",
    "# penanganan missing values pada sex dan age\n",
    "# imp = KNNImputer(n_neighbors=1)\n",
    "imp = SimpleImputer(missing_values=np.nan, strategy=\"most_frequent\")\n",
    "mat = imp.fit_transform(df_tmp[[\"Agemap\", \"Sexmap\", \"Satisfaction\"]])\n",
    "df_tmp2 = pd.DataFrame(mat, columns=[\"NewAge\", \"NewSex\", \"NewSatisfaction\"])\n",
    "df_drugs_sub[\"Sex\"] = df_tmp2[\"NewSex\"].map(inv_map_sex).tolist()\n",
    "df_drugs_sub[\"Age\"] = df_tmp2[\"NewAge\"].map(inv_map_age).tolist()\n",
    "\n",
    "# reset index setiap baris\n",
    "df_drugs_sub = df_drugs_sub.reset_index(drop=True)"
   ]
  },
  {
   "cell_type": "markdown",
   "metadata": {},
   "source": [
    "### Pembagian set data"
   ]
  },
  {
   "cell_type": "markdown",
   "metadata": {},
   "source": [
    "Untuk menerapkan _item-based collaborative filtering_ pada sistem rekomendasi obat, dibutuhkan matriks pengguna/obat. Pada matriks tersebut terdapat _\"user id\"_, _\"drug id\"_, dan _\"drug rating\"_. Ilustrasi matriks tersebut adalah sebagai berikut.\n",
    "\n",
    "|  | drug<sub>1</sub> | drug<sub>2</sub> | drug<sub>3</sub> |\n",
    "| :---: | :---: | :---: | :---: |\n",
    "| user<sub>1</sub> | rating<sub>user<sub>1</sub>,drug<sub>1</sub></sub> | rating<sub>user<sub>1</sub>,drug<sub>2</sub></sub> | rating<sub>user<sub>1</sub>,drug<sub>3</sub></sub> |\n",
    "| user<sub>2</sub> | rating<sub>user<sub>2</sub>,drug<sub>1</sub></sub> | rating<sub>user<sub>2</sub>,drug<sub>2</sub></sub> | rating<sub>user<sub>2</sub>,drug<sub>3</sub></sub> |\n",
    "| user<sub>3</sub> | rating<sub>user<sub>3</sub>,drug<sub>1</sub></sub> | rating<sub>user<sub>3</sub>,drug<sub>2</sub></sub> | rating<sub>user<sub>3</sub>,drug<sub>3</sub></sub> |\n",
    "| user<sub>4</sub> | rating<sub>user<sub>4</sub>,drug<sub>1</sub></sub> | rating<sub>user<sub>4</sub>,drug<sub>2</sub></sub> | rating<sub>user<sub>4</sub>,drug<sub>3</sub></sub> |\n",
    "| user<sub>5</sub> | rating<sub>user<sub>5</sub>,drug<sub>1</sub></sub> | rating<sub>user<sub>5</sub>,drug<sub>2</sub></sub> | rating<sub>user<sub>5</sub>,drug<sub>3</sub></sub> |\n",
    "\n",
    "\n",
    "_\"user id\"_ tidak tersedia dalam `df_drugs`. Oleh karena itu, ....\n",
    "\n",
    "_\"drug id\"_ tersedia dalam `df_drugs`. Oleh karena itu, ....\n",
    "\n",
    "_\"drug rating\"_ tidak tersedia dalam `df_drugs`. Oleh karena itu, ...."
   ]
  },
  {
   "cell_type": "code",
   "execution_count": 11,
   "metadata": {
    "scrolled": true
   },
   "outputs": [
    {
     "data": {
      "text/html": [
       "<div>\n",
       "<style scoped>\n",
       "    .dataframe tbody tr th:only-of-type {\n",
       "        vertical-align: middle;\n",
       "    }\n",
       "\n",
       "    .dataframe tbody tr th {\n",
       "        vertical-align: top;\n",
       "    }\n",
       "\n",
       "    .dataframe thead th {\n",
       "        text-align: right;\n",
       "    }\n",
       "</style>\n",
       "<table border=\"1\" class=\"dataframe\">\n",
       "  <thead>\n",
       "    <tr style=\"text-align: right;\">\n",
       "      <th></th>\n",
       "      <th>ItemId</th>\n",
       "      <th>Drug</th>\n",
       "      <th>ActiveIngredients</th>\n",
       "      <th>InactiveIngredients</th>\n",
       "      <th>Sides</th>\n",
       "    </tr>\n",
       "  </thead>\n",
       "  <tbody>\n",
       "    <tr>\n",
       "      <th>0</th>\n",
       "      <td>1</td>\n",
       "      <td>isosorbide mononitrate</td>\n",
       "      <td>[isosorbide mononitrate]</td>\n",
       "      <td>[lactose, talc, silicon dioxide, cellulose, al...</td>\n",
       "      <td>[headache, dizziness, lightheadedness, nausea,...</td>\n",
       "    </tr>\n",
       "    <tr>\n",
       "      <th>1</th>\n",
       "      <td>2</td>\n",
       "      <td>isosorbide mononitrate</td>\n",
       "      <td>[isosorbide mononitrate]</td>\n",
       "      <td>[silicon dioxide, hydrogenated castor oil, hyp...</td>\n",
       "      <td>[headache, dizziness, lightheadedness, nausea,...</td>\n",
       "    </tr>\n",
       "    <tr>\n",
       "      <th>2</th>\n",
       "      <td>3</td>\n",
       "      <td>isosorbide mononitrate</td>\n",
       "      <td>[isosorbide mononitrate]</td>\n",
       "      <td>[[]]</td>\n",
       "      <td>[headache, dizziness, lightheadedness, nausea,...</td>\n",
       "    </tr>\n",
       "    <tr>\n",
       "      <th>3</th>\n",
       "      <td>4</td>\n",
       "      <td>isosorbide mononitrate</td>\n",
       "      <td>[isosorbide mononitrate]</td>\n",
       "      <td>[silicon dioxide, hydrogenated castor oil, hyp...</td>\n",
       "      <td>[headache, dizziness, lightheadedness, nausea,...</td>\n",
       "    </tr>\n",
       "    <tr>\n",
       "      <th>4</th>\n",
       "      <td>5</td>\n",
       "      <td>prednisone</td>\n",
       "      <td>[prednisone]</td>\n",
       "      <td>[lactose monohydrate, magnesium stearate, micr...</td>\n",
       "      <td>[nausea, vomiting, loss of appetite, heartburn...</td>\n",
       "    </tr>\n",
       "  </tbody>\n",
       "</table>\n",
       "</div>"
      ],
      "text/plain": [
       "   ItemId                    Drug         ActiveIngredients  \\\n",
       "0       1  isosorbide mononitrate  [isosorbide mononitrate]   \n",
       "1       2  isosorbide mononitrate  [isosorbide mononitrate]   \n",
       "2       3  isosorbide mononitrate  [isosorbide mononitrate]   \n",
       "3       4  isosorbide mononitrate  [isosorbide mononitrate]   \n",
       "4       5              prednisone              [prednisone]   \n",
       "\n",
       "                                 InactiveIngredients  \\\n",
       "0  [lactose, talc, silicon dioxide, cellulose, al...   \n",
       "1  [silicon dioxide, hydrogenated castor oil, hyp...   \n",
       "2                                               [[]]   \n",
       "3  [silicon dioxide, hydrogenated castor oil, hyp...   \n",
       "4  [lactose monohydrate, magnesium stearate, micr...   \n",
       "\n",
       "                                               Sides  \n",
       "0  [headache, dizziness, lightheadedness, nausea,...  \n",
       "1  [headache, dizziness, lightheadedness, nausea,...  \n",
       "2  [headache, dizziness, lightheadedness, nausea,...  \n",
       "3  [headache, dizziness, lightheadedness, nausea,...  \n",
       "4  [nausea, vomiting, loss of appetite, heartburn...  "
      ]
     },
     "execution_count": 11,
     "metadata": {},
     "output_type": "execute_result"
    }
   ],
   "source": [
    "# Data Drug\n",
    "df_item = pd.DataFrame({'Drug':df_drugs_sub['Drug'],\n",
    "                        'ActiveIngredients':df_drugs_sub['ActiveIngredients'],\n",
    "                        'InactiveIngredients':df_drugs_sub['InactiveIngredients'],\n",
    "                        'Sides':df_drugs_sub['Sides']})\n",
    "\n",
    "# buat duplikat df_item, yaitu df_tmp\n",
    "df_tmp = df_item.copy()\n",
    "# ubah nilai ActiveIngredients dari list of string menjadi\n",
    "# string untuk memungkinkan fungsi drop_duplicates dijalankan\n",
    "df_tmp['ActiveIngredients'] = [\" \".join(i) for i in df_tmp['ActiveIngredients']]\n",
    "# ubah nilai InactiveIngredients dari list of string menjadi\n",
    "# string untuk memungkinkan fungsi drop_duplicates dijalankan\n",
    "df_tmp['InactiveIngredients'] = [\" \".join(i) for i in df_tmp['InactiveIngredients']]\n",
    "# ubah nilai Sides dari list of string menjadi\n",
    "# string untuk memungkinkan fungsi drop_duplicates dijalankan\n",
    "df_tmp['Sides'] = [\" \".join(i) for i in df_tmp['Sides']]\n",
    "# hapus baris data duplikat pada df_tmp dan simpan index\n",
    "# baris data yang dipertahankan dalam list_index\n",
    "list_index = list(df_tmp.drop_duplicates().index)\n",
    "# gunakan list_index yang didapatkan untuk memfilter\n",
    "# baris data pada df_item\n",
    "df_item = df_item.iloc[list_index]\n",
    "# reset index setiap baris\n",
    "df_item = df_item.reset_index(drop=True)\n",
    "# buat kolom ItemId berdasarkan index setiap baris\n",
    "df_item[\"ItemId\"] = df_item.index + 1\n",
    "# rapikan posisi kolom dengan memindahkan \n",
    "# posisi kolom \"ItemId\" ke kolom pertama\n",
    "df_item = df_item[['ItemId','Drug','ActiveIngredients','InactiveIngredients','Sides']]\n",
    "df_item.head()"
   ]
  },
  {
   "cell_type": "code",
   "execution_count": 12,
   "metadata": {
    "scrolled": true
   },
   "outputs": [
    {
     "data": {
      "text/html": [
       "<div>\n",
       "<style scoped>\n",
       "    .dataframe tbody tr th:only-of-type {\n",
       "        vertical-align: middle;\n",
       "    }\n",
       "\n",
       "    .dataframe tbody tr th {\n",
       "        vertical-align: top;\n",
       "    }\n",
       "\n",
       "    .dataframe thead th {\n",
       "        text-align: right;\n",
       "    }\n",
       "</style>\n",
       "<table border=\"1\" class=\"dataframe\">\n",
       "  <thead>\n",
       "    <tr style=\"text-align: right;\">\n",
       "      <th></th>\n",
       "      <th>UserId</th>\n",
       "      <th>Age</th>\n",
       "      <th>Sex</th>\n",
       "      <th>Condition</th>\n",
       "    </tr>\n",
       "  </thead>\n",
       "  <tbody>\n",
       "    <tr>\n",
       "      <th>0</th>\n",
       "      <td>1</td>\n",
       "      <td>75 or over</td>\n",
       "      <td>Male</td>\n",
       "      <td>Other</td>\n",
       "    </tr>\n",
       "    <tr>\n",
       "      <th>1</th>\n",
       "      <td>2</td>\n",
       "      <td>55-64</td>\n",
       "      <td>Female</td>\n",
       "      <td>Other</td>\n",
       "    </tr>\n",
       "    <tr>\n",
       "      <th>2</th>\n",
       "      <td>3</td>\n",
       "      <td>75 or over</td>\n",
       "      <td>Male</td>\n",
       "      <td>Angina Pectoris Prevention</td>\n",
       "    </tr>\n",
       "    <tr>\n",
       "      <th>3</th>\n",
       "      <td>4</td>\n",
       "      <td>75 or over</td>\n",
       "      <td>Male</td>\n",
       "      <td>Angina Pectoris Prevention</td>\n",
       "    </tr>\n",
       "    <tr>\n",
       "      <th>4</th>\n",
       "      <td>5</td>\n",
       "      <td>75 or over</td>\n",
       "      <td>Male</td>\n",
       "      <td>Angina Pectoris Prevention</td>\n",
       "    </tr>\n",
       "  </tbody>\n",
       "</table>\n",
       "</div>"
      ],
      "text/plain": [
       "   UserId         Age     Sex                   Condition\n",
       "0       1  75 or over    Male                       Other\n",
       "1       2       55-64  Female                       Other\n",
       "2       3  75 or over    Male  Angina Pectoris Prevention\n",
       "3       4  75 or over    Male  Angina Pectoris Prevention\n",
       "4       5  75 or over    Male  Angina Pectoris Prevention"
      ]
     },
     "execution_count": 12,
     "metadata": {},
     "output_type": "execute_result"
    }
   ],
   "source": [
    "# Data User\n",
    "df_user = pd.DataFrame({'Age':df_drugs_sub['Age'],\n",
    "                        'Sex':df_drugs_sub['Sex'],\n",
    "                        'Condition':df_drugs_sub['Condition']})\n",
    "\n",
    "# buat kolom UserId berdasarkan index setiap baris\n",
    "df_user[\"UserId\"] = df_user.index + 1\n",
    "# rapikan posisi kolom dengan memindahkan \n",
    "# posisi kolom \"UserId\" ke kolom pertama\n",
    "df_user = df_user[['UserId','Age','Sex','Condition']]\n",
    "df_user.head()"
   ]
  },
  {
   "cell_type": "code",
   "execution_count": 13,
   "metadata": {
    "scrolled": true
   },
   "outputs": [
    {
     "data": {
      "text/html": [
       "<div>\n",
       "<style scoped>\n",
       "    .dataframe tbody tr th:only-of-type {\n",
       "        vertical-align: middle;\n",
       "    }\n",
       "\n",
       "    .dataframe tbody tr th {\n",
       "        vertical-align: top;\n",
       "    }\n",
       "\n",
       "    .dataframe thead th {\n",
       "        text-align: right;\n",
       "    }\n",
       "</style>\n",
       "<table border=\"1\" class=\"dataframe\">\n",
       "  <thead>\n",
       "    <tr style=\"text-align: right;\">\n",
       "      <th></th>\n",
       "      <th>UserId</th>\n",
       "      <th>ItemId</th>\n",
       "      <th>EaseofUse</th>\n",
       "      <th>Effectiveness</th>\n",
       "      <th>Satisfaction</th>\n",
       "    </tr>\n",
       "  </thead>\n",
       "  <tbody>\n",
       "    <tr>\n",
       "      <th>0</th>\n",
       "      <td>1</td>\n",
       "      <td>1</td>\n",
       "      <td>1</td>\n",
       "      <td>1</td>\n",
       "      <td>1</td>\n",
       "    </tr>\n",
       "    <tr>\n",
       "      <th>1</th>\n",
       "      <td>2</td>\n",
       "      <td>1</td>\n",
       "      <td>1</td>\n",
       "      <td>5</td>\n",
       "      <td>1</td>\n",
       "    </tr>\n",
       "    <tr>\n",
       "      <th>2</th>\n",
       "      <td>3</td>\n",
       "      <td>1</td>\n",
       "      <td>5</td>\n",
       "      <td>5</td>\n",
       "      <td>5</td>\n",
       "    </tr>\n",
       "    <tr>\n",
       "      <th>3</th>\n",
       "      <td>4</td>\n",
       "      <td>1</td>\n",
       "      <td>5</td>\n",
       "      <td>5</td>\n",
       "      <td>5</td>\n",
       "    </tr>\n",
       "    <tr>\n",
       "      <th>4</th>\n",
       "      <td>5</td>\n",
       "      <td>1</td>\n",
       "      <td>5</td>\n",
       "      <td>5</td>\n",
       "      <td>5</td>\n",
       "    </tr>\n",
       "  </tbody>\n",
       "</table>\n",
       "</div>"
      ],
      "text/plain": [
       "   UserId  ItemId  EaseofUse  Effectiveness  Satisfaction\n",
       "0       1       1          1              1             1\n",
       "1       2       1          1              5             1\n",
       "2       3       1          5              5             5\n",
       "3       4       1          5              5             5\n",
       "4       5       1          5              5             5"
      ]
     },
     "execution_count": 13,
     "metadata": {},
     "output_type": "execute_result"
    }
   ],
   "source": [
    "# Data Rating\n",
    "df_tmp2 = df_drugs_sub.copy()\n",
    "# ubah nilai ActiveIngredients dari list of string menjadi\n",
    "# string untuk memungkinkan fungsi drop_duplicates dijalankan\n",
    "df_tmp2['ActiveIngredients'] = [\" \".join(i) for i in df_tmp2['ActiveIngredients']]\n",
    "# ubah nilai InactiveIngredients dari list of string menjadi\n",
    "# string untuk memungkinkan fungsi drop_duplicates dijalankan\n",
    "df_tmp2['InactiveIngredients'] = [\" \".join(i) for i in df_tmp2['InactiveIngredients']]\n",
    "# ubah nilai Sides dari list of string menjadi\n",
    "# string untuk memungkinkan fungsi drop_duplicates dijalankan\n",
    "df_tmp2['Sides'] = [\" \".join(i) for i in df_tmp2['Sides']]\n",
    "\n",
    "df_tmp = df_item.copy()\n",
    "# ubah nilai ActiveIngredients dari list of string menjadi\n",
    "# string untuk memungkinkan fungsi drop_duplicates dijalankan\n",
    "df_tmp['ActiveIngredients'] = [\" \".join(i) for i in df_tmp['ActiveIngredients']]\n",
    "# ubah nilai InactiveIngredients dari list of string menjadi\n",
    "# string untuk memungkinkan fungsi drop_duplicates dijalankan\n",
    "df_tmp['InactiveIngredients'] = [\" \".join(i) for i in df_tmp['InactiveIngredients']]\n",
    "# ubah nilai Sides dari list of string menjadi\n",
    "# string untuk memungkinkan fungsi drop_duplicates dijalankan\n",
    "df_tmp['Sides'] = [\" \".join(i) for i in df_tmp['Sides']]\n",
    "\n",
    "df_rating = df_tmp2.merge(df_tmp,\n",
    "                          how=\"left\",\n",
    "                          on=[\"Drug\", \"ActiveIngredients\", \"InactiveIngredients\", \"Sides\"])\n",
    "df_rating[\"UserId\"] = df_user[\"UserId\"]\n",
    "df_rating = df_rating[['UserId',\n",
    "                       'ItemId',\n",
    "                       'EaseofUse',\n",
    "                       'Effectiveness',\n",
    "                       'Satisfaction']]\n",
    "df_rating.head()"
   ]
  },
  {
   "cell_type": "code",
   "execution_count": 14,
   "metadata": {},
   "outputs": [],
   "source": [
    "# one hot encoding pada kolom Condition\n",
    "one_hot = pd.get_dummies(df_user['Condition'])\n",
    "# hapus kolom Condition karena saat ini sudah di-encode\n",
    "df_user = df_user.drop('Condition', axis = 1)\n",
    "# gabungkan hasil encode ke df_user\n",
    "df_user = df_user.join(one_hot)\n",
    "\n",
    "# one hot encoding pada kolom Sex\n",
    "one_hot = pd.get_dummies(df_user['Sex'])\n",
    "# hapus kolom Sex karena saat ini sudah di-encode\n",
    "df_user = df_user.drop('Sex', axis = 1)\n",
    "# gabungkan hasil encode ke df_user\n",
    "df_user = df_user.join(one_hot)\n",
    "\n",
    "# ordinal label encoding map untuk nilai pada Age\n",
    "map_age = {'0-2':0,\n",
    "           '3-6':1,\n",
    "           '7-12':2,\n",
    "           '13-18':3,\n",
    "           '19-24':4,\n",
    "           '25-34':5,\n",
    "           '35-44':6,\n",
    "           '45-54':7,\n",
    "           '55-64':8,\n",
    "           '65-74':9,\n",
    "           '75 or over':10}\n",
    "df_tmp = df_user.copy()\n",
    "# label encoding pada Age\n",
    "df_user[\"Age\"] = df_tmp[\"Age\"].map(map_age)"
   ]
  },
  {
   "cell_type": "code",
   "execution_count": 15,
   "metadata": {},
   "outputs": [],
   "source": [
    "# one-hot encoding pada kolom ActiveIngredients\n",
    "mlb = MultiLabelBinarizer()\n",
    "df_item = df_item.join(pd.DataFrame(mlb.fit_transform(df_item.pop(\"ActiveIngredients\")),\n",
    "                                    columns=mlb.classes_,\n",
    "                                    index=df_item.index))\n",
    "\n",
    "# one-hot encoding pada kolom InactiveIngredients\n",
    "mlb = MultiLabelBinarizer()\n",
    "df_item = df_item.join(pd.DataFrame(mlb.fit_transform(df_item.pop(\"InactiveIngredients\")),\n",
    "                                    columns=mlb.classes_,\n",
    "                                    index=df_item.index))\n",
    "\n",
    "# one-hot encoding pada kolom Sides\n",
    "mlb = MultiLabelBinarizer()\n",
    "df_item = df_item.join(pd.DataFrame(mlb.fit_transform(df_item.pop(\"Sides\")),\n",
    "                                    columns=mlb.classes_,\n",
    "                                    index=df_item.index))\n",
    "\n",
    "# hapus kolom Drug (id=1), [] (id=23), \" \" (id=100)\n",
    "df_item = df_item.drop(df_item.iloc[:, [1, 23, 100]], axis=1)"
   ]
  },
  {
   "cell_type": "markdown",
   "metadata": {},
   "source": [
    "## 5. Pembangunan Model Rekomendasi\n"
   ]
  },
  {
   "cell_type": "markdown",
   "metadata": {},
   "source": [
    "Pada tahap pembangunan model rekomendasi, data dibagi menjadi 70% data latih dan sisanya 30% data uji"
   ]
  },
  {
   "cell_type": "code",
   "execution_count": 16,
   "metadata": {},
   "outputs": [],
   "source": [
    "# 70% baris data dipilih secara random \n",
    "# sebagai data train dan sisanya sebagai data test\n",
    "df_rating_train = df_rating.sample(frac = 0.7)\n",
    "df_rating_train = df_rating_train.reset_index(drop=True)\n",
    "df_rating_test = df_rating.drop(df_rating_train.index)\n",
    "df_rating_test = df_rating_test.reset_index(drop=True)"
   ]
  },
  {
   "cell_type": "code",
   "execution_count": 17,
   "metadata": {},
   "outputs": [],
   "source": [
    "x_train = df_rating_train[['UserId', 'ItemId']]\n",
    "y_train = df_rating_train[['Satisfaction']]\n",
    "x_test = df_rating_test[['UserId', 'ItemId']]\n",
    "y_test = df_rating_test['Satisfaction']"
   ]
  },
  {
   "cell_type": "code",
   "execution_count": 18,
   "metadata": {},
   "outputs": [],
   "source": [
    "# merge df_item dan df_user untuk masing-masing set data latih dan uji\n",
    "x_train = x_train.join(df_user.set_index('UserId'),\n",
    "                       on = 'UserId').join(df_item.set_index('ItemId'),\n",
    "                                           on = 'ItemId')\n",
    "\n",
    "x_test = x_test.join(df_user.set_index('UserId'),\n",
    "                     on = 'UserId').join(df_item.set_index('ItemId'),\n",
    "                                         on = 'ItemId')"
   ]
  },
  {
   "cell_type": "markdown",
   "metadata": {},
   "source": [
    "x_train digabung untuk mengambil semua atribute pada dataframe user dan dataframe item dengan menggunakan UserId dan ItemId"
   ]
  },
  {
   "cell_type": "markdown",
   "metadata": {},
   "source": [
    "### Recommendation Model Setting"
   ]
  },
  {
   "cell_type": "markdown",
   "metadata": {},
   "source": [
    "#### Content-based Filtering based on Random Forest"
   ]
  },
  {
   "cell_type": "code",
   "execution_count": 19,
   "metadata": {
    "scrolled": true
   },
   "outputs": [
    {
     "data": {
      "text/plain": [
       "RandomForestClassifier()"
      ]
     },
     "execution_count": 19,
     "metadata": {},
     "output_type": "execute_result"
    }
   ],
   "source": [
    "# model 1\n",
    "model1 = RandomForestClassifier()\n",
    "model1.fit(x_train.iloc[:, 2:x_train.shape[1]].values, \n",
    "           y_train[\"Satisfaction\"].values)"
   ]
  },
  {
   "cell_type": "markdown",
   "metadata": {},
   "source": [
    "Model1 rekomendasi yang digunakan untuk content-based filtering adalah RandomForestClasifier"
   ]
  },
  {
   "cell_type": "markdown",
   "metadata": {},
   "source": [
    "#### Collaborative-based Filtering based on k-Nearest Neighbors"
   ]
  },
  {
   "cell_type": "code",
   "execution_count": 20,
   "metadata": {},
   "outputs": [
    {
     "data": {
      "text/plain": [
       "KNeighborsClassifier(metric='cosine')"
      ]
     },
     "execution_count": 20,
     "metadata": {},
     "output_type": "execute_result"
    }
   ],
   "source": [
    "# model 2\n",
    "model2 = KNeighborsClassifier(metric='cosine',)\n",
    "model2.fit(x_train.iloc[:, 2:x_train.shape[1]].values, \n",
    "           y_train[\"Satisfaction\"].values)"
   ]
  },
  {
   "cell_type": "markdown",
   "metadata": {},
   "source": [
    "Model2 rekomendasi yang digunakan untuk Collaborative-based Filtering based on k-Nearest Neigboard adalah KNeighborsClassifier"
   ]
  },
  {
   "cell_type": "markdown",
   "metadata": {},
   "source": [
    "## 6. Pengujian Model Rekomendasi"
   ]
  },
  {
   "cell_type": "markdown",
   "metadata": {},
   "source": [
    "#### Content-based Filtering based on Random Forest"
   ]
  },
  {
   "cell_type": "code",
   "execution_count": 21,
   "metadata": {},
   "outputs": [
    {
     "name": "stdout",
     "output_type": "stream",
     "text": [
      "content-based rmse = 1.9026186673074073\n"
     ]
    }
   ],
   "source": [
    "pred1 = model1.predict(x_test.iloc[:, 2:x_test.shape[1]].values)\n",
    "rmse = np.sqrt(np.mean((pred1 - y_test.to_numpy())**2))\n",
    "print(f'content-based rmse = {rmse}')"
   ]
  },
  {
   "cell_type": "markdown",
   "metadata": {},
   "source": [
    "#### Collaborative-based Filtering based on k-Nearest Neighbors"
   ]
  },
  {
   "cell_type": "code",
   "execution_count": 22,
   "metadata": {},
   "outputs": [
    {
     "name": "stdout",
     "output_type": "stream",
     "text": [
      "content-based rmse = 1.9825588627470456\n"
     ]
    }
   ],
   "source": [
    "pred2 = model2.predict(x_test.iloc[:, 2:x_test.shape[1]].values)\n",
    "rmse = np.sqrt(np.mean((pred2 - y_test.to_numpy())**2))\n",
    "print(f'content-based rmse = {rmse}')"
   ]
  },
  {
   "cell_type": "markdown",
   "metadata": {},
   "source": [
    "#### Hybrid\n",
    "\n",
    "Gunakan fungsi `linspace` pada NumPy untuk membuat sekuens _weight_."
   ]
  },
  {
   "cell_type": "code",
   "execution_count": 23,
   "metadata": {
    "scrolled": true
   },
   "outputs": [
    {
     "data": {
      "text/plain": [
       "[<matplotlib.lines.Line2D at 0x1f6dde301c0>]"
      ]
     },
     "execution_count": 23,
     "metadata": {},
     "output_type": "execute_result"
    },
    {
     "data": {
      "image/png": "[encoded data removed]",
      "text/plain": [
       "<Figure size 432x288 with 1 Axes>"
      ]
     },
     "metadata": {
      "needs_background": "light"
     },
     "output_type": "display_data"
    }
   ],
   "source": [
    "chart_val = []\n",
    "\n",
    "w = np.linspace(0,1,21)\n",
    "\n",
    "for i in w:\n",
    "    pred3 = pred1*i + pred2*(1-i)\n",
    "    rmse = np.sqrt(np.mean((pred3 - y_test.to_numpy())**2))\n",
    "    chart_val.append([i, rmse])\n",
    "\n",
    "chart_val_np = np.array(chart_val)\n",
    "plt.plot(chart_val_np[:, 0], chart_val_np[:,1])"
   ]
  },
  {
   "cell_type": "markdown",
   "metadata": {},
   "source": [
    "Dapat dilihat bahwa _weight_ terbaik (RMSE terkecil) adalah di antara `0,4` s.d. `0.6`."
   ]
  },
  {
   "cell_type": "markdown",
   "metadata": {},
   "source": [
    "---"
   ]
  }
 ],
 "metadata": {
  "colab": {
   "collapsed_sections": [],
   "name": "TA-102.ipynb",
   "provenance": []
  },
  "kernelspec": {
   "display_name": "Python 3 (ipykernel)",
   "language": "python",
   "name": "python3"
  },
  "language_info": {
   "codemirror_mode": {
    "name": "ipython",
    "version": 3
   },
   "file_extension": ".py",
   "mimetype": "text/x-python",
   "name": "python",
   "nbconvert_exporter": "python",
   "pygments_lexer": "ipython3",
   "version": "3.9.12"
  }
 },
 "nbformat": 4,
 "nbformat_minor": 1
}
