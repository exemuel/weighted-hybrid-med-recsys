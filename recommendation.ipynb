{
 "cells": [
  {
   "cell_type": "markdown",
   "metadata": {
    "id": "nTGCMKSzVXtF"
   },
   "source": [
    "# Notebook\n",
    "## Sistem Rekomendasi Obat berdasarkan _Weighted Hybrid Approach_\n",
    "\n",
    "Notebook ini menyajikan penerapan dan eksperimentasi _weighted hybrid approach_ pada sistem rekomendasi obat. _Weighted hybrid approach_ yang diusulkan merupakan kombinasi antara .... dan .... . Beberapa teknik pembobotan yang akan dimasukkan dalam eksperimentasi antara lain ...., ...., dan ....."
   ]
  },
  {
   "cell_type": "markdown",
   "metadata": {
    "id": "XIftJR9dUmmb"
   },
   "source": [
    "## 1. Pustaka\n",
    "\n",
    "Impor pustaka yang dibutuhkan."
   ]
  },
  {
   "cell_type": "code",
   "execution_count": 1,
   "metadata": {
    "id": "ejBtEAGbKzpI"
   },
   "outputs": [],
   "source": [
    "# pustaka eksternal\n",
    "import pandas as pd\n",
    "import plotly.graph_objects as go\n",
    "\n",
    "# pustaka custom\n",
    "from analysis import *"
   ]
  },
  {
   "cell_type": "markdown",
   "metadata": {
    "id": "h3_BPWQqX9mt"
   },
   "source": [
    "## 2. Persiapan Set Data\n",
    "\n",
    "Pada bagian ini, dilakukan persiapan set data yang dibutuhkan dalam penelitian. Karena set data yang sesuai untuk secara langsung digunakan dalam penelitian ini belum tersedia saat penelitian ini dikerjakan, maka Peneliti melakukan pengumpulan data dari beberapa sumber dan menggabungkannya.\n",
    "\n",
    "Set data `WebMD` dan `DailyMed` digabungkan dalam struktur data DataFrame."
   ]
  },
  {
   "cell_type": "code",
   "execution_count": 3,
   "metadata": {
    "id": "OBNcD-4TKzpT"
   },
   "outputs": [],
   "source": [
    "# berkas WebMD Drug Reviews oleh Rohan Harode dari Kaggle\n",
    "path_wmd = 'D:\\JUPYTER NOTEBOOK\\TUGAS AKHIR\\data\\webmd.csv'\n",
    "\n",
    "# berkas DailyMed Drug dari situs web DailyMed\n",
    "# yang dikompilasi dengan menggunakan generate_dailymed.py\n",
    "path_dm = 'D:\\JUPYTER NOTEBOOK\\TUGAS AKHIR\\data\\dailyMed.csv'\n",
    "\n",
    "df_wmd = pd.read_csv(path_wmd)\n",
    "df_dm = pd.read_csv(path_dm)"
   ]
  },
  {
   "cell_type": "markdown",
   "metadata": {},
   "source": [
    "Atribut yang diperlukan sebagai pelengkap data pada WebMD, antara lain:\n",
    "1. nama obat secara umum pada kolom `sub_name`\n",
    "2. daftar bahan aktif pada kolom `list_activeIngredient`, dan \n",
    "3. daftar bahan inaktif pada kolom `list_activeIngredient`.\n",
    "\n",
    "Oleh karena itu, perlu dilakukan seleksi kolom pada DataFrame `df_dm` sebagai berikut."
   ]
  },
  {
   "cell_type": "code",
   "execution_count": 5,
   "metadata": {},
   "outputs": [],
   "source": [
    "df_dm = df_dm[[\"SubName\", \"ListActiveIngredient\", \"ListInactiveIngredient\"]]"
   ]
  },
  {
   "cell_type": "markdown",
   "metadata": {},
   "source": [
    "Gabungkan DataFrame DailyMed `df_dm` dan DataFrame MebMD `df_wmd` dengan menggunakan kolom `sub_name` di `df_dm` dan kolom `Drug` di `df_wmd` sebagai indeks pengabungan."
   ]
  },
  {
   "cell_type": "code",
   "execution_count": 7,
   "metadata": {},
   "outputs": [],
   "source": [
    "df_drugs = pd.merge(df_dm, df_wmd, left_on = \"SubName\", right_on = \"Drug\")"
   ]
  },
  {
   "cell_type": "markdown",
   "metadata": {},
   "source": [
    "## 3. Analisis Data\n",
    "\n",
    "Dalam penelitian ini, analisis dilakukan pada `df_drugs` untuk memahami tipe data dan mengidentifikasi kesalahan. Informasi tersebut digunakan untuk menentukan prosedur yang sesuai dalam tahap prapemrosesan."
   ]
  },
  {
   "cell_type": "markdown",
   "metadata": {},
   "source": [
    "Kita mulai dengan menghitung jumlah masing-masing nilai yang berbeda pada kolom `Drug` untuk mengetahui jumlah baris data untuk setiap obat. Informasi ini diperlukan untuk memastikan kecukupan data penelitian."
   ]
  },
  {
   "cell_type": "code",
   "execution_count": 8,
   "metadata": {
    "scrolled": true
   },
   "outputs": [
    {
     "data": {
      "text/plain": [
       "lisinopril             12807\n",
       "simvastatin             7203\n",
       "benzonatate             5999\n",
       "meloxicam               5394\n",
       "prednisone              5152\n",
       "                       ...  \n",
       "zolmitriptan               5\n",
       "sevelamer carbonate        3\n",
       "bexarotene                 2\n",
       "caffeine citrate           2\n",
       "cromolyn sodium            2\n",
       "Name: Drug, Length: 74, dtype: int64"
      ]
     },
     "metadata": {},
     "output_type": "display_data"
    }
   ],
   "source": [
    "display(df_drugs[\"Drug\"].value_counts())"
   ]
  },
  {
   "cell_type": "markdown",
   "metadata": {},
   "source": [
    "Pada sel tersebut, kita dapat melihat rentang nilai dari setiap atribut. untuk attribut sub_name: 74 kategori, List_activeIngredient: 137 kategori, list_inactiveIngredient: 132 kategori, Age: 11 kategori, Condition: 405 kategori, Date: 3884 kategori, Drug:74 kategori, DrugId: 74 kategori, EaseofUse: 5 kategori, Effectiveness: 5 kategori, Reviews: 16967 kategori, Satisfaction: 5 kategori, Sex: 2 kategori, Sides: 69 kategori, UsefulCount: 94 kategori. "
   ]
  },
  {
   "cell_type": "markdown",
   "metadata": {},
   "source": [
    "## Type Data"
   ]
  },
  {
   "cell_type": "code",
   "execution_count": 14,
   "metadata": {},
   "outputs": [
    {
     "data": {
      "text/plain": [
       "SubName                   object\n",
       "ListActiveIngredient      object\n",
       "ListInactiveIngredient    object\n",
       "Age                       object\n",
       "Condition                 object\n",
       "Date                      object\n",
       "Drug                      object\n",
       "DrugId                     int64\n",
       "EaseofUse                  int64\n",
       "Effectiveness              int64\n",
       "Reviews                   object\n",
       "Satisfaction               int64\n",
       "Sex                       object\n",
       "Sides                     object\n",
       "UsefulCount                int64\n",
       "dtype: object"
      ]
     },
     "execution_count": 14,
     "metadata": {},
     "output_type": "execute_result"
    }
   ],
   "source": [
    "df_drugs.dtypes"
   ]
  },
  {
   "cell_type": "markdown",
   "metadata": {},
   "source": [
    "Untuk memeriksa tipe data dari masing2 varibael/kolom/fitur dengan menggunakan .dtypes. untuk dtype (object) pada pandas digunakan untuk tipe data Teks atau campuran nilai numerik dan non-numeric. untuk dtype (int64) pada pandas digunakan untuk tipe data Integer numbers. Pada sel diatas, kita dapat melihat bahwa 2 jenis type data yang muncul yaitu object dan int64."
   ]
  },
  {
   "cell_type": "code",
   "execution_count": 15,
   "metadata": {},
   "outputs": [
    {
     "name": "stdout",
     "output_type": "stream",
     "text": [
      "SubName : acarbose           24\n",
      "acetazolamide     285\n",
      "aripiprazole      477\n",
      "baclofen          550\n",
      "benzonatate      5999\n",
      "                 ... \n",
      "valproic acid     124\n",
      "voriconazole       33\n",
      "zaleplon           82\n",
      "zolmitriptan        5\n",
      "zonisamide        202\n",
      "Length: 74, dtype: int64\n",
      "ListActiveIngredient : [['ACARBOSE', '25', 'mg', '1', '1']]           24\n",
      "[['ACETAZOLAMIDE', '125', 'mg', '1', '1']]     95\n",
      "[['ACETAZOLAMIDE', '250', 'mg', '1', '1']]     95\n",
      "[['ACETAZOLAMIDE', '500', 'mg', '1', '1']]     95\n",
      "[['ARIPIPRAZOLE', '1', 'mg', '1', 'mL']]       53\n",
      "                                             ... \n",
      "[['linezolid', '2', 'mg', '1', 'mL']]           4\n",
      "[['lovastatin', '10', 'mg', '1', '1']]        168\n",
      "[['metolazone', '2.5', 'mg', '1', '1']]        27\n",
      "[['ofloxacin', '3', 'mg', '1', 'mL']]           9\n",
      "[['valproic acid', '250', 'mg', '1', '1']]     62\n",
      "Length: 137, dtype: int64\n",
      "ListInactiveIngredient : [['ACETIC ACID', '', '', '', ''], ['SODIUM CHLORIDE', '', '', '', ''], ['SODIUM ACETATE', '', '', '', ''], ['WATER', '', '', '', '']]                                                                                                                                                                                                                                                                                                                                                                                                                                                                                                                                                                                                                                                                                                                                                                                                                                                                                                                      117\n",
      "[['ALCOHOL', '', '', '', ''], ['ANHYDROUS CITRIC ACID', '', '', '', ''], ['HYDROCHLORIC ACID', '', '', '', ''], ['POLYSORBATE 80', '', '', '', ''], ['SODIUM HYDROXIDE', '', '', '', ''], ['WATER', '', '', '', '']]                                                                                                                                                                                                                                                                                                                                                                                                                                                                                                                                                                                                                                                                                                                                                                                                                                        19\n",
      "[['ALCOHOL', '', '', '', ''], ['CITRIC ACID MONOHYDRATE', '', '', '', ''], ['PROPYLENE GLYCOL', '', '', '', '']]                                                                                                                                                                                                                                                                                                                                                                                                                                                                                                                                                                                                                                                                                                                                                                                                                                                                                                                                            73\n",
      "[['AMMONIA', '', '', '', ''], ['ETHYLCELLULOSES', '', '', '', ''], ['GELATIN', '', '', '', ''], ['HYDROXYPROPYL CELLULOSE (1600000 WAMW)', '', '', '', ''], ['HYPROMELLOSES', '', '', '', ''], ['MEDIUM-CHAIN TRIGLYCERIDES', '', '', '', ''], ['OLEIC ACID', '', '', '', ''], ['POLYETHYLENE GLYCOL, UNSPECIFIED', '', '', '', ''], ['SUCROSE', '', '', '', ''], ['STARCH, CORN', '', '', '', ''], ['FERROSOFERRIC OXIDE', '', '', '', ''], ['FERRIC OXIDE RED', '', '', '', ''], ['SILICON DIOXIDE', '', '', '', ''], ['SODIUM LAURYL SULFATE', '', '', '', ''], ['TALC', '', '', '', ''], ['TITANIUM DIOXIDE', '', '', '', ''], ['FERRIC OXIDE YELLOW', '', '', '', ''], ['BUTYL ALCOHOL', '', '', '', ''], ['ALCOHOL', '', '', '', ''], ['ISOPROPYL ALCOHOL', '', '', '', ''], ['POTASSIUM HYDROXIDE', '', '', '', ''], ['PROPYLENE GLYCOL', '', '', '', ''], ['WATER', '', '', '', ''], ['SHELLAC', '', '', '', '']]                                                                                                                                   88\n",
      "[['AMMONIA', '', '', '', ''], ['FERROSOFERRIC OXIDE', '', '', '', ''], ['ETHYLCELLULOSE, UNSPECIFIED', '', '', '', ''], ['GELATIN, UNSPECIFIED', '', '', '', ''], ['HYPROMELLOSE, UNSPECIFIED', '', '', '', ''], ['HYDROXYPROPYL CELLULOSE, UNSPECIFIED', '', '', '', ''], ['MEDIUM-CHAIN TRIGLYCERIDES', '', '', '', ''], ['OLEIC ACID', '', '', '', ''], ['POTASSIUM HYDROXIDE', '', '', '', ''], ['PROPYLENE GLYCOL', '', '', '', ''], ['FERRIC OXIDE RED', '', '', '', ''], ['SHELLAC', '', '', '', ''], ['SILICON DIOXIDE', '', '', '', ''], ['SODIUM LAURYL SULFATE', '', '', '', ''], ['SUCROSE', '', '', '', ''], ['STARCH, CORN', '', '', '', ''], ['TALC', '', '', '', ''], ['TITANIUM DIOXIDE', '', '', '', ''], ['FERRIC OXIDE YELLOW', '', '', '', ''], ['ALCOHOL', '', '', '', ''], ['POLYETHYLENE GLYCOL, UNSPECIFIED', '', '', '', ''], ['BUTYL ALCOHOL', '', '', '', ''], ['ISOPROPYL ALCOHOL', '', '', '', ''], ['WATER', '', '', '', ''], ['POLYETHYLENE GLYCOL 400', '', '', '', ''], ['POLYETHYLENE GLYCOL 8000', '', '', '', '']]     88\n",
      "                                                                                                                                                                                                                                                                                                                                                                                                                                                                                                                                                                                                                                                                                                                                                                                                                                                                                                                                                                                                                                                          ... \n",
      "[['sodium chloride', '', '', '', ''], ['hydrochloric acid', '', '', '', ''], ['chlorobutanol', '', '', '', '']]                                                                                                                                                                                                                                                                                                                                                                                                                                                                                                                                                                                                                                                                                                                                                                                                                                                                                                                                             30\n",
      "[['sodium chloride', '', '', '', ''], ['hydrochloric acid', '', '', '', ''], ['sodium hydroxide', '', '', '', ''], ['benzalkonium chloride', '0.05', 'mg', '1', 'mL']]                                                                                                                                                                                                                                                                                                                                                                                                                                                                                                                                                                                                                                                                                                                                                                                                                                                                                       9\n",
      "[['sodium chloride', '', '', '', ''], ['hydrochloric acid', '', '', '', '']]                                                                                                                                                                                                                                                                                                                                                                                                                                                                                                                                                                                                                                                                                                                                                                                                                                                                                                                                                                                30\n",
      "[['sodium citrate, unspecified form', '', '', '', ''], ['anhydrous citric acid', '', '', '', ''], ['dextrose monohydrate', '', '', '', ''], ['sodium hydroxide', '', '', '', ''], ['hydrochloric acid', '', '', '', '']]                                                                                                                                                                                                                                                                                                                                                                                                                                                                                                                                                                                                                                                                                                                                                                                                                                     4\n",
      "[]                                                                                                                                                                                                                                                                                                                                                                                                                                                                                                                                                                                                                                                                                                                                                                                                                                                                                                                                                                                                                                                         158\n",
      "Length: 132, dtype: int64\n",
      "Age :                1941\n",
      "0-2              36\n",
      "13-18           566\n",
      "19-24          2295\n",
      "25-34          5712\n",
      "3-6              48\n",
      "35-44          8011\n",
      "45-54         14618\n",
      "55-64         15621\n",
      "65-74          9028\n",
      "7-12            178\n",
      "75 or over     3615\n",
      "dtype: int64\n",
      "Condition :                                                            11\n",
      "\"Change of Life\" Signs                                     17\n",
      "A Condition of Bladder Dysfunction from Nerve Disorder      2\n",
      "A Fungal Infection - Aspergillosis                          6\n",
      "A Hereditary Progressive Anemia of Unknown Cause           18\n",
      "                                                         ... \n",
      "Wide-Angle Glaucoma                                         2\n",
      "Worsening of Asthma                                        66\n",
      "Yeast Infection of Vagina and Vulva                       460\n",
      "infection                                                   3\n",
      "infection caused by bacteria                               19\n",
      "Length: 405, dtype: int64\n"
     ]
    },
    {
     "name": "stdout",
     "output_type": "stream",
     "text": [
      "Date : 1/1/2008    29\n",
      "1/1/2009    34\n",
      "1/1/2010    26\n",
      "1/1/2011    18\n",
      "1/1/2012    10\n",
      "            ..\n",
      "9/9/2013    16\n",
      "9/9/2014     5\n",
      "9/9/2015    20\n",
      "9/9/2016    10\n",
      "9/9/2017     5\n",
      "Length: 3884, dtype: int64\n",
      "Drug : acarbose           24\n",
      "acetazolamide     285\n",
      "aripiprazole      477\n",
      "baclofen          550\n",
      "benzonatate      5999\n",
      "                 ... \n",
      "valproic acid     124\n",
      "voriconazole       33\n",
      "zaleplon           82\n",
      "zolmitriptan        5\n",
      "zonisamide        202\n",
      "Length: 74, dtype: int64\n",
      "DrugId : 676         96\n",
      "911       5394\n",
      "1027       114\n",
      "1049       265\n",
      "1636       352\n",
      "          ... \n",
      "64437      477\n",
      "93290      324\n",
      "94574       23\n",
      "148989     140\n",
      "149812       3\n",
      "Length: 74, dtype: int64\n",
      "EaseofUse : 1     6681\n",
      "2     3137\n",
      "3     7106\n",
      "4    12583\n",
      "5    32162\n",
      "dtype: int64\n",
      "Effectiveness : 1    12037\n",
      "2     6225\n",
      "3    11020\n",
      "4    13830\n",
      "5    18557\n",
      "dtype: int64\n",
      "Reviews : \\n                                                                                                                                                                                                                                                                                                                                                                                                                                                                                                                                                                                                                                                                                                                                                                                                                                                                                                                                                                                                                                                                                                                                                                                                                                                                                                                                                                                                                                                                                                                                                                                                                                                                                                                                                                                                                                                                                                                                                                                                                                                                              3\n",
      "\\nCan this drug be taken on a long term bases? I had a cough for years that I dr with and nothing worked. I was told it can not be taken long term. What is the side effects if taken long term.                                                                                                                                                                                                                                                                                                                                                                                                                                                                                                                                                                                                                                                                                                                                                                                                                                                                                                                                                                                                                                                                                                                                                                                                                                                                                                                                                                                                                                                                                                                                                                                                                                                                                                                                                                                                                                                                                7\n",
      "\\nHas lowered my HBP but will look for a better pill due to bad cough & nasal drip.\\n I don't understand why this cough is not listed as a serious side effect.\\n                                                                                                                                                                                                                                                                                                                                                                                                                                                                                                                                                                                                                                                                                                                                                                                                                                                                                                                                                                                                                                                                                                                                                                                                                                                                                                                                                                                                                                                                                                                                                                                                                                                                                                                                                                                                                                                                                                               3\n",
      "\\nI had really heavy periods and found out my cervix lining is thickened. He did a biopsy and scraped my cervix to get all he could without damaging my insides. So I’m taking these meds to shed any excess lining he said after this I should start a normal period. so crossing my fingers this works! I have to take this pill for 10 days . I started taking it everyday at 12 noon and I am on day 6. The first day I took this pill at 12 noon and within 20 minutes I started my period. The next day I stopped bleeding and had discharge. It didn’t burn or itch but freaked me out. So the 3rd day I didn’t bleed but I had a really bad headache that last for hours, I was nauseous, I felt the need to vomit, I was really hot, started to randomly sweating and I was tired. This happen right after I took the pill at noon and this lasted all night. On this day I had swelling in my fingers. I had to take off my ring because it was so tight.  Saturday I told my mom I was dizzy & nauseous and she suggested  I should just rest. So I slept about 4 to 5 hours and when I woke up I felt refreshed but I did start bleeding again but I was so moody! I was the biggest  B to my boyfriend. I was looking for a fight, everything he said irritated me and we argued all day. I was depressed. ( I feel terrible for my boyfriend) Saturday I was bleeding. I was worried because the last time I bled taking this pill was the first day. Since this pill made me feel sick I took it the next day and took a nap right after so I wouldn’t feel sick. Worked! So today which is Monday is my day 6. took my pill an 12 noon and I started bleeding clots smaller that a golf ball which is ok with me because I’m use to bleeding softball clots and I have really bad cramps. I finally used a tampon which I didn’t want to do because I wanted to get everything out.  I’m praying this works and I can have babies. My biggest fear is not being able to be a mother. Hopefully this works for me to have normal period and praying for you 2    2\n",
      "\\nIf you read my last post the folks that are complainig about pain because of chipped teeth and such. Pretty much the people that are complaining about only are taking them 3 days at a time. Read what the drug treats. PEOPLE WHO ARE ON THIS SITE LOOKING FOR \"BUZZ\" PILLS SHOULD BE SHOT. One person said they almost died. I hate to assume but chances are they didn't take the drug correctly or sometimes people just reject the drug. This drug has been around a long time the late sixties early seventies and the exact pharmancology of the drug is unknown. People are raiding mom and dads medicine cabinets and thinking they get the same buzz as other drugs are putting themselves in peril. This is a maintainence drug and it takes a while before it works. One guy even compared it to oxycontin and valium.Is it me or is it completly assinine to compare Baclofen with opiates and benzos. I'm no doctor but at least research what it is and does before saying anything. Not to be rude but sometimes I can understand why lions eat their young.                                                                                                                                                                                                                                                                                                                                                                                                                                                                                                                                                                                                                                                                                                                                                                                                                                                                                                                                                                                                 1\n",
      "                                                                                                                                                                                                                                                                                                                                                                                                                                                                                                                                                                                                                                                                                                                                                                                                                                                                                                                                                                                                                                                                                                                                                                                                                                                                                                                                                                                                                                                                                                                                                                                                                                                                                                                                                                                                                                                                                                                                                                                                                                                                               ..\n",
      "yet to be able to take medication due to pregnancy\\n                                                                                                                                                                                                                                                                                                                                                                                                                                                                                                                                                                                                                                                                                                                                                                                                                                                                                                                                                                                                                                                                                                                                                                                                                                                                                                                                                                                                                                                                                                                                                                                                                                                                                                                                                                                                                                                                                                                                                                                                                            3\n",
      "you have to have a very strong sleeping are it is very hard to deal with these pills.  when these pills get fully in your blood get ready to swet alot at night. coming down off of them is no picnic either.                                                                                                                                                                                                                                                                                                                                                                                                                                                                                                                                                                                                                                                                                                                                                                                                                                                                                                                                                                                                                                                                                                                                                                                                                                                                                                                                                                                                                                                                                                                                                                                                                                                                                                                                                                                                                                                                   2\n",
      "you need at least 6hrs of sleap time, it works                                                                                                                                                                                                                                                                                                                                                                                                                                                                                                                                                                                                                                                                                                                                                                                                                                                                                                                                                                                                                                                                                                                                                                                                                                                                                                                                                                                                                                                                                                                                                                                                                                                                                                                                                                                                                                                                                                                                                                                                                                  2\n",
      "your body blows up                                                                                                                                                                                                                                                                                                                                                                                                                                                                                                                                                                                                                                                                                                                                                                                                                                                                                                                                                                                                                                                                                                                                                                                                                                                                                                                                                                                                                                                                                                                                                                                                                                                                                                                                                                                                                                                                                                                                                                                                                                                              2\n",
      "“BW” again (see previous review).  I live in Los Angeles, CA and my 10mg Lisinopril is one of the $4 discounted drugs on the Wal-Mart & Target pharmacy list.  However, starting May 2008 Wal-Mart implemented the program whereby the customer can obtain a 90 day supply for $10.   Target is closer to me so I asked Target pharmacy would they “match” Wal-Mart’s offer and they accepted.   I now pay $10 for a 90 day supply of Lisinopril 10 mg which averages $3.33 per month.                                                                                                                                                                                                                                                                                                                                                                                                                                                                                                                                                                                                                                                                                                                                                                                                                                                                                                                                                                                                                                                                                                                                                                                                                                                                                                                                                                                                                                                                                                                                                                                          3\n",
      "Length: 16967, dtype: int64\n",
      "Satisfaction : 1    21189\n",
      "2     6931\n",
      "3     8930\n",
      "4     9397\n",
      "5    15222\n",
      "dtype: int64\n",
      "Sex :            4349\n",
      "Female    38854\n",
      "Male      18466\n",
      "dtype: int64\n",
      "Sides :                                                                                                                                                                                                8868\n",
      "Constipation ,  nausea ,  headache ,  diarrhea ,  vomiting ,  stomach  upset, gas, tremor,  dizziness , drowsiness, or  trouble sleeping  may occur.                                             76\n",
      "Diarrhea ,  dizziness , drowsiness,  hair loss , blurred/ double vision , change in menstrual periods,  ringing in the ears , shakiness (tremor), unsteadiness,  weight  changes may occur.     124\n",
      "Diarrhea ,  headache ,  nausea ,  vomiting , or  dizziness  may occur.                                                                                                                            8\n",
      "Diarrhea ,  nausea ,  vomiting ,  headache , and changes in taste may occur.                                                                                                                    448\n",
      "                                                                                                                                                                                               ... \n",
      "Upset stomach ,  heartburn ,  nausea , menstrual changes, or  headache  may occur.                                                                                                              106\n",
      "Upset stomach ,  nausea ,  diarrhea ,  headache ,  dizziness ,  lightheadedness , or  trouble sleeping  may occur.                                                                               18\n",
      "Upset stomach ,  nausea ,  heartburn ,  diarrhea ,  constipation , gas,  headache , drowsiness, and  dizziness  may occur.                                                                     1192\n",
      "Upset stomach ,  nausea ,  vomiting ,  headache ,  diarrhea ,  constipation ,  dizziness , or drowsiness may occur.                                                                             813\n",
      "Upset stomach ,  nausea ,  vomiting , gas, or  diarrhea  may occur.                                                                                                                              96\n",
      "Length: 69, dtype: int64\n",
      "UsefulCount : 0      11214\n",
      "1       7700\n",
      "2       6022\n",
      "3       4601\n",
      "4       3478\n",
      "       ...  \n",
      "109        6\n",
      "112        3\n",
      "113        3\n",
      "127        2\n",
      "140        3\n",
      "Length: 94, dtype: int64\n"
     ]
    }
   ],
   "source": [
    "for col in df_drugs:\n",
    "    s = pd.get_dummies(df_drugs[col],prefix='', prefix_sep='').sum() \n",
    "    print(col, \":\", s)"
   ]
  },
  {
   "cell_type": "markdown",
   "metadata": {},
   "source": [
    "Pada sel tersebut, kita dapat melihat bahwa ada 74 nama obat dalam `df_drugs`. Obat dengan baris data terbanyak adalah `lisinopril` (12.807), sementara obat dengan baris data tersedikit adalah `cromolyn sodium`, `caffeine citrate`, dan `bexarotene` (2).\n",
    "\n",
    "Jika menggunakan 1000 baris data sebagai ambang batas kecukupan data, maka persentase jumlah obat disajikan sebagai berikut."
   ]
  },
  {
   "cell_type": "code",
   "execution_count": 10,
   "metadata": {
    "scrolled": true
   },
   "outputs": [
    {
     "data": {
      "application/vnd.plotly.v1+json": {
       "config": {
        "plotlyServerURL": "https://plot.ly"
       },
       "data": [
        {
         "hole": 0.5,
         "labels": [
          "Cukup",
          "Tidak Cukup"
         ],
         "type": "pie",
         "values": [
          12,
          62
         ]
        }
       ],
       "layout": {
        "template": {
         "data": {
          "bar": [
           {
            "error_x": {
             "color": "#2a3f5f"
            },
            "error_y": {
             "color": "#2a3f5f"
            },
            "marker": {
             "line": {
              "color": "#E5ECF6",
              "width": 0.5
             },
             "pattern": {
              "fillmode": "overlay",
              "size": 10,
              "solidity": 0.2
             }
            },
            "type": "bar"
           }
          ],
          "barpolar": [
           {
            "marker": {
             "line": {
              "color": "#E5ECF6",
              "width": 0.5
             },
             "pattern": {
              "fillmode": "overlay",
              "size": 10,
              "solidity": 0.2
             }
            },
            "type": "barpolar"
           }
          ],
          "carpet": [
           {
            "aaxis": {
             "endlinecolor": "#2a3f5f",
             "gridcolor": "white",
             "linecolor": "white",
             "minorgridcolor": "white",
             "startlinecolor": "#2a3f5f"
            },
            "baxis": {
             "endlinecolor": "#2a3f5f",
             "gridcolor": "white",
             "linecolor": "white",
             "minorgridcolor": "white",
             "startlinecolor": "#2a3f5f"
            },
            "type": "carpet"
           }
          ],
          "choropleth": [
           {
            "colorbar": {
             "outlinewidth": 0,
             "ticks": ""
            },
            "type": "choropleth"
           }
          ],
          "contour": [
           {
            "colorbar": {
             "outlinewidth": 0,
             "ticks": ""
            },
            "colorscale": [
             [
              0,
              "#0d0887"
             ],
             [
              0.1111111111111111,
              "#46039f"
             ],
             [
              0.2222222222222222,
              "#7201a8"
             ],
             [
              0.3333333333333333,
              "#9c179e"
             ],
             [
              0.4444444444444444,
              "#bd3786"
             ],
             [
              0.5555555555555556,
              "#d8576b"
             ],
             [
              0.6666666666666666,
              "#ed7953"
             ],
             [
              0.7777777777777778,
              "#fb9f3a"
             ],
             [
              0.8888888888888888,
              "#fdca26"
             ],
             [
              1,
              "#f0f921"
             ]
            ],
            "type": "contour"
           }
          ],
          "contourcarpet": [
           {
            "colorbar": {
             "outlinewidth": 0,
             "ticks": ""
            },
            "type": "contourcarpet"
           }
          ],
          "heatmap": [
           {
            "colorbar": {
             "outlinewidth": 0,
             "ticks": ""
            },
            "colorscale": [
             [
              0,
              "#0d0887"
             ],
             [
              0.1111111111111111,
              "#46039f"
             ],
             [
              0.2222222222222222,
              "#7201a8"
             ],
             [
              0.3333333333333333,
              "#9c179e"
             ],
             [
              0.4444444444444444,
              "#bd3786"
             ],
             [
              0.5555555555555556,
              "#d8576b"
             ],
             [
              0.6666666666666666,
              "#ed7953"
             ],
             [
              0.7777777777777778,
              "#fb9f3a"
             ],
             [
              0.8888888888888888,
              "#fdca26"
             ],
             [
              1,
              "#f0f921"
             ]
            ],
            "type": "heatmap"
           }
          ],
          "heatmapgl": [
           {
            "colorbar": {
             "outlinewidth": 0,
             "ticks": ""
            },
            "colorscale": [
             [
              0,
              "#0d0887"
             ],
             [
              0.1111111111111111,
              "#46039f"
             ],
             [
              0.2222222222222222,
              "#7201a8"
             ],
             [
              0.3333333333333333,
              "#9c179e"
             ],
             [
              0.4444444444444444,
              "#bd3786"
             ],
             [
              0.5555555555555556,
              "#d8576b"
             ],
             [
              0.6666666666666666,
              "#ed7953"
             ],
             [
              0.7777777777777778,
              "#fb9f3a"
             ],
             [
              0.8888888888888888,
              "#fdca26"
             ],
             [
              1,
              "#f0f921"
             ]
            ],
            "type": "heatmapgl"
           }
          ],
          "histogram": [
           {
            "marker": {
             "pattern": {
              "fillmode": "overlay",
              "size": 10,
              "solidity": 0.2
             }
            },
            "type": "histogram"
           }
          ],
          "histogram2d": [
           {
            "colorbar": {
             "outlinewidth": 0,
             "ticks": ""
            },
            "colorscale": [
             [
              0,
              "#0d0887"
             ],
             [
              0.1111111111111111,
              "#46039f"
             ],
             [
              0.2222222222222222,
              "#7201a8"
             ],
             [
              0.3333333333333333,
              "#9c179e"
             ],
             [
              0.4444444444444444,
              "#bd3786"
             ],
             [
              0.5555555555555556,
              "#d8576b"
             ],
             [
              0.6666666666666666,
              "#ed7953"
             ],
             [
              0.7777777777777778,
              "#fb9f3a"
             ],
             [
              0.8888888888888888,
              "#fdca26"
             ],
             [
              1,
              "#f0f921"
             ]
            ],
            "type": "histogram2d"
           }
          ],
          "histogram2dcontour": [
           {
            "colorbar": {
             "outlinewidth": 0,
             "ticks": ""
            },
            "colorscale": [
             [
              0,
              "#0d0887"
             ],
             [
              0.1111111111111111,
              "#46039f"
             ],
             [
              0.2222222222222222,
              "#7201a8"
             ],
             [
              0.3333333333333333,
              "#9c179e"
             ],
             [
              0.4444444444444444,
              "#bd3786"
             ],
             [
              0.5555555555555556,
              "#d8576b"
             ],
             [
              0.6666666666666666,
              "#ed7953"
             ],
             [
              0.7777777777777778,
              "#fb9f3a"
             ],
             [
              0.8888888888888888,
              "#fdca26"
             ],
             [
              1,
              "#f0f921"
             ]
            ],
            "type": "histogram2dcontour"
           }
          ],
          "mesh3d": [
           {
            "colorbar": {
             "outlinewidth": 0,
             "ticks": ""
            },
            "type": "mesh3d"
           }
          ],
          "parcoords": [
           {
            "line": {
             "colorbar": {
              "outlinewidth": 0,
              "ticks": ""
             }
            },
            "type": "parcoords"
           }
          ],
          "pie": [
           {
            "automargin": true,
            "type": "pie"
           }
          ],
          "scatter": [
           {
            "fillpattern": {
             "fillmode": "overlay",
             "size": 10,
             "solidity": 0.2
            },
            "type": "scatter"
           }
          ],
          "scatter3d": [
           {
            "line": {
             "colorbar": {
              "outlinewidth": 0,
              "ticks": ""
             }
            },
            "marker": {
             "colorbar": {
              "outlinewidth": 0,
              "ticks": ""
             }
            },
            "type": "scatter3d"
           }
          ],
          "scattercarpet": [
           {
            "marker": {
             "colorbar": {
              "outlinewidth": 0,
              "ticks": ""
             }
            },
            "type": "scattercarpet"
           }
          ],
          "scattergeo": [
           {
            "marker": {
             "colorbar": {
              "outlinewidth": 0,
              "ticks": ""
             }
            },
            "type": "scattergeo"
           }
          ],
          "scattergl": [
           {
            "marker": {
             "colorbar": {
              "outlinewidth": 0,
              "ticks": ""
             }
            },
            "type": "scattergl"
           }
          ],
          "scattermapbox": [
           {
            "marker": {
             "colorbar": {
              "outlinewidth": 0,
              "ticks": ""
             }
            },
            "type": "scattermapbox"
           }
          ],
          "scatterpolar": [
           {
            "marker": {
             "colorbar": {
              "outlinewidth": 0,
              "ticks": ""
             }
            },
            "type": "scatterpolar"
           }
          ],
          "scatterpolargl": [
           {
            "marker": {
             "colorbar": {
              "outlinewidth": 0,
              "ticks": ""
             }
            },
            "type": "scatterpolargl"
           }
          ],
          "scatterternary": [
           {
            "marker": {
             "colorbar": {
              "outlinewidth": 0,
              "ticks": ""
             }
            },
            "type": "scatterternary"
           }
          ],
          "surface": [
           {
            "colorbar": {
             "outlinewidth": 0,
             "ticks": ""
            },
            "colorscale": [
             [
              0,
              "#0d0887"
             ],
             [
              0.1111111111111111,
              "#46039f"
             ],
             [
              0.2222222222222222,
              "#7201a8"
             ],
             [
              0.3333333333333333,
              "#9c179e"
             ],
             [
              0.4444444444444444,
              "#bd3786"
             ],
             [
              0.5555555555555556,
              "#d8576b"
             ],
             [
              0.6666666666666666,
              "#ed7953"
             ],
             [
              0.7777777777777778,
              "#fb9f3a"
             ],
             [
              0.8888888888888888,
              "#fdca26"
             ],
             [
              1,
              "#f0f921"
             ]
            ],
            "type": "surface"
           }
          ],
          "table": [
           {
            "cells": {
             "fill": {
              "color": "#EBF0F8"
             },
             "line": {
              "color": "white"
             }
            },
            "header": {
             "fill": {
              "color": "#C8D4E3"
             },
             "line": {
              "color": "white"
             }
            },
            "type": "table"
           }
          ]
         },
         "layout": {
          "annotationdefaults": {
           "arrowcolor": "#2a3f5f",
           "arrowhead": 0,
           "arrowwidth": 1
          },
          "autotypenumbers": "strict",
          "coloraxis": {
           "colorbar": {
            "outlinewidth": 0,
            "ticks": ""
           }
          },
          "colorscale": {
           "diverging": [
            [
             0,
             "#8e0152"
            ],
            [
             0.1,
             "#c51b7d"
            ],
            [
             0.2,
             "#de77ae"
            ],
            [
             0.3,
             "#f1b6da"
            ],
            [
             0.4,
             "#fde0ef"
            ],
            [
             0.5,
             "#f7f7f7"
            ],
            [
             0.6,
             "#e6f5d0"
            ],
            [
             0.7,
             "#b8e186"
            ],
            [
             0.8,
             "#7fbc41"
            ],
            [
             0.9,
             "#4d9221"
            ],
            [
             1,
             "#276419"
            ]
           ],
           "sequential": [
            [
             0,
             "#0d0887"
            ],
            [
             0.1111111111111111,
             "#46039f"
            ],
            [
             0.2222222222222222,
             "#7201a8"
            ],
            [
             0.3333333333333333,
             "#9c179e"
            ],
            [
             0.4444444444444444,
             "#bd3786"
            ],
            [
             0.5555555555555556,
             "#d8576b"
            ],
            [
             0.6666666666666666,
             "#ed7953"
            ],
            [
             0.7777777777777778,
             "#fb9f3a"
            ],
            [
             0.8888888888888888,
             "#fdca26"
            ],
            [
             1,
             "#f0f921"
            ]
           ],
           "sequentialminus": [
            [
             0,
             "#0d0887"
            ],
            [
             0.1111111111111111,
             "#46039f"
            ],
            [
             0.2222222222222222,
             "#7201a8"
            ],
            [
             0.3333333333333333,
             "#9c179e"
            ],
            [
             0.4444444444444444,
             "#bd3786"
            ],
            [
             0.5555555555555556,
             "#d8576b"
            ],
            [
             0.6666666666666666,
             "#ed7953"
            ],
            [
             0.7777777777777778,
             "#fb9f3a"
            ],
            [
             0.8888888888888888,
             "#fdca26"
            ],
            [
             1,
             "#f0f921"
            ]
           ]
          },
          "colorway": [
           "#636efa",
           "#EF553B",
           "#00cc96",
           "#ab63fa",
           "#FFA15A",
           "#19d3f3",
           "#FF6692",
           "#B6E880",
           "#FF97FF",
           "#FECB52"
          ],
          "font": {
           "color": "#2a3f5f"
          },
          "geo": {
           "bgcolor": "white",
           "lakecolor": "white",
           "landcolor": "#E5ECF6",
           "showlakes": true,
           "showland": true,
           "subunitcolor": "white"
          },
          "hoverlabel": {
           "align": "left"
          },
          "hovermode": "closest",
          "mapbox": {
           "style": "light"
          },
          "paper_bgcolor": "white",
          "plot_bgcolor": "#E5ECF6",
          "polar": {
           "angularaxis": {
            "gridcolor": "white",
            "linecolor": "white",
            "ticks": ""
           },
           "bgcolor": "#E5ECF6",
           "radialaxis": {
            "gridcolor": "white",
            "linecolor": "white",
            "ticks": ""
           }
          },
          "scene": {
           "xaxis": {
            "backgroundcolor": "#E5ECF6",
            "gridcolor": "white",
            "gridwidth": 2,
            "linecolor": "white",
            "showbackground": true,
            "ticks": "",
            "zerolinecolor": "white"
           },
           "yaxis": {
            "backgroundcolor": "#E5ECF6",
            "gridcolor": "white",
            "gridwidth": 2,
            "linecolor": "white",
            "showbackground": true,
            "ticks": "",
            "zerolinecolor": "white"
           },
           "zaxis": {
            "backgroundcolor": "#E5ECF6",
            "gridcolor": "white",
            "gridwidth": 2,
            "linecolor": "white",
            "showbackground": true,
            "ticks": "",
            "zerolinecolor": "white"
           }
          },
          "shapedefaults": {
           "line": {
            "color": "#2a3f5f"
           }
          },
          "ternary": {
           "aaxis": {
            "gridcolor": "white",
            "linecolor": "white",
            "ticks": ""
           },
           "baxis": {
            "gridcolor": "white",
            "linecolor": "white",
            "ticks": ""
           },
           "bgcolor": "#E5ECF6",
           "caxis": {
            "gridcolor": "white",
            "linecolor": "white",
            "ticks": ""
           }
          },
          "title": {
           "x": 0.05
          },
          "xaxis": {
           "automargin": true,
           "gridcolor": "white",
           "linecolor": "white",
           "ticks": "",
           "title": {
            "standoff": 15
           },
           "zerolinecolor": "white",
           "zerolinewidth": 2
          },
          "yaxis": {
           "automargin": true,
           "gridcolor": "white",
           "linecolor": "white",
           "ticks": "",
           "title": {
            "standoff": 15
           },
           "zerolinecolor": "white",
           "zerolinewidth": 2
          }
         }
        }
       }
      },
      "text/html": [
       "<div>                            <div id=\"fc1d6e2d-4c2a-48c2-9b09-7a47f034caca\" class=\"plotly-graph-div\" style=\"height:525px; width:100%;\"></div>            <script type=\"text/javascript\">                require([\"plotly\"], function(Plotly) {                    window.PLOTLYENV=window.PLOTLYENV || {};                                    if (document.getElementById(\"fc1d6e2d-4c2a-48c2-9b09-7a47f034caca\")) {                    Plotly.newPlot(                        \"fc1d6e2d-4c2a-48c2-9b09-7a47f034caca\",                        [{\"hole\":0.5,\"labels\":[\"Cukup\",\"Tidak Cukup\"],\"values\":[12,62],\"type\":\"pie\"}],                        {\"template\":{\"data\":{\"histogram2dcontour\":[{\"type\":\"histogram2dcontour\",\"colorbar\":{\"outlinewidth\":0,\"ticks\":\"\"},\"colorscale\":[[0.0,\"#0d0887\"],[0.1111111111111111,\"#46039f\"],[0.2222222222222222,\"#7201a8\"],[0.3333333333333333,\"#9c179e\"],[0.4444444444444444,\"#bd3786\"],[0.5555555555555556,\"#d8576b\"],[0.6666666666666666,\"#ed7953\"],[0.7777777777777778,\"#fb9f3a\"],[0.8888888888888888,\"#fdca26\"],[1.0,\"#f0f921\"]]}],\"choropleth\":[{\"type\":\"choropleth\",\"colorbar\":{\"outlinewidth\":0,\"ticks\":\"\"}}],\"histogram2d\":[{\"type\":\"histogram2d\",\"colorbar\":{\"outlinewidth\":0,\"ticks\":\"\"},\"colorscale\":[[0.0,\"#0d0887\"],[0.1111111111111111,\"#46039f\"],[0.2222222222222222,\"#7201a8\"],[0.3333333333333333,\"#9c179e\"],[0.4444444444444444,\"#bd3786\"],[0.5555555555555556,\"#d8576b\"],[0.6666666666666666,\"#ed7953\"],[0.7777777777777778,\"#fb9f3a\"],[0.8888888888888888,\"#fdca26\"],[1.0,\"#f0f921\"]]}],\"heatmap\":[{\"type\":\"heatmap\",\"colorbar\":{\"outlinewidth\":0,\"ticks\":\"\"},\"colorscale\":[[0.0,\"#0d0887\"],[0.1111111111111111,\"#46039f\"],[0.2222222222222222,\"#7201a8\"],[0.3333333333333333,\"#9c179e\"],[0.4444444444444444,\"#bd3786\"],[0.5555555555555556,\"#d8576b\"],[0.6666666666666666,\"#ed7953\"],[0.7777777777777778,\"#fb9f3a\"],[0.8888888888888888,\"#fdca26\"],[1.0,\"#f0f921\"]]}],\"heatmapgl\":[{\"type\":\"heatmapgl\",\"colorbar\":{\"outlinewidth\":0,\"ticks\":\"\"},\"colorscale\":[[0.0,\"#0d0887\"],[0.1111111111111111,\"#46039f\"],[0.2222222222222222,\"#7201a8\"],[0.3333333333333333,\"#9c179e\"],[0.4444444444444444,\"#bd3786\"],[0.5555555555555556,\"#d8576b\"],[0.6666666666666666,\"#ed7953\"],[0.7777777777777778,\"#fb9f3a\"],[0.8888888888888888,\"#fdca26\"],[1.0,\"#f0f921\"]]}],\"contourcarpet\":[{\"type\":\"contourcarpet\",\"colorbar\":{\"outlinewidth\":0,\"ticks\":\"\"}}],\"contour\":[{\"type\":\"contour\",\"colorbar\":{\"outlinewidth\":0,\"ticks\":\"\"},\"colorscale\":[[0.0,\"#0d0887\"],[0.1111111111111111,\"#46039f\"],[0.2222222222222222,\"#7201a8\"],[0.3333333333333333,\"#9c179e\"],[0.4444444444444444,\"#bd3786\"],[0.5555555555555556,\"#d8576b\"],[0.6666666666666666,\"#ed7953\"],[0.7777777777777778,\"#fb9f3a\"],[0.8888888888888888,\"#fdca26\"],[1.0,\"#f0f921\"]]}],\"surface\":[{\"type\":\"surface\",\"colorbar\":{\"outlinewidth\":0,\"ticks\":\"\"},\"colorscale\":[[0.0,\"#0d0887\"],[0.1111111111111111,\"#46039f\"],[0.2222222222222222,\"#7201a8\"],[0.3333333333333333,\"#9c179e\"],[0.4444444444444444,\"#bd3786\"],[0.5555555555555556,\"#d8576b\"],[0.6666666666666666,\"#ed7953\"],[0.7777777777777778,\"#fb9f3a\"],[0.8888888888888888,\"#fdca26\"],[1.0,\"#f0f921\"]]}],\"mesh3d\":[{\"type\":\"mesh3d\",\"colorbar\":{\"outlinewidth\":0,\"ticks\":\"\"}}],\"scatter\":[{\"fillpattern\":{\"fillmode\":\"overlay\",\"size\":10,\"solidity\":0.2},\"type\":\"scatter\"}],\"parcoords\":[{\"type\":\"parcoords\",\"line\":{\"colorbar\":{\"outlinewidth\":0,\"ticks\":\"\"}}}],\"scatterpolargl\":[{\"type\":\"scatterpolargl\",\"marker\":{\"colorbar\":{\"outlinewidth\":0,\"ticks\":\"\"}}}],\"bar\":[{\"error_x\":{\"color\":\"#2a3f5f\"},\"error_y\":{\"color\":\"#2a3f5f\"},\"marker\":{\"line\":{\"color\":\"#E5ECF6\",\"width\":0.5},\"pattern\":{\"fillmode\":\"overlay\",\"size\":10,\"solidity\":0.2}},\"type\":\"bar\"}],\"scattergeo\":[{\"type\":\"scattergeo\",\"marker\":{\"colorbar\":{\"outlinewidth\":0,\"ticks\":\"\"}}}],\"scatterpolar\":[{\"type\":\"scatterpolar\",\"marker\":{\"colorbar\":{\"outlinewidth\":0,\"ticks\":\"\"}}}],\"histogram\":[{\"marker\":{\"pattern\":{\"fillmode\":\"overlay\",\"size\":10,\"solidity\":0.2}},\"type\":\"histogram\"}],\"scattergl\":[{\"type\":\"scattergl\",\"marker\":{\"colorbar\":{\"outlinewidth\":0,\"ticks\":\"\"}}}],\"scatter3d\":[{\"type\":\"scatter3d\",\"line\":{\"colorbar\":{\"outlinewidth\":0,\"ticks\":\"\"}},\"marker\":{\"colorbar\":{\"outlinewidth\":0,\"ticks\":\"\"}}}],\"scattermapbox\":[{\"type\":\"scattermapbox\",\"marker\":{\"colorbar\":{\"outlinewidth\":0,\"ticks\":\"\"}}}],\"scatterternary\":[{\"type\":\"scatterternary\",\"marker\":{\"colorbar\":{\"outlinewidth\":0,\"ticks\":\"\"}}}],\"scattercarpet\":[{\"type\":\"scattercarpet\",\"marker\":{\"colorbar\":{\"outlinewidth\":0,\"ticks\":\"\"}}}],\"carpet\":[{\"aaxis\":{\"endlinecolor\":\"#2a3f5f\",\"gridcolor\":\"white\",\"linecolor\":\"white\",\"minorgridcolor\":\"white\",\"startlinecolor\":\"#2a3f5f\"},\"baxis\":{\"endlinecolor\":\"#2a3f5f\",\"gridcolor\":\"white\",\"linecolor\":\"white\",\"minorgridcolor\":\"white\",\"startlinecolor\":\"#2a3f5f\"},\"type\":\"carpet\"}],\"table\":[{\"cells\":{\"fill\":{\"color\":\"#EBF0F8\"},\"line\":{\"color\":\"white\"}},\"header\":{\"fill\":{\"color\":\"#C8D4E3\"},\"line\":{\"color\":\"white\"}},\"type\":\"table\"}],\"barpolar\":[{\"marker\":{\"line\":{\"color\":\"#E5ECF6\",\"width\":0.5},\"pattern\":{\"fillmode\":\"overlay\",\"size\":10,\"solidity\":0.2}},\"type\":\"barpolar\"}],\"pie\":[{\"automargin\":true,\"type\":\"pie\"}]},\"layout\":{\"autotypenumbers\":\"strict\",\"colorway\":[\"#636efa\",\"#EF553B\",\"#00cc96\",\"#ab63fa\",\"#FFA15A\",\"#19d3f3\",\"#FF6692\",\"#B6E880\",\"#FF97FF\",\"#FECB52\"],\"font\":{\"color\":\"#2a3f5f\"},\"hovermode\":\"closest\",\"hoverlabel\":{\"align\":\"left\"},\"paper_bgcolor\":\"white\",\"plot_bgcolor\":\"#E5ECF6\",\"polar\":{\"bgcolor\":\"#E5ECF6\",\"angularaxis\":{\"gridcolor\":\"white\",\"linecolor\":\"white\",\"ticks\":\"\"},\"radialaxis\":{\"gridcolor\":\"white\",\"linecolor\":\"white\",\"ticks\":\"\"}},\"ternary\":{\"bgcolor\":\"#E5ECF6\",\"aaxis\":{\"gridcolor\":\"white\",\"linecolor\":\"white\",\"ticks\":\"\"},\"baxis\":{\"gridcolor\":\"white\",\"linecolor\":\"white\",\"ticks\":\"\"},\"caxis\":{\"gridcolor\":\"white\",\"linecolor\":\"white\",\"ticks\":\"\"}},\"coloraxis\":{\"colorbar\":{\"outlinewidth\":0,\"ticks\":\"\"}},\"colorscale\":{\"sequential\":[[0.0,\"#0d0887\"],[0.1111111111111111,\"#46039f\"],[0.2222222222222222,\"#7201a8\"],[0.3333333333333333,\"#9c179e\"],[0.4444444444444444,\"#bd3786\"],[0.5555555555555556,\"#d8576b\"],[0.6666666666666666,\"#ed7953\"],[0.7777777777777778,\"#fb9f3a\"],[0.8888888888888888,\"#fdca26\"],[1.0,\"#f0f921\"]],\"sequentialminus\":[[0.0,\"#0d0887\"],[0.1111111111111111,\"#46039f\"],[0.2222222222222222,\"#7201a8\"],[0.3333333333333333,\"#9c179e\"],[0.4444444444444444,\"#bd3786\"],[0.5555555555555556,\"#d8576b\"],[0.6666666666666666,\"#ed7953\"],[0.7777777777777778,\"#fb9f3a\"],[0.8888888888888888,\"#fdca26\"],[1.0,\"#f0f921\"]],\"diverging\":[[0,\"#8e0152\"],[0.1,\"#c51b7d\"],[0.2,\"#de77ae\"],[0.3,\"#f1b6da\"],[0.4,\"#fde0ef\"],[0.5,\"#f7f7f7\"],[0.6,\"#e6f5d0\"],[0.7,\"#b8e186\"],[0.8,\"#7fbc41\"],[0.9,\"#4d9221\"],[1,\"#276419\"]]},\"xaxis\":{\"gridcolor\":\"white\",\"linecolor\":\"white\",\"ticks\":\"\",\"title\":{\"standoff\":15},\"zerolinecolor\":\"white\",\"automargin\":true,\"zerolinewidth\":2},\"yaxis\":{\"gridcolor\":\"white\",\"linecolor\":\"white\",\"ticks\":\"\",\"title\":{\"standoff\":15},\"zerolinecolor\":\"white\",\"automargin\":true,\"zerolinewidth\":2},\"scene\":{\"xaxis\":{\"backgroundcolor\":\"#E5ECF6\",\"gridcolor\":\"white\",\"linecolor\":\"white\",\"showbackground\":true,\"ticks\":\"\",\"zerolinecolor\":\"white\",\"gridwidth\":2},\"yaxis\":{\"backgroundcolor\":\"#E5ECF6\",\"gridcolor\":\"white\",\"linecolor\":\"white\",\"showbackground\":true,\"ticks\":\"\",\"zerolinecolor\":\"white\",\"gridwidth\":2},\"zaxis\":{\"backgroundcolor\":\"#E5ECF6\",\"gridcolor\":\"white\",\"linecolor\":\"white\",\"showbackground\":true,\"ticks\":\"\",\"zerolinecolor\":\"white\",\"gridwidth\":2}},\"shapedefaults\":{\"line\":{\"color\":\"#2a3f5f\"}},\"annotationdefaults\":{\"arrowcolor\":\"#2a3f5f\",\"arrowhead\":0,\"arrowwidth\":1},\"geo\":{\"bgcolor\":\"white\",\"landcolor\":\"#E5ECF6\",\"subunitcolor\":\"white\",\"showland\":true,\"showlakes\":true,\"lakecolor\":\"white\"},\"title\":{\"x\":0.05},\"mapbox\":{\"style\":\"light\"}}}},                        {\"responsive\": true}                    ).then(function(){\n",
       "                            \n",
       "var gd = document.getElementById('fc1d6e2d-4c2a-48c2-9b09-7a47f034caca');\n",
       "var x = new MutationObserver(function (mutations, observer) {{\n",
       "        var display = window.getComputedStyle(gd).display;\n",
       "        if (!display || display === 'none') {{\n",
       "            console.log([gd, 'removed!']);\n",
       "            Plotly.purge(gd);\n",
       "            observer.disconnect();\n",
       "        }}\n",
       "}});\n",
       "\n",
       "// Listen for the removal of the full notebook cells\n",
       "var notebookContainer = gd.closest('#notebook-container');\n",
       "if (notebookContainer) {{\n",
       "    x.observe(notebookContainer, {childList: true});\n",
       "}}\n",
       "\n",
       "// Listen for the clearing of the current output cell\n",
       "var outputEl = gd.closest('.output');\n",
       "if (outputEl) {{\n",
       "    x.observe(outputEl, {childList: true});\n",
       "}}\n",
       "\n",
       "                        })                };                });            </script>        </div>"
      ]
     },
     "metadata": {},
     "output_type": "display_data"
    }
   ],
   "source": [
    "n_sufficient = sum(x >= 1000 for x in df_drugs[\"Drug\"].value_counts())\n",
    "n_insufficient = sum(x < 1000 for x in df_drugs[\"Drug\"].value_counts())\n",
    "fig = go.Figure(data=[go.Pie(labels=[\"Cukup\", \"Tidak Cukup\"],\n",
    "                             values=[n_sufficient, n_insufficient], hole = 0.5)])\n",
    "fig.show()"
   ]
  },
  {
   "cell_type": "markdown",
   "metadata": {},
   "source": [
    "Memperhatikan persentase tersebut, maka diperlukan penambahan lebih banyak baris data untuk setiap obat dengan total baris data yang kurang dari 500. Untuk saat ini, kita cukup gunakan baris data obat yang cukup."
   ]
  },
  {
   "cell_type": "code",
   "execution_count": 11,
   "metadata": {},
   "outputs": [],
   "source": [
    "list_sufficient = [val for val, cnt in df_drugs[\"Drug\"].value_counts().iteritems() if cnt >= 500]\n",
    "df_drugs_sub = df_drugs[df_drugs[\"Drug\"].isin(list_sufficient)]"
   ]
  },
  {
   "cell_type": "markdown",
   "metadata": {},
   "source": [
    "Untuk menerapkan _item-based collaborative filtering_ pada sistem rekomendasi obat, dibutuhkan matriks pengguna/obat. Pada matriks tersebut terdapat _\"user id\"_, _\"drug id\"_, dan _\"drug rating\"_. Ilustrasi matriks tersebut adalah sebagai berikut.\n",
    "\n",
    "|  | drug<sub>1</sub> | drug<sub>2</sub> | drug<sub>3</sub> |\n",
    "| :---: | :---: | :---: | :---: |\n",
    "| user<sub>1</sub> | rating<sub>user<sub>1</sub>,drug<sub>1</sub></sub> | rating<sub>user<sub>1</sub>,drug<sub>2</sub></sub> | rating<sub>user<sub>1</sub>,drug<sub>3</sub></sub> |\n",
    "| user<sub>2</sub> | rating<sub>user<sub>2</sub>,drug<sub>1</sub></sub> | rating<sub>user<sub>2</sub>,drug<sub>2</sub></sub> | rating<sub>user<sub>2</sub>,drug<sub>3</sub></sub> |\n",
    "| user<sub>3</sub> | rating<sub>user<sub>3</sub>,drug<sub>1</sub></sub> | rating<sub>user<sub>3</sub>,drug<sub>2</sub></sub> | rating<sub>user<sub>3</sub>,drug<sub>3</sub></sub> |\n",
    "| user<sub>4</sub> | rating<sub>user<sub>4</sub>,drug<sub>1</sub></sub> | rating<sub>user<sub>4</sub>,drug<sub>2</sub></sub> | rating<sub>user<sub>4</sub>,drug<sub>3</sub></sub> |\n",
    "| user<sub>5</sub> | rating<sub>user<sub>5</sub>,drug<sub>1</sub></sub> | rating<sub>user<sub>5</sub>,drug<sub>2</sub></sub> | rating<sub>user<sub>5</sub>,drug<sub>3</sub></sub> |\n",
    "\n",
    "\n",
    "_\"user id\"_ tidak tersedia dalam `df_drugs`. Oleh karena itu, ....\n",
    "\n",
    "_\"drug id\"_ tersedia dalam `df_drugs`. Oleh karena itu, ....\n",
    "\n",
    "_\"drug rating\"_ tidak tersedia dalam `df_drugs`. Oleh karena itu, ...."
   ]
  },
  {
   "cell_type": "code",
   "execution_count": 13,
   "metadata": {
    "scrolled": true
   },
   "outputs": [
    {
     "ename": "AttributeError",
     "evalue": "'Int64Index' object has no attribute 'remove_unused_levels'",
     "output_type": "error",
     "traceback": [
      "\u001b[1;31m---------------------------------------------------------------------------\u001b[0m",
      "\u001b[1;31mAttributeError\u001b[0m                            Traceback (most recent call last)",
      "\u001b[1;32m<ipython-input-13-c51d264d84f2>\u001b[0m in \u001b[0;36m<module>\u001b[1;34m\u001b[0m\n\u001b[1;32m----> 1\u001b[1;33m \u001b[0mdf_drugs_sub\u001b[0m\u001b[1;33m.\u001b[0m\u001b[0mpivot_table\u001b[0m\u001b[1;33m(\u001b[0m\u001b[0mcolumns\u001b[0m\u001b[1;33m=\u001b[0m\u001b[1;33m[\u001b[0m\u001b[1;34m\"Sex\"\u001b[0m\u001b[1;33m,\u001b[0m \u001b[1;34m\"Age\"\u001b[0m\u001b[1;33m,\u001b[0m \u001b[1;34m\"Condition\"\u001b[0m\u001b[1;33m]\u001b[0m\u001b[1;33m,\u001b[0m \u001b[0maggfunc\u001b[0m\u001b[1;33m=\u001b[0m\u001b[1;34m\"size\"\u001b[0m\u001b[1;33m)\u001b[0m\u001b[1;33m\u001b[0m\u001b[1;33m\u001b[0m\u001b[0m\n\u001b[0m",
      "\u001b[1;32m~\\anaconda3\\lib\\site-packages\\pandas\\core\\frame.py\u001b[0m in \u001b[0;36mpivot_table\u001b[1;34m(self, values, index, columns, aggfunc, fill_value, margins, dropna, margins_name, observed)\u001b[0m\n\u001b[0;32m   6068\u001b[0m         \u001b[1;32mfrom\u001b[0m \u001b[0mpandas\u001b[0m\u001b[1;33m.\u001b[0m\u001b[0mcore\u001b[0m\u001b[1;33m.\u001b[0m\u001b[0mreshape\u001b[0m\u001b[1;33m.\u001b[0m\u001b[0mpivot\u001b[0m \u001b[1;32mimport\u001b[0m \u001b[0mpivot_table\u001b[0m\u001b[1;33m\u001b[0m\u001b[1;33m\u001b[0m\u001b[0m\n\u001b[0;32m   6069\u001b[0m \u001b[1;33m\u001b[0m\u001b[0m\n\u001b[1;32m-> 6070\u001b[1;33m         return pivot_table(\n\u001b[0m\u001b[0;32m   6071\u001b[0m             \u001b[0mself\u001b[0m\u001b[1;33m,\u001b[0m\u001b[1;33m\u001b[0m\u001b[1;33m\u001b[0m\u001b[0m\n\u001b[0;32m   6072\u001b[0m             \u001b[0mvalues\u001b[0m\u001b[1;33m=\u001b[0m\u001b[0mvalues\u001b[0m\u001b[1;33m,\u001b[0m\u001b[1;33m\u001b[0m\u001b[1;33m\u001b[0m\u001b[0m\n",
      "\u001b[1;32m~\\anaconda3\\lib\\site-packages\\pandas\\core\\reshape\\pivot.py\u001b[0m in \u001b[0;36mpivot_table\u001b[1;34m(data, values, index, columns, aggfunc, fill_value, margins, dropna, margins_name, observed)\u001b[0m\n\u001b[0;32m    130\u001b[0m             \u001b[1;32melse\u001b[0m\u001b[1;33m:\u001b[0m\u001b[1;33m\u001b[0m\u001b[1;33m\u001b[0m\u001b[0m\n\u001b[0;32m    131\u001b[0m                 \u001b[0mto_unstack\u001b[0m\u001b[1;33m.\u001b[0m\u001b[0mappend\u001b[0m\u001b[1;33m(\u001b[0m\u001b[0mname\u001b[0m\u001b[1;33m)\u001b[0m\u001b[1;33m\u001b[0m\u001b[1;33m\u001b[0m\u001b[0m\n\u001b[1;32m--> 132\u001b[1;33m         \u001b[0mtable\u001b[0m \u001b[1;33m=\u001b[0m \u001b[0magged\u001b[0m\u001b[1;33m.\u001b[0m\u001b[0munstack\u001b[0m\u001b[1;33m(\u001b[0m\u001b[0mto_unstack\u001b[0m\u001b[1;33m)\u001b[0m\u001b[1;33m\u001b[0m\u001b[1;33m\u001b[0m\u001b[0m\n\u001b[0m\u001b[0;32m    133\u001b[0m \u001b[1;33m\u001b[0m\u001b[0m\n\u001b[0;32m    134\u001b[0m     \u001b[1;32mif\u001b[0m \u001b[1;32mnot\u001b[0m \u001b[0mdropna\u001b[0m\u001b[1;33m:\u001b[0m\u001b[1;33m\u001b[0m\u001b[1;33m\u001b[0m\u001b[0m\n",
      "\u001b[1;32m~\\anaconda3\\lib\\site-packages\\pandas\\core\\series.py\u001b[0m in \u001b[0;36munstack\u001b[1;34m(self, level, fill_value)\u001b[0m\n\u001b[0;32m   3548\u001b[0m         \u001b[1;32mfrom\u001b[0m \u001b[0mpandas\u001b[0m\u001b[1;33m.\u001b[0m\u001b[0mcore\u001b[0m\u001b[1;33m.\u001b[0m\u001b[0mreshape\u001b[0m\u001b[1;33m.\u001b[0m\u001b[0mreshape\u001b[0m \u001b[1;32mimport\u001b[0m \u001b[0munstack\u001b[0m\u001b[1;33m\u001b[0m\u001b[1;33m\u001b[0m\u001b[0m\n\u001b[0;32m   3549\u001b[0m \u001b[1;33m\u001b[0m\u001b[0m\n\u001b[1;32m-> 3550\u001b[1;33m         \u001b[1;32mreturn\u001b[0m \u001b[0munstack\u001b[0m\u001b[1;33m(\u001b[0m\u001b[0mself\u001b[0m\u001b[1;33m,\u001b[0m \u001b[0mlevel\u001b[0m\u001b[1;33m,\u001b[0m \u001b[0mfill_value\u001b[0m\u001b[1;33m)\u001b[0m\u001b[1;33m\u001b[0m\u001b[1;33m\u001b[0m\u001b[0m\n\u001b[0m\u001b[0;32m   3551\u001b[0m \u001b[1;33m\u001b[0m\u001b[0m\n\u001b[0;32m   3552\u001b[0m     \u001b[1;31m# ----------------------------------------------------------------------\u001b[0m\u001b[1;33m\u001b[0m\u001b[1;33m\u001b[0m\u001b[1;33m\u001b[0m\u001b[0m\n",
      "\u001b[1;32m~\\anaconda3\\lib\\site-packages\\pandas\\core\\reshape\\reshape.py\u001b[0m in \u001b[0;36munstack\u001b[1;34m(obj, level, fill_value)\u001b[0m\n\u001b[0;32m    396\u001b[0m             \u001b[1;31m# _unstack_multiple only handles MultiIndexes,\u001b[0m\u001b[1;33m\u001b[0m\u001b[1;33m\u001b[0m\u001b[1;33m\u001b[0m\u001b[0m\n\u001b[0;32m    397\u001b[0m             \u001b[1;31m# and isn't needed for a single level\u001b[0m\u001b[1;33m\u001b[0m\u001b[1;33m\u001b[0m\u001b[1;33m\u001b[0m\u001b[0m\n\u001b[1;32m--> 398\u001b[1;33m             \u001b[1;32mreturn\u001b[0m \u001b[0m_unstack_multiple\u001b[0m\u001b[1;33m(\u001b[0m\u001b[0mobj\u001b[0m\u001b[1;33m,\u001b[0m \u001b[0mlevel\u001b[0m\u001b[1;33m,\u001b[0m \u001b[0mfill_value\u001b[0m\u001b[1;33m=\u001b[0m\u001b[0mfill_value\u001b[0m\u001b[1;33m)\u001b[0m\u001b[1;33m\u001b[0m\u001b[1;33m\u001b[0m\u001b[0m\n\u001b[0m\u001b[0;32m    399\u001b[0m         \u001b[1;32melse\u001b[0m\u001b[1;33m:\u001b[0m\u001b[1;33m\u001b[0m\u001b[1;33m\u001b[0m\u001b[0m\n\u001b[0;32m    400\u001b[0m             \u001b[0mlevel\u001b[0m \u001b[1;33m=\u001b[0m \u001b[0mlevel\u001b[0m\u001b[1;33m[\u001b[0m\u001b[1;36m0\u001b[0m\u001b[1;33m]\u001b[0m\u001b[1;33m\u001b[0m\u001b[1;33m\u001b[0m\u001b[0m\n",
      "\u001b[1;32m~\\anaconda3\\lib\\site-packages\\pandas\\core\\reshape\\reshape.py\u001b[0m in \u001b[0;36m_unstack_multiple\u001b[1;34m(data, clocs, fill_value)\u001b[0m\n\u001b[0;32m    350\u001b[0m         \u001b[0mdummy\u001b[0m\u001b[1;33m.\u001b[0m\u001b[0mindex\u001b[0m \u001b[1;33m=\u001b[0m \u001b[0mdummy_index\u001b[0m\u001b[1;33m\u001b[0m\u001b[1;33m\u001b[0m\u001b[0m\n\u001b[0;32m    351\u001b[0m \u001b[1;33m\u001b[0m\u001b[0m\n\u001b[1;32m--> 352\u001b[1;33m         \u001b[0munstacked\u001b[0m \u001b[1;33m=\u001b[0m \u001b[0mdummy\u001b[0m\u001b[1;33m.\u001b[0m\u001b[0munstack\u001b[0m\u001b[1;33m(\u001b[0m\u001b[1;34m\"__placeholder__\"\u001b[0m\u001b[1;33m,\u001b[0m \u001b[0mfill_value\u001b[0m\u001b[1;33m=\u001b[0m\u001b[0mfill_value\u001b[0m\u001b[1;33m)\u001b[0m\u001b[1;33m\u001b[0m\u001b[1;33m\u001b[0m\u001b[0m\n\u001b[0m\u001b[0;32m    353\u001b[0m         \u001b[0mnew_levels\u001b[0m \u001b[1;33m=\u001b[0m \u001b[0mclevels\u001b[0m\u001b[1;33m\u001b[0m\u001b[1;33m\u001b[0m\u001b[0m\n\u001b[0;32m    354\u001b[0m         \u001b[0mnew_names\u001b[0m \u001b[1;33m=\u001b[0m \u001b[0mcnames\u001b[0m\u001b[1;33m\u001b[0m\u001b[1;33m\u001b[0m\u001b[0m\n",
      "\u001b[1;32m~\\anaconda3\\lib\\site-packages\\pandas\\core\\series.py\u001b[0m in \u001b[0;36munstack\u001b[1;34m(self, level, fill_value)\u001b[0m\n\u001b[0;32m   3548\u001b[0m         \u001b[1;32mfrom\u001b[0m \u001b[0mpandas\u001b[0m\u001b[1;33m.\u001b[0m\u001b[0mcore\u001b[0m\u001b[1;33m.\u001b[0m\u001b[0mreshape\u001b[0m\u001b[1;33m.\u001b[0m\u001b[0mreshape\u001b[0m \u001b[1;32mimport\u001b[0m \u001b[0munstack\u001b[0m\u001b[1;33m\u001b[0m\u001b[1;33m\u001b[0m\u001b[0m\n\u001b[0;32m   3549\u001b[0m \u001b[1;33m\u001b[0m\u001b[0m\n\u001b[1;32m-> 3550\u001b[1;33m         \u001b[1;32mreturn\u001b[0m \u001b[0munstack\u001b[0m\u001b[1;33m(\u001b[0m\u001b[0mself\u001b[0m\u001b[1;33m,\u001b[0m \u001b[0mlevel\u001b[0m\u001b[1;33m,\u001b[0m \u001b[0mfill_value\u001b[0m\u001b[1;33m)\u001b[0m\u001b[1;33m\u001b[0m\u001b[1;33m\u001b[0m\u001b[0m\n\u001b[0m\u001b[0;32m   3551\u001b[0m \u001b[1;33m\u001b[0m\u001b[0m\n\u001b[0;32m   3552\u001b[0m     \u001b[1;31m# ----------------------------------------------------------------------\u001b[0m\u001b[1;33m\u001b[0m\u001b[1;33m\u001b[0m\u001b[1;33m\u001b[0m\u001b[0m\n",
      "\u001b[1;32m~\\anaconda3\\lib\\site-packages\\pandas\\core\\reshape\\reshape.py\u001b[0m in \u001b[0;36munstack\u001b[1;34m(obj, level, fill_value)\u001b[0m\n\u001b[0;32m    412\u001b[0m         \u001b[1;32mif\u001b[0m \u001b[0mis_extension_array_dtype\u001b[0m\u001b[1;33m(\u001b[0m\u001b[0mobj\u001b[0m\u001b[1;33m.\u001b[0m\u001b[0mdtype\u001b[0m\u001b[1;33m)\u001b[0m\u001b[1;33m:\u001b[0m\u001b[1;33m\u001b[0m\u001b[1;33m\u001b[0m\u001b[0m\n\u001b[0;32m    413\u001b[0m             \u001b[1;32mreturn\u001b[0m \u001b[0m_unstack_extension_series\u001b[0m\u001b[1;33m(\u001b[0m\u001b[0mobj\u001b[0m\u001b[1;33m,\u001b[0m \u001b[0mlevel\u001b[0m\u001b[1;33m,\u001b[0m \u001b[0mfill_value\u001b[0m\u001b[1;33m)\u001b[0m\u001b[1;33m\u001b[0m\u001b[1;33m\u001b[0m\u001b[0m\n\u001b[1;32m--> 414\u001b[1;33m         unstacker = _Unstacker(\n\u001b[0m\u001b[0;32m    415\u001b[0m             \u001b[0mobj\u001b[0m\u001b[1;33m.\u001b[0m\u001b[0mvalues\u001b[0m\u001b[1;33m,\u001b[0m\u001b[1;33m\u001b[0m\u001b[1;33m\u001b[0m\u001b[0m\n\u001b[0;32m    416\u001b[0m             \u001b[0mobj\u001b[0m\u001b[1;33m.\u001b[0m\u001b[0mindex\u001b[0m\u001b[1;33m,\u001b[0m\u001b[1;33m\u001b[0m\u001b[1;33m\u001b[0m\u001b[0m\n",
      "\u001b[1;32m~\\anaconda3\\lib\\site-packages\\pandas\\core\\reshape\\reshape.py\u001b[0m in \u001b[0;36m__init__\u001b[1;34m(self, values, index, level, value_columns, fill_value, constructor)\u001b[0m\n\u001b[0;32m    111\u001b[0m             \u001b[1;32mraise\u001b[0m \u001b[0mValueError\u001b[0m\u001b[1;33m(\u001b[0m\u001b[1;34m\"must pass column labels for multi-column data\"\u001b[0m\u001b[1;33m)\u001b[0m\u001b[1;33m\u001b[0m\u001b[1;33m\u001b[0m\u001b[0m\n\u001b[0;32m    112\u001b[0m \u001b[1;33m\u001b[0m\u001b[0m\n\u001b[1;32m--> 113\u001b[1;33m         \u001b[0mself\u001b[0m\u001b[1;33m.\u001b[0m\u001b[0mindex\u001b[0m \u001b[1;33m=\u001b[0m \u001b[0mindex\u001b[0m\u001b[1;33m.\u001b[0m\u001b[0mremove_unused_levels\u001b[0m\u001b[1;33m(\u001b[0m\u001b[1;33m)\u001b[0m\u001b[1;33m\u001b[0m\u001b[1;33m\u001b[0m\u001b[0m\n\u001b[0m\u001b[0;32m    114\u001b[0m \u001b[1;33m\u001b[0m\u001b[0m\n\u001b[0;32m    115\u001b[0m         \u001b[0mself\u001b[0m\u001b[1;33m.\u001b[0m\u001b[0mlevel\u001b[0m \u001b[1;33m=\u001b[0m \u001b[0mself\u001b[0m\u001b[1;33m.\u001b[0m\u001b[0mindex\u001b[0m\u001b[1;33m.\u001b[0m\u001b[0m_get_level_number\u001b[0m\u001b[1;33m(\u001b[0m\u001b[0mlevel\u001b[0m\u001b[1;33m)\u001b[0m\u001b[1;33m\u001b[0m\u001b[1;33m\u001b[0m\u001b[0m\n",
      "\u001b[1;31mAttributeError\u001b[0m: 'Int64Index' object has no attribute 'remove_unused_levels'"
     ]
    }
   ],
   "source": [
    "df_drugs_sub.pivot_table(columns=[\"Sex\", \"Age\", \"Condition\"], aggfunc=\"size\")"
   ]
  },
  {
   "cell_type": "markdown",
   "metadata": {},
   "source": [
    "## Mengidentifikasi Kesalahan "
   ]
  },
  {
   "cell_type": "code",
   "execution_count": 11,
   "metadata": {},
   "outputs": [
    {
     "data": {
      "text/plain": [
       "sub_name                    0\n",
       "list_activeIngredient       0\n",
       "list_inactiveIngredient     0\n",
       "Age                         0\n",
       "Condition                   0\n",
       "Date                        0\n",
       "Drug                        0\n",
       "DrugId                      0\n",
       "EaseofUse                   0\n",
       "Effectiveness               0\n",
       "Reviews                    16\n",
       "Satisfaction                0\n",
       "Sex                         0\n",
       "Sides                       0\n",
       "UsefulCount                 0\n",
       "dtype: int64"
      ]
     },
     "execution_count": 11,
     "metadata": {},
     "output_type": "execute_result"
    }
   ],
   "source": [
    "df_drugs_sub.isnull().sum()"
   ]
  },
  {
   "cell_type": "markdown",
   "metadata": {},
   "source": [
    "Dalam mengidentifikasi kesalahahan dapat dilakukan agregasi data  menggunakan fungsi sum(). Berdasarkan analisis diatas dapat dilihat bahwa dalam dataset tersebut semua kolom tidak memiliki nilai kosong atau NULL kecuali kolom Reviews dengan 16 missing value."
   ]
  },
  {
   "cell_type": "code",
   "execution_count": 12,
   "metadata": {},
   "outputs": [
    {
     "name": "stdout",
     "output_type": "stream",
     "text": [
      "sub_name : acarbose           24\n",
      "acetazolamide     285\n",
      "aripiprazole      477\n",
      "baclofen          550\n",
      "benzonatate      5999\n",
      "                 ... \n",
      "valproic acid     124\n",
      "voriconazole       33\n",
      "zaleplon           82\n",
      "zolmitriptan        5\n",
      "zonisamide        202\n",
      "Length: 74, dtype: int64\n",
      "list_activeIngredient : [['ACARBOSE', '25', 'mg', '1', '1']]           24\n",
      "[['ACETAZOLAMIDE', '125', 'mg', '1', '1']]     95\n",
      "[['ACETAZOLAMIDE', '250', 'mg', '1', '1']]     95\n",
      "[['ACETAZOLAMIDE', '500', 'mg', '1', '1']]     95\n",
      "[['ARIPIPRAZOLE', '1', 'mg', '1', 'mL']]       53\n",
      "                                             ... \n",
      "[['linezolid', '2', 'mg', '1', 'mL']]           4\n",
      "[['lovastatin', '10', 'mg', '1', '1']]        168\n",
      "[['metolazone', '2.5', 'mg', '1', '1']]        27\n",
      "[['ofloxacin', '3', 'mg', '1', 'mL']]           9\n",
      "[['valproic acid', '250', 'mg', '1', '1']]     62\n",
      "Length: 137, dtype: int64\n",
      "list_inactiveIngredient : [['ACETIC ACID', '', '', '', ''], ['SODIUM CHLORIDE', '', '', '', ''], ['SODIUM ACETATE', '', '', '', ''], ['WATER', '', '', '', '']]                                                                                                                                                                                                                                                                                                                                                                                                                                                                                                                                                                                                                                                                                                                                                                                                                                                                                                                      117\n",
      "[['ALCOHOL', '', '', '', ''], ['ANHYDROUS CITRIC ACID', '', '', '', ''], ['HYDROCHLORIC ACID', '', '', '', ''], ['POLYSORBATE 80', '', '', '', ''], ['SODIUM HYDROXIDE', '', '', '', ''], ['WATER', '', '', '', '']]                                                                                                                                                                                                                                                                                                                                                                                                                                                                                                                                                                                                                                                                                                                                                                                                                                        19\n",
      "[['ALCOHOL', '', '', '', ''], ['CITRIC ACID MONOHYDRATE', '', '', '', ''], ['PROPYLENE GLYCOL', '', '', '', '']]                                                                                                                                                                                                                                                                                                                                                                                                                                                                                                                                                                                                                                                                                                                                                                                                                                                                                                                                            73\n",
      "[['AMMONIA', '', '', '', ''], ['ETHYLCELLULOSES', '', '', '', ''], ['GELATIN', '', '', '', ''], ['HYDROXYPROPYL CELLULOSE (1600000 WAMW)', '', '', '', ''], ['HYPROMELLOSES', '', '', '', ''], ['MEDIUM-CHAIN TRIGLYCERIDES', '', '', '', ''], ['OLEIC ACID', '', '', '', ''], ['POLYETHYLENE GLYCOL, UNSPECIFIED', '', '', '', ''], ['SUCROSE', '', '', '', ''], ['STARCH, CORN', '', '', '', ''], ['FERROSOFERRIC OXIDE', '', '', '', ''], ['FERRIC OXIDE RED', '', '', '', ''], ['SILICON DIOXIDE', '', '', '', ''], ['SODIUM LAURYL SULFATE', '', '', '', ''], ['TALC', '', '', '', ''], ['TITANIUM DIOXIDE', '', '', '', ''], ['FERRIC OXIDE YELLOW', '', '', '', ''], ['BUTYL ALCOHOL', '', '', '', ''], ['ALCOHOL', '', '', '', ''], ['ISOPROPYL ALCOHOL', '', '', '', ''], ['POTASSIUM HYDROXIDE', '', '', '', ''], ['PROPYLENE GLYCOL', '', '', '', ''], ['WATER', '', '', '', ''], ['SHELLAC', '', '', '', '']]                                                                                                                                   88\n",
      "[['AMMONIA', '', '', '', ''], ['FERROSOFERRIC OXIDE', '', '', '', ''], ['ETHYLCELLULOSE, UNSPECIFIED', '', '', '', ''], ['GELATIN, UNSPECIFIED', '', '', '', ''], ['HYPROMELLOSE, UNSPECIFIED', '', '', '', ''], ['HYDROXYPROPYL CELLULOSE, UNSPECIFIED', '', '', '', ''], ['MEDIUM-CHAIN TRIGLYCERIDES', '', '', '', ''], ['OLEIC ACID', '', '', '', ''], ['POTASSIUM HYDROXIDE', '', '', '', ''], ['PROPYLENE GLYCOL', '', '', '', ''], ['FERRIC OXIDE RED', '', '', '', ''], ['SHELLAC', '', '', '', ''], ['SILICON DIOXIDE', '', '', '', ''], ['SODIUM LAURYL SULFATE', '', '', '', ''], ['SUCROSE', '', '', '', ''], ['STARCH, CORN', '', '', '', ''], ['TALC', '', '', '', ''], ['TITANIUM DIOXIDE', '', '', '', ''], ['FERRIC OXIDE YELLOW', '', '', '', ''], ['ALCOHOL', '', '', '', ''], ['POLYETHYLENE GLYCOL, UNSPECIFIED', '', '', '', ''], ['BUTYL ALCOHOL', '', '', '', ''], ['ISOPROPYL ALCOHOL', '', '', '', ''], ['WATER', '', '', '', ''], ['POLYETHYLENE GLYCOL 400', '', '', '', ''], ['POLYETHYLENE GLYCOL 8000', '', '', '', '']]     88\n",
      "                                                                                                                                                                                                                                                                                                                                                                                                                                                                                                                                                                                                                                                                                                                                                                                                                                                                                                                                                                                                                                                          ... \n",
      "[['sodium chloride', '', '', '', ''], ['hydrochloric acid', '', '', '', ''], ['chlorobutanol', '', '', '', '']]                                                                                                                                                                                                                                                                                                                                                                                                                                                                                                                                                                                                                                                                                                                                                                                                                                                                                                                                             30\n",
      "[['sodium chloride', '', '', '', ''], ['hydrochloric acid', '', '', '', ''], ['sodium hydroxide', '', '', '', ''], ['benzalkonium chloride', '0.05', 'mg', '1', 'mL']]                                                                                                                                                                                                                                                                                                                                                                                                                                                                                                                                                                                                                                                                                                                                                                                                                                                                                       9\n",
      "[['sodium chloride', '', '', '', ''], ['hydrochloric acid', '', '', '', '']]                                                                                                                                                                                                                                                                                                                                                                                                                                                                                                                                                                                                                                                                                                                                                                                                                                                                                                                                                                                30\n",
      "[['sodium citrate, unspecified form', '', '', '', ''], ['anhydrous citric acid', '', '', '', ''], ['dextrose monohydrate', '', '', '', ''], ['sodium hydroxide', '', '', '', ''], ['hydrochloric acid', '', '', '', '']]                                                                                                                                                                                                                                                                                                                                                                                                                                                                                                                                                                                                                                                                                                                                                                                                                                     4\n",
      "[]                                                                                                                                                                                                                                                                                                                                                                                                                                                                                                                                                                                                                                                                                                                                                                                                                                                                                                                                                                                                                                                         158\n",
      "Length: 132, dtype: int64\n",
      "Age :                1941\n",
      "0-2              36\n",
      "13-18           566\n",
      "19-24          2295\n",
      "25-34          5712\n",
      "3-6              48\n",
      "35-44          8011\n",
      "45-54         14618\n",
      "55-64         15621\n",
      "65-74          9028\n",
      "7-12            178\n",
      "75 or over     3615\n",
      "dtype: int64\n"
     ]
    },
    {
     "name": "stdout",
     "output_type": "stream",
     "text": [
      "Condition :                                                            11\n",
      "\"Change of Life\" Signs                                     17\n",
      "A Condition of Bladder Dysfunction from Nerve Disorder      2\n",
      "A Fungal Infection - Aspergillosis                          6\n",
      "A Hereditary Progressive Anemia of Unknown Cause           18\n",
      "                                                         ... \n",
      "Wide-Angle Glaucoma                                         2\n",
      "Worsening of Asthma                                        66\n",
      "Yeast Infection of Vagina and Vulva                       460\n",
      "infection                                                   3\n",
      "infection caused by bacteria                               19\n",
      "Length: 405, dtype: int64\n",
      "Date : 1/1/2008    29\n",
      "1/1/2009    34\n",
      "1/1/2010    26\n",
      "1/1/2011    18\n",
      "1/1/2012    10\n",
      "            ..\n",
      "9/9/2013    16\n",
      "9/9/2014     5\n",
      "9/9/2015    20\n",
      "9/9/2016    10\n",
      "9/9/2017     5\n",
      "Length: 3884, dtype: int64\n",
      "Drug : acarbose           24\n",
      "acetazolamide     285\n",
      "aripiprazole      477\n",
      "baclofen          550\n",
      "benzonatate      5999\n",
      "                 ... \n",
      "valproic acid     124\n",
      "voriconazole       33\n",
      "zaleplon           82\n",
      "zolmitriptan        5\n",
      "zonisamide        202\n",
      "Length: 74, dtype: int64\n",
      "DrugId : 676         96\n",
      "911       5394\n",
      "1027       114\n",
      "1049       265\n",
      "1636       352\n",
      "          ... \n",
      "64437      477\n",
      "93290      324\n",
      "94574       23\n",
      "148989     140\n",
      "149812       3\n",
      "Length: 74, dtype: int64\n",
      "EaseofUse : 1     6681\n",
      "2     3137\n",
      "3     7106\n",
      "4    12583\n",
      "5    32162\n",
      "dtype: int64\n",
      "Effectiveness : 1    12037\n",
      "2     6225\n",
      "3    11020\n",
      "4    13830\n",
      "5    18557\n",
      "dtype: int64\n",
      "Satisfaction : 1    21189\n",
      "2     6931\n",
      "3     8930\n",
      "4     9397\n",
      "5    15222\n",
      "dtype: int64\n",
      "Sex :            4349\n",
      "Female    38854\n",
      "Male      18466\n",
      "dtype: int64\n",
      "Sides :                                                                                                                                                                                                8868\n",
      "Constipation ,  nausea ,  headache ,  diarrhea ,  vomiting ,  stomach  upset, gas, tremor,  dizziness , drowsiness, or  trouble sleeping  may occur.                                             76\n",
      "Diarrhea ,  dizziness , drowsiness,  hair loss , blurred/ double vision , change in menstrual periods,  ringing in the ears , shakiness (tremor), unsteadiness,  weight  changes may occur.     124\n",
      "Diarrhea ,  headache ,  nausea ,  vomiting , or  dizziness  may occur.                                                                                                                            8\n",
      "Diarrhea ,  nausea ,  vomiting ,  headache , and changes in taste may occur.                                                                                                                    448\n",
      "                                                                                                                                                                                               ... \n",
      "Upset stomach ,  heartburn ,  nausea , menstrual changes, or  headache  may occur.                                                                                                              106\n",
      "Upset stomach ,  nausea ,  diarrhea ,  headache ,  dizziness ,  lightheadedness , or  trouble sleeping  may occur.                                                                               18\n",
      "Upset stomach ,  nausea ,  heartburn ,  diarrhea ,  constipation , gas,  headache , drowsiness, and  dizziness  may occur.                                                                     1192\n",
      "Upset stomach ,  nausea ,  vomiting ,  headache ,  diarrhea ,  constipation ,  dizziness , or drowsiness may occur.                                                                             813\n",
      "Upset stomach ,  nausea ,  vomiting , gas, or  diarrhea  may occur.                                                                                                                              96\n",
      "Length: 69, dtype: int64\n",
      "UsefulCount : 0      11214\n",
      "1       7700\n",
      "2       6022\n",
      "3       4601\n",
      "4       3478\n",
      "       ...  \n",
      "109        6\n",
      "112        3\n",
      "113        3\n",
      "127        2\n",
      "140        3\n",
      "Length: 94, dtype: int64\n"
     ]
    }
   ],
   "source": [
    "data1 = df_drugs.drop(columns = ['Reviews'])\n",
    "for col in data1:\n",
    "    s = pd.get_dummies(df_drugs[col],prefix='', prefix_sep='').sum() \n",
    "    print(col, \":\", s)\n",
    "\n",
    "# s = pd.get_dummies(data1,prefix='', prefix_sep='').sum().sort()\n",
    "# s\n"
   ]
  },
  {
   "cell_type": "markdown",
   "metadata": {},
   "source": [
    "Berdasarkan cell code diatas, tidak ditemukan noise atau nilai aneh/ganjil untuk setiap field atau kolom. Namun terdapat nilai yang kosong seperti pada atribut 'Age'"
   ]
  },
  {
   "cell_type": "markdown",
   "metadata": {},
   "source": [
    "## Membuat DataFrame"
   ]
  },
  {
   "cell_type": "code",
   "execution_count": 16,
   "metadata": {},
   "outputs": [
    {
     "data": {
      "text/plain": [
       "Index(['SubName', 'ListActiveIngredient', 'ListInactiveIngredient', 'Age',\n",
       "       'Condition', 'Date', 'Drug', 'DrugId', 'EaseofUse', 'Effectiveness',\n",
       "       'Reviews', 'Satisfaction', 'Sex', 'Sides', 'UsefulCount'],\n",
       "      dtype='object')"
      ]
     },
     "execution_count": 16,
     "metadata": {},
     "output_type": "execute_result"
    }
   ],
   "source": [
    "df_drugs.columns"
   ]
  },
  {
   "cell_type": "code",
   "execution_count": 17,
   "metadata": {},
   "outputs": [
    {
     "data": {
      "text/plain": [
       "Index(['SubName', 'ListActiveIngredient', 'ListInactiveIngredient', 'Age',\n",
       "       'Condition', 'Date', 'Drug', 'ItemId', 'EaseofUse', 'Effectiveness',\n",
       "       'Reviews', 'Satisfaction', 'Sex', 'Sides', 'UsefulCount'],\n",
       "      dtype='object')"
      ]
     },
     "execution_count": 17,
     "metadata": {},
     "output_type": "execute_result"
    }
   ],
   "source": [
    "df_drugs.rename(columns={\"DrugId\": \"ItemId\"}, inplace = True)\n",
    "df_drugs.columns"
   ]
  },
  {
   "cell_type": "code",
   "execution_count": 18,
   "metadata": {},
   "outputs": [
    {
     "data": {
      "text/html": [
       "<div>\n",
       "<style scoped>\n",
       "    .dataframe tbody tr th:only-of-type {\n",
       "        vertical-align: middle;\n",
       "    }\n",
       "\n",
       "    .dataframe tbody tr th {\n",
       "        vertical-align: top;\n",
       "    }\n",
       "\n",
       "    .dataframe thead th {\n",
       "        text-align: right;\n",
       "    }\n",
       "</style>\n",
       "<table border=\"1\" class=\"dataframe\">\n",
       "  <thead>\n",
       "    <tr style=\"text-align: right;\">\n",
       "      <th></th>\n",
       "      <th>ItemId</th>\n",
       "      <th>Drug</th>\n",
       "      <th>ListActiveIngredient</th>\n",
       "      <th>ListInactiveIngredient</th>\n",
       "      <th>Sides</th>\n",
       "    </tr>\n",
       "  </thead>\n",
       "  <tbody>\n",
       "    <tr>\n",
       "      <th>0</th>\n",
       "      <td>6054</td>\n",
       "      <td>isosorbide mononitrate</td>\n",
       "      <td>[['ISOSORBIDE MONONITRATE', '10', 'mg', '1', '...</td>\n",
       "      <td>[['LACTOSE, UNSPECIFIED FORM', '', '', '', '']...</td>\n",
       "      <td>Headache ,  dizziness ,  lightheadedness ,  na...</td>\n",
       "    </tr>\n",
       "    <tr>\n",
       "      <th>1</th>\n",
       "      <td>6054</td>\n",
       "      <td>isosorbide mononitrate</td>\n",
       "      <td>[['ISOSORBIDE MONONITRATE', '10', 'mg', '1', '...</td>\n",
       "      <td>[['LACTOSE, UNSPECIFIED FORM', '', '', '', '']...</td>\n",
       "      <td>Headache ,  dizziness ,  lightheadedness ,  na...</td>\n",
       "    </tr>\n",
       "    <tr>\n",
       "      <th>2</th>\n",
       "      <td>6054</td>\n",
       "      <td>isosorbide mononitrate</td>\n",
       "      <td>[['ISOSORBIDE MONONITRATE', '10', 'mg', '1', '...</td>\n",
       "      <td>[['LACTOSE, UNSPECIFIED FORM', '', '', '', '']...</td>\n",
       "      <td>Headache ,  dizziness ,  lightheadedness ,  na...</td>\n",
       "    </tr>\n",
       "    <tr>\n",
       "      <th>3</th>\n",
       "      <td>6054</td>\n",
       "      <td>isosorbide mononitrate</td>\n",
       "      <td>[['ISOSORBIDE MONONITRATE', '10', 'mg', '1', '...</td>\n",
       "      <td>[['LACTOSE, UNSPECIFIED FORM', '', '', '', '']...</td>\n",
       "      <td>Headache ,  dizziness ,  lightheadedness ,  na...</td>\n",
       "    </tr>\n",
       "    <tr>\n",
       "      <th>4</th>\n",
       "      <td>6054</td>\n",
       "      <td>isosorbide mononitrate</td>\n",
       "      <td>[['ISOSORBIDE MONONITRATE', '10', 'mg', '1', '...</td>\n",
       "      <td>[['LACTOSE, UNSPECIFIED FORM', '', '', '', '']...</td>\n",
       "      <td>Headache ,  dizziness ,  lightheadedness ,  na...</td>\n",
       "    </tr>\n",
       "    <tr>\n",
       "      <th>...</th>\n",
       "      <td>...</td>\n",
       "      <td>...</td>\n",
       "      <td>...</td>\n",
       "      <td>...</td>\n",
       "      <td>...</td>\n",
       "    </tr>\n",
       "    <tr>\n",
       "      <th>61664</th>\n",
       "      <td>93290</td>\n",
       "      <td>fenofibrate</td>\n",
       "      <td>[['FENOFIBRIC ACID', '160', 'mg', '1', '1']]</td>\n",
       "      <td>[['SILICON DIOXIDE', '', '', '', ''], ['CROSCA...</td>\n",
       "      <td></td>\n",
       "    </tr>\n",
       "    <tr>\n",
       "      <th>61665</th>\n",
       "      <td>93290</td>\n",
       "      <td>fenofibrate</td>\n",
       "      <td>[['FENOFIBRIC ACID', '160', 'mg', '1', '1']]</td>\n",
       "      <td>[['SILICON DIOXIDE', '', '', '', ''], ['CROSCA...</td>\n",
       "      <td></td>\n",
       "    </tr>\n",
       "    <tr>\n",
       "      <th>61666</th>\n",
       "      <td>93290</td>\n",
       "      <td>fenofibrate</td>\n",
       "      <td>[['FENOFIBRIC ACID', '160', 'mg', '1', '1']]</td>\n",
       "      <td>[['SILICON DIOXIDE', '', '', '', ''], ['CROSCA...</td>\n",
       "      <td></td>\n",
       "    </tr>\n",
       "    <tr>\n",
       "      <th>61667</th>\n",
       "      <td>93290</td>\n",
       "      <td>fenofibrate</td>\n",
       "      <td>[['FENOFIBRIC ACID', '160', 'mg', '1', '1']]</td>\n",
       "      <td>[['SILICON DIOXIDE', '', '', '', ''], ['CROSCA...</td>\n",
       "      <td></td>\n",
       "    </tr>\n",
       "    <tr>\n",
       "      <th>61668</th>\n",
       "      <td>93290</td>\n",
       "      <td>fenofibrate</td>\n",
       "      <td>[['FENOFIBRIC ACID', '160', 'mg', '1', '1']]</td>\n",
       "      <td>[['SILICON DIOXIDE', '', '', '', ''], ['CROSCA...</td>\n",
       "      <td></td>\n",
       "    </tr>\n",
       "  </tbody>\n",
       "</table>\n",
       "<p>61669 rows × 5 columns</p>\n",
       "</div>"
      ],
      "text/plain": [
       "       ItemId                    Drug  \\\n",
       "0        6054  isosorbide mononitrate   \n",
       "1        6054  isosorbide mononitrate   \n",
       "2        6054  isosorbide mononitrate   \n",
       "3        6054  isosorbide mononitrate   \n",
       "4        6054  isosorbide mononitrate   \n",
       "...       ...                     ...   \n",
       "61664   93290             fenofibrate   \n",
       "61665   93290             fenofibrate   \n",
       "61666   93290             fenofibrate   \n",
       "61667   93290             fenofibrate   \n",
       "61668   93290             fenofibrate   \n",
       "\n",
       "                                    ListActiveIngredient  \\\n",
       "0      [['ISOSORBIDE MONONITRATE', '10', 'mg', '1', '...   \n",
       "1      [['ISOSORBIDE MONONITRATE', '10', 'mg', '1', '...   \n",
       "2      [['ISOSORBIDE MONONITRATE', '10', 'mg', '1', '...   \n",
       "3      [['ISOSORBIDE MONONITRATE', '10', 'mg', '1', '...   \n",
       "4      [['ISOSORBIDE MONONITRATE', '10', 'mg', '1', '...   \n",
       "...                                                  ...   \n",
       "61664       [['FENOFIBRIC ACID', '160', 'mg', '1', '1']]   \n",
       "61665       [['FENOFIBRIC ACID', '160', 'mg', '1', '1']]   \n",
       "61666       [['FENOFIBRIC ACID', '160', 'mg', '1', '1']]   \n",
       "61667       [['FENOFIBRIC ACID', '160', 'mg', '1', '1']]   \n",
       "61668       [['FENOFIBRIC ACID', '160', 'mg', '1', '1']]   \n",
       "\n",
       "                                  ListInactiveIngredient  \\\n",
       "0      [['LACTOSE, UNSPECIFIED FORM', '', '', '', '']...   \n",
       "1      [['LACTOSE, UNSPECIFIED FORM', '', '', '', '']...   \n",
       "2      [['LACTOSE, UNSPECIFIED FORM', '', '', '', '']...   \n",
       "3      [['LACTOSE, UNSPECIFIED FORM', '', '', '', '']...   \n",
       "4      [['LACTOSE, UNSPECIFIED FORM', '', '', '', '']...   \n",
       "...                                                  ...   \n",
       "61664  [['SILICON DIOXIDE', '', '', '', ''], ['CROSCA...   \n",
       "61665  [['SILICON DIOXIDE', '', '', '', ''], ['CROSCA...   \n",
       "61666  [['SILICON DIOXIDE', '', '', '', ''], ['CROSCA...   \n",
       "61667  [['SILICON DIOXIDE', '', '', '', ''], ['CROSCA...   \n",
       "61668  [['SILICON DIOXIDE', '', '', '', ''], ['CROSCA...   \n",
       "\n",
       "                                                   Sides  \n",
       "0      Headache ,  dizziness ,  lightheadedness ,  na...  \n",
       "1      Headache ,  dizziness ,  lightheadedness ,  na...  \n",
       "2      Headache ,  dizziness ,  lightheadedness ,  na...  \n",
       "3      Headache ,  dizziness ,  lightheadedness ,  na...  \n",
       "4      Headache ,  dizziness ,  lightheadedness ,  na...  \n",
       "...                                                  ...  \n",
       "61664                                                     \n",
       "61665                                                     \n",
       "61666                                                     \n",
       "61667                                                     \n",
       "61668                                                     \n",
       "\n",
       "[61669 rows x 5 columns]"
      ]
     },
     "execution_count": 18,
     "metadata": {},
     "output_type": "execute_result"
    }
   ],
   "source": [
    "# Data Drug\n",
    "df_item = pd.DataFrame({'ItemId':df_drugs['ItemId'],'Drug':df_drugs['Drug'], 'ListActiveIngredient':df_drugs['ListActiveIngredient'], 'ListInactiveIngredient':df_drugs['ListInactiveIngredient'],'Sides':df_drugs['Sides']})\n",
    "df_item"
   ]
  },
  {
   "cell_type": "code",
   "execution_count": 19,
   "metadata": {},
   "outputs": [],
   "source": [
    "# Data User\n",
    "df_user = pd.DataFrame({'Age':df_drugs['Age'], 'Sex':df_drugs['Sex'], 'Condition':df_drugs['Condition']})"
   ]
  },
  {
   "cell_type": "code",
   "execution_count": 20,
   "metadata": {},
   "outputs": [
    {
     "name": "stdout",
     "output_type": "stream",
     "text": [
      "              Age     Sex                                          Condition  \\\n",
      "0      75 or over    Male                                              Other   \n",
      "1           55-64  Female                                              Other   \n",
      "2      75 or over    Male                         Angina Pectoris Prevention   \n",
      "3      75 or over    Male                         Angina Pectoris Prevention   \n",
      "4      75 or over    Male                         Angina Pectoris Prevention   \n",
      "...           ...     ...                                                ...   \n",
      "61664       65-74          Combined High Blood Cholesterol and Triglyceri...   \n",
      "61665       55-64    Male                                Low HDL Cholesterol   \n",
      "61666       55-64    Male           High Amount of Triglyceride in the Blood   \n",
      "61667       55-64  Female  Combined High Blood Cholesterol and Triglyceri...   \n",
      "61668       35-44  Female  Combined High Blood Cholesterol and Triglyceri...   \n",
      "\n",
      "       UserId  \n",
      "0           0  \n",
      "1           1  \n",
      "2           2  \n",
      "3           3  \n",
      "4           4  \n",
      "...       ...  \n",
      "61664   61664  \n",
      "61665   61665  \n",
      "61666   61666  \n",
      "61667   61667  \n",
      "61668   61668  \n",
      "\n",
      "[61669 rows x 4 columns]\n"
     ]
    }
   ],
   "source": [
    "df_user['UserId'] = df_user.index\n",
    "print(df_user)"
   ]
  },
  {
   "cell_type": "code",
   "execution_count": 21,
   "metadata": {},
   "outputs": [
    {
     "data": {
      "text/html": [
       "<div>\n",
       "<style scoped>\n",
       "    .dataframe tbody tr th:only-of-type {\n",
       "        vertical-align: middle;\n",
       "    }\n",
       "\n",
       "    .dataframe tbody tr th {\n",
       "        vertical-align: top;\n",
       "    }\n",
       "\n",
       "    .dataframe thead th {\n",
       "        text-align: right;\n",
       "    }\n",
       "</style>\n",
       "<table border=\"1\" class=\"dataframe\">\n",
       "  <thead>\n",
       "    <tr style=\"text-align: right;\">\n",
       "      <th></th>\n",
       "      <th>UserId</th>\n",
       "      <th>Age</th>\n",
       "      <th>Sex</th>\n",
       "      <th>Condition</th>\n",
       "    </tr>\n",
       "  </thead>\n",
       "  <tbody>\n",
       "    <tr>\n",
       "      <th>0</th>\n",
       "      <td>0</td>\n",
       "      <td>75 or over</td>\n",
       "      <td>Male</td>\n",
       "      <td>Other</td>\n",
       "    </tr>\n",
       "    <tr>\n",
       "      <th>1</th>\n",
       "      <td>1</td>\n",
       "      <td>55-64</td>\n",
       "      <td>Female</td>\n",
       "      <td>Other</td>\n",
       "    </tr>\n",
       "    <tr>\n",
       "      <th>2</th>\n",
       "      <td>2</td>\n",
       "      <td>75 or over</td>\n",
       "      <td>Male</td>\n",
       "      <td>Angina Pectoris Prevention</td>\n",
       "    </tr>\n",
       "    <tr>\n",
       "      <th>3</th>\n",
       "      <td>3</td>\n",
       "      <td>75 or over</td>\n",
       "      <td>Male</td>\n",
       "      <td>Angina Pectoris Prevention</td>\n",
       "    </tr>\n",
       "    <tr>\n",
       "      <th>4</th>\n",
       "      <td>4</td>\n",
       "      <td>75 or over</td>\n",
       "      <td>Male</td>\n",
       "      <td>Angina Pectoris Prevention</td>\n",
       "    </tr>\n",
       "    <tr>\n",
       "      <th>...</th>\n",
       "      <td>...</td>\n",
       "      <td>...</td>\n",
       "      <td>...</td>\n",
       "      <td>...</td>\n",
       "    </tr>\n",
       "    <tr>\n",
       "      <th>61664</th>\n",
       "      <td>61664</td>\n",
       "      <td>65-74</td>\n",
       "      <td></td>\n",
       "      <td>Combined High Blood Cholesterol and Triglyceri...</td>\n",
       "    </tr>\n",
       "    <tr>\n",
       "      <th>61665</th>\n",
       "      <td>61665</td>\n",
       "      <td>55-64</td>\n",
       "      <td>Male</td>\n",
       "      <td>Low HDL Cholesterol</td>\n",
       "    </tr>\n",
       "    <tr>\n",
       "      <th>61666</th>\n",
       "      <td>61666</td>\n",
       "      <td>55-64</td>\n",
       "      <td>Male</td>\n",
       "      <td>High Amount of Triglyceride in the Blood</td>\n",
       "    </tr>\n",
       "    <tr>\n",
       "      <th>61667</th>\n",
       "      <td>61667</td>\n",
       "      <td>55-64</td>\n",
       "      <td>Female</td>\n",
       "      <td>Combined High Blood Cholesterol and Triglyceri...</td>\n",
       "    </tr>\n",
       "    <tr>\n",
       "      <th>61668</th>\n",
       "      <td>61668</td>\n",
       "      <td>35-44</td>\n",
       "      <td>Female</td>\n",
       "      <td>Combined High Blood Cholesterol and Triglyceri...</td>\n",
       "    </tr>\n",
       "  </tbody>\n",
       "</table>\n",
       "<p>61669 rows × 4 columns</p>\n",
       "</div>"
      ],
      "text/plain": [
       "       UserId         Age     Sex  \\\n",
       "0           0  75 or over    Male   \n",
       "1           1       55-64  Female   \n",
       "2           2  75 or over    Male   \n",
       "3           3  75 or over    Male   \n",
       "4           4  75 or over    Male   \n",
       "...       ...         ...     ...   \n",
       "61664   61664       65-74           \n",
       "61665   61665       55-64    Male   \n",
       "61666   61666       55-64    Male   \n",
       "61667   61667       55-64  Female   \n",
       "61668   61668       35-44  Female   \n",
       "\n",
       "                                               Condition  \n",
       "0                                                  Other  \n",
       "1                                                  Other  \n",
       "2                             Angina Pectoris Prevention  \n",
       "3                             Angina Pectoris Prevention  \n",
       "4                             Angina Pectoris Prevention  \n",
       "...                                                  ...  \n",
       "61664  Combined High Blood Cholesterol and Triglyceri...  \n",
       "61665                                Low HDL Cholesterol  \n",
       "61666           High Amount of Triglyceride in the Blood  \n",
       "61667  Combined High Blood Cholesterol and Triglyceri...  \n",
       "61668  Combined High Blood Cholesterol and Triglyceri...  \n",
       "\n",
       "[61669 rows x 4 columns]"
      ]
     },
     "execution_count": 21,
     "metadata": {},
     "output_type": "execute_result"
    }
   ],
   "source": [
    "df_user = pd.DataFrame({'UserId':df_user['UserId'], 'Age':df_drugs['Age'], 'Sex':df_drugs['Sex'], 'Condition':df_drugs['Condition']})\n",
    "df_user"
   ]
  },
  {
   "cell_type": "code",
   "execution_count": 22,
   "metadata": {},
   "outputs": [
    {
     "data": {
      "text/html": [
       "<div>\n",
       "<style scoped>\n",
       "    .dataframe tbody tr th:only-of-type {\n",
       "        vertical-align: middle;\n",
       "    }\n",
       "\n",
       "    .dataframe tbody tr th {\n",
       "        vertical-align: top;\n",
       "    }\n",
       "\n",
       "    .dataframe thead th {\n",
       "        text-align: right;\n",
       "    }\n",
       "</style>\n",
       "<table border=\"1\" class=\"dataframe\">\n",
       "  <thead>\n",
       "    <tr style=\"text-align: right;\">\n",
       "      <th></th>\n",
       "      <th>UserId</th>\n",
       "      <th>ItemId</th>\n",
       "      <th>Effectiveness</th>\n",
       "      <th>EaseofUse</th>\n",
       "      <th>Satisfaction</th>\n",
       "    </tr>\n",
       "  </thead>\n",
       "  <tbody>\n",
       "    <tr>\n",
       "      <th>0</th>\n",
       "      <td>0</td>\n",
       "      <td>6054</td>\n",
       "      <td>1</td>\n",
       "      <td>1</td>\n",
       "      <td>1</td>\n",
       "    </tr>\n",
       "    <tr>\n",
       "      <th>1</th>\n",
       "      <td>1</td>\n",
       "      <td>6054</td>\n",
       "      <td>5</td>\n",
       "      <td>1</td>\n",
       "      <td>1</td>\n",
       "    </tr>\n",
       "    <tr>\n",
       "      <th>2</th>\n",
       "      <td>2</td>\n",
       "      <td>6054</td>\n",
       "      <td>5</td>\n",
       "      <td>5</td>\n",
       "      <td>5</td>\n",
       "    </tr>\n",
       "    <tr>\n",
       "      <th>3</th>\n",
       "      <td>3</td>\n",
       "      <td>6054</td>\n",
       "      <td>5</td>\n",
       "      <td>5</td>\n",
       "      <td>5</td>\n",
       "    </tr>\n",
       "    <tr>\n",
       "      <th>4</th>\n",
       "      <td>4</td>\n",
       "      <td>6054</td>\n",
       "      <td>5</td>\n",
       "      <td>5</td>\n",
       "      <td>5</td>\n",
       "    </tr>\n",
       "    <tr>\n",
       "      <th>...</th>\n",
       "      <td>...</td>\n",
       "      <td>...</td>\n",
       "      <td>...</td>\n",
       "      <td>...</td>\n",
       "      <td>...</td>\n",
       "    </tr>\n",
       "    <tr>\n",
       "      <th>61664</th>\n",
       "      <td>61664</td>\n",
       "      <td>93290</td>\n",
       "      <td>5</td>\n",
       "      <td>5</td>\n",
       "      <td>2</td>\n",
       "    </tr>\n",
       "    <tr>\n",
       "      <th>61665</th>\n",
       "      <td>61665</td>\n",
       "      <td>93290</td>\n",
       "      <td>4</td>\n",
       "      <td>4</td>\n",
       "      <td>4</td>\n",
       "    </tr>\n",
       "    <tr>\n",
       "      <th>61666</th>\n",
       "      <td>61666</td>\n",
       "      <td>93290</td>\n",
       "      <td>2</td>\n",
       "      <td>3</td>\n",
       "      <td>2</td>\n",
       "    </tr>\n",
       "    <tr>\n",
       "      <th>61667</th>\n",
       "      <td>61667</td>\n",
       "      <td>93290</td>\n",
       "      <td>3</td>\n",
       "      <td>3</td>\n",
       "      <td>3</td>\n",
       "    </tr>\n",
       "    <tr>\n",
       "      <th>61668</th>\n",
       "      <td>61668</td>\n",
       "      <td>93290</td>\n",
       "      <td>5</td>\n",
       "      <td>5</td>\n",
       "      <td>5</td>\n",
       "    </tr>\n",
       "  </tbody>\n",
       "</table>\n",
       "<p>61669 rows × 5 columns</p>\n",
       "</div>"
      ],
      "text/plain": [
       "       UserId  ItemId  Effectiveness  EaseofUse  Satisfaction\n",
       "0           0    6054              1          1             1\n",
       "1           1    6054              5          1             1\n",
       "2           2    6054              5          5             5\n",
       "3           3    6054              5          5             5\n",
       "4           4    6054              5          5             5\n",
       "...       ...     ...            ...        ...           ...\n",
       "61664   61664   93290              5          5             2\n",
       "61665   61665   93290              4          4             4\n",
       "61666   61666   93290              2          3             2\n",
       "61667   61667   93290              3          3             3\n",
       "61668   61668   93290              5          5             5\n",
       "\n",
       "[61669 rows x 5 columns]"
      ]
     },
     "execution_count": 22,
     "metadata": {},
     "output_type": "execute_result"
    }
   ],
   "source": [
    "# Data Rating\n",
    "df_rating = pd.DataFrame({'UserId':df_user['UserId'], 'ItemId':df_drugs['ItemId'], 'Effectiveness':df_drugs['Effectiveness'], 'EaseofUse':df_drugs['EaseofUse'],'Satisfaction':df_drugs['Satisfaction']})\n",
    "df_rating"
   ]
  },
  {
   "cell_type": "markdown",
   "metadata": {},
   "source": [
    "## 4. Prapemrosesan\n",
    "\n",
    "..."
   ]
  },
  {
   "cell_type": "markdown",
   "metadata": {},
   "source": [
    "## 5. Pembangunan Model Rekomendasi\n",
    "\n",
    "...\n"
   ]
  },
  {
   "cell_type": "code",
   "execution_count": null,
   "metadata": {},
   "outputs": [],
   "source": []
  },
  {
   "cell_type": "markdown",
   "metadata": {},
   "source": [
    "## 6. Pengujian Model Rekomendasi\n",
    "\n",
    "..."
   ]
  },
  {
   "cell_type": "code",
   "execution_count": null,
   "metadata": {},
   "outputs": [],
   "source": []
  },
  {
   "cell_type": "markdown",
   "metadata": {},
   "source": [
    "---"
   ]
  }
 ],
 "metadata": {
  "colab": {
   "collapsed_sections": [],
   "name": "TA-102.ipynb",
   "provenance": []
  },
  "kernelspec": {
   "display_name": "Python 3",
   "language": "python",
   "name": "python3"
  },
  "language_info": {
   "codemirror_mode": {
    "name": "ipython",
    "version": 3
   },
   "file_extension": ".py",
   "mimetype": "text/x-python",
   "name": "python",
   "nbconvert_exporter": "python",
   "pygments_lexer": "ipython3",
   "version": "3.8.3"
  }
 },
 "nbformat": 4,
 "nbformat_minor": 1
}
