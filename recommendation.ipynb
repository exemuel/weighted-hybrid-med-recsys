{
 "cells": [
  {
   "cell_type": "markdown",
   "metadata": {
    "id": "nTGCMKSzVXtF"
   },
   "source": [
    "# Notebook\n",
    "## Sistem Rekomendasi Obat berdasarkan _Weighted Hybrid Approach_\n",
    "\n",
    "Notebook ini menyajikan penerapan dan eksperimentasi _weighted hybrid approach_ pada sistem rekomendasi obat. _Weighted hybrid approach_ yang diusulkan merupakan kombinasi antara .... dan .... . Beberapa teknik pembobotan yang akan dimasukkan dalam eksperimentasi antara lain ...., ...., dan ....."
   ]
  },
  {
   "cell_type": "markdown",
   "metadata": {
    "id": "XIftJR9dUmmb"
   },
   "source": [
    "## 1. Pustaka\n",
    "\n",
    "Impor pustaka yang dibutuhkan."
   ]
  },
  {
   "cell_type": "code",
   "execution_count": 2,
   "metadata": {},
   "outputs": [
    {
     "name": "stdout",
     "output_type": "stream",
     "text": [
      "Requirement already satisfied: plotly in c:\\users\\user\\anaconda3\\lib\\site-packages (5.8.0)\n",
      "Requirement already satisfied: tenacity>=6.2.0 in c:\\users\\user\\anaconda3\\lib\\site-packages (from plotly) (8.0.1)\n",
      "Note: you may need to restart the kernel to use updated packages.\n"
     ]
    }
   ],
   "source": [
    "pip install plotly"
   ]
  },
  {
   "cell_type": "code",
   "execution_count": 3,
   "metadata": {
    "id": "ejBtEAGbKzpI"
   },
   "outputs": [
    {
     "ename": "ModuleNotFoundError",
     "evalue": "No module named 'analysis'",
     "output_type": "error",
     "traceback": [
      "\u001b[1;31m---------------------------------------------------------------------------\u001b[0m",
      "\u001b[1;31mModuleNotFoundError\u001b[0m                       Traceback (most recent call last)",
      "\u001b[1;32m<ipython-input-3-fa60d5df4763>\u001b[0m in \u001b[0;36m<module>\u001b[1;34m\u001b[0m\n\u001b[0;32m      4\u001b[0m \u001b[1;33m\u001b[0m\u001b[0m\n\u001b[0;32m      5\u001b[0m \u001b[1;31m# pustaka custom\u001b[0m\u001b[1;33m\u001b[0m\u001b[1;33m\u001b[0m\u001b[1;33m\u001b[0m\u001b[0m\n\u001b[1;32m----> 6\u001b[1;33m \u001b[1;32mfrom\u001b[0m \u001b[0manalysis\u001b[0m \u001b[1;32mimport\u001b[0m \u001b[1;33m*\u001b[0m\u001b[1;33m\u001b[0m\u001b[1;33m\u001b[0m\u001b[0m\n\u001b[0m",
      "\u001b[1;31mModuleNotFoundError\u001b[0m: No module named 'analysis'"
     ]
    }
   ],
   "source": [
    "# pustaka eksternal\n",
    "import pandas as pd\n",
    "import plotly.graph_objects as go\n",
    "\n",
    "# pustaka custom\n",
    "from analysis import *"
   ]
  },
  {
   "cell_type": "markdown",
   "metadata": {
    "id": "h3_BPWQqX9mt"
   },
   "source": [
    "## 2. Persiapan Set Data\n",
    "\n",
    "Pada bagian ini, dilakukan persiapan set data yang dibutuhkan dalam penelitian. Karena set data yang sesuai untuk secara langsung digunakan dalam penelitian ini belum tersedia saat penelitian ini dikerjakan, maka Peneliti melakukan pengumpulan data dari beberapa sumber dan menggabungkannya.\n",
    "\n",
    "Set data `WebMD` dan `DailyMed` digabungkan dalam struktur data DataFrame."
   ]
  },
  {
   "cell_type": "code",
   "execution_count": null,
   "metadata": {
    "id": "OBNcD-4TKzpT"
   },
   "outputs": [],
   "source": [
    "# berkas WebMD Drug Reviews oleh Rohan Harode dari Kaggle\n",
    "path_wmd = 'D:\\JUPYTER NOTEBOOK\\TUGAS AKHIR\\data\\webmd.csv'\n",
    "\n",
    "# berkas DailyMed Drug dari situs web DailyMed\n",
    "# yang dikompilasi dengan menggunakan generate_dailymed.py\n",
    "path_dm = 'D:\\JUPYTER NOTEBOOK\\TUGAS AKHIR\\data\\dailyMed.csv'\n",
    "\n",
    "df_wmd = pd.read_csv(path_wmd)\n",
    "df_dm = pd.read_csv(path_dm)"
   ]
  },
  {
   "cell_type": "markdown",
   "metadata": {},
   "source": [
    "Atribut yang diperlukan sebagai pelengkap data pada WebMD, antara lain:\n",
    "1. nama obat secara umum pada kolom `sub_name`\n",
    "2. daftar bahan aktif pada kolom `list_activeIngredient`, dan \n",
    "3. daftar bahan inaktif pada kolom `list_activeIngredient`.\n",
    "\n",
    "Oleh karena itu, perlu dilakukan seleksi kolom pada DataFrame `df_dm` sebagai berikut."
   ]
  },
  {
   "cell_type": "code",
   "execution_count": null,
   "metadata": {},
   "outputs": [],
   "source": [
    "df_dm = df_dm[[\"SubName\", \"ListActiveIngredient\", \"ListInactiveIngredient\"]]"
   ]
  },
  {
   "cell_type": "markdown",
   "metadata": {},
   "source": [
    "Gabungkan DataFrame DailyMed `df_dm` dan DataFrame MebMD `df_wmd` dengan menggunakan kolom `sub_name` di `df_dm` dan kolom `Drug` di `df_wmd` sebagai indeks pengabungan."
   ]
  },
  {
   "cell_type": "code",
   "execution_count": null,
   "metadata": {},
   "outputs": [],
   "source": [
    "df_drugs = pd.merge(df_dm, df_wmd, left_on = \"SubName\", right_on = \"Drug\")"
   ]
  },
  {
   "cell_type": "markdown",
   "metadata": {},
   "source": [
    "## 3. Analisis Data\n",
    "\n",
    "Dalam penelitian ini, analisis dilakukan pada `df_drugs` untuk memahami tipe data dan mengidentifikasi kesalahan. Informasi tersebut digunakan untuk menentukan prosedur yang sesuai dalam tahap prapemrosesan."
   ]
  },
  {
   "cell_type": "markdown",
   "metadata": {},
   "source": [
    "Kita mulai dengan menghitung jumlah masing-masing nilai yang berbeda pada kolom `Drug` untuk mengetahui jumlah baris data untuk setiap obat. Informasi ini diperlukan untuk memastikan kecukupan data penelitian."
   ]
  },
  {
   "cell_type": "code",
   "execution_count": null,
   "metadata": {
    "scrolled": true
   },
   "outputs": [],
   "source": [
    "display(df_drugs[\"Drug\"].value_counts())"
   ]
  },
  {
   "cell_type": "markdown",
   "metadata": {},
   "source": [
    "Pada sel tersebut, kita dapat melihat rentang nilai dari setiap atribut. untuk attribut sub_name: 74 kategori, List_activeIngredient: 137 kategori, list_inactiveIngredient: 132 kategori, Age: 11 kategori, Condition: 405 kategori, Date: 3884 kategori, Drug:74 kategori, DrugId: 74 kategori, EaseofUse: 5 kategori, Effectiveness: 5 kategori, Reviews: 16967 kategori, Satisfaction: 5 kategori, Sex: 2 kategori, Sides: 69 kategori, UsefulCount: 94 kategori. "
   ]
  },
  {
   "cell_type": "markdown",
   "metadata": {},
   "source": [
    "## Type Data"
   ]
  },
  {
   "cell_type": "code",
   "execution_count": null,
   "metadata": {},
   "outputs": [],
   "source": [
    "df_drugs.dtypes"
   ]
  },
  {
   "cell_type": "markdown",
   "metadata": {},
   "source": [
    "Untuk memeriksa tipe data dari masing2 varibael/kolom/fitur dengan menggunakan .dtypes. untuk dtype (object) pada pandas digunakan untuk tipe data Teks atau campuran nilai numerik dan non-numeric. untuk dtype (int64) pada pandas digunakan untuk tipe data Integer numbers. Pada sel diatas, kita dapat melihat bahwa 2 jenis type data yang muncul yaitu object dan int64."
   ]
  },
  {
   "cell_type": "code",
   "execution_count": null,
   "metadata": {},
   "outputs": [],
   "source": [
    "for col in df_drugs:\n",
    "    s = pd.get_dummies(df_drugs[col],prefix='', prefix_sep='').sum() \n",
    "    print(col, \":\", s)"
   ]
  },
  {
   "cell_type": "markdown",
   "metadata": {},
   "source": [
    "Pada sel tersebut, kita dapat melihat bahwa ada 74 nama obat dalam `df_drugs`. Obat dengan baris data terbanyak adalah `lisinopril` (12.807), sementara obat dengan baris data tersedikit adalah `cromolyn sodium`, `caffeine citrate`, dan `bexarotene` (2).\n",
    "\n",
    "Jika menggunakan 1000 baris data sebagai ambang batas kecukupan data, maka persentase jumlah obat disajikan sebagai berikut."
   ]
  },
  {
   "cell_type": "code",
   "execution_count": null,
   "metadata": {
    "scrolled": true
   },
   "outputs": [],
   "source": [
    "n_sufficient = sum(x >= 1000 for x in df_drugs[\"Drug\"].value_counts())\n",
    "n_insufficient = sum(x < 1000 for x in df_drugs[\"Drug\"].value_counts())\n",
    "fig = go.Figure(data=[go.Pie(labels=[\"Cukup\", \"Tidak Cukup\"],\n",
    "                             values=[n_sufficient, n_insufficient], hole = 0.5)])\n",
    "fig.show()"
   ]
  },
  {
   "cell_type": "markdown",
   "metadata": {},
   "source": [
    "Memperhatikan persentase tersebut, maka diperlukan penambahan lebih banyak baris data untuk setiap obat dengan total baris data yang kurang dari 500. Untuk saat ini, kita cukup gunakan baris data obat yang cukup."
   ]
  },
  {
   "cell_type": "code",
   "execution_count": null,
   "metadata": {},
   "outputs": [],
   "source": [
    "list_sufficient = [val for val, cnt in df_drugs[\"Drug\"].value_counts().iteritems() if cnt >= 500]\n",
    "df_drugs_sub = df_drugs[df_drugs[\"Drug\"].isin(list_sufficient)]"
   ]
  },
  {
   "cell_type": "markdown",
   "metadata": {},
   "source": [
    "Untuk menerapkan _item-based collaborative filtering_ pada sistem rekomendasi obat, dibutuhkan matriks pengguna/obat. Pada matriks tersebut terdapat _\"user id\"_, _\"drug id\"_, dan _\"drug rating\"_. Ilustrasi matriks tersebut adalah sebagai berikut.\n",
    "\n",
    "|  | drug<sub>1</sub> | drug<sub>2</sub> | drug<sub>3</sub> |\n",
    "| :---: | :---: | :---: | :---: |\n",
    "| user<sub>1</sub> | rating<sub>user<sub>1</sub>,drug<sub>1</sub></sub> | rating<sub>user<sub>1</sub>,drug<sub>2</sub></sub> | rating<sub>user<sub>1</sub>,drug<sub>3</sub></sub> |\n",
    "| user<sub>2</sub> | rating<sub>user<sub>2</sub>,drug<sub>1</sub></sub> | rating<sub>user<sub>2</sub>,drug<sub>2</sub></sub> | rating<sub>user<sub>2</sub>,drug<sub>3</sub></sub> |\n",
    "| user<sub>3</sub> | rating<sub>user<sub>3</sub>,drug<sub>1</sub></sub> | rating<sub>user<sub>3</sub>,drug<sub>2</sub></sub> | rating<sub>user<sub>3</sub>,drug<sub>3</sub></sub> |\n",
    "| user<sub>4</sub> | rating<sub>user<sub>4</sub>,drug<sub>1</sub></sub> | rating<sub>user<sub>4</sub>,drug<sub>2</sub></sub> | rating<sub>user<sub>4</sub>,drug<sub>3</sub></sub> |\n",
    "| user<sub>5</sub> | rating<sub>user<sub>5</sub>,drug<sub>1</sub></sub> | rating<sub>user<sub>5</sub>,drug<sub>2</sub></sub> | rating<sub>user<sub>5</sub>,drug<sub>3</sub></sub> |\n",
    "\n",
    "\n",
    "_\"user id\"_ tidak tersedia dalam `df_drugs`. Oleh karena itu, ....\n",
    "\n",
    "_\"drug id\"_ tersedia dalam `df_drugs`. Oleh karena itu, ....\n",
    "\n",
    "_\"drug rating\"_ tidak tersedia dalam `df_drugs`. Oleh karena itu, ...."
   ]
  },
  {
   "cell_type": "code",
   "execution_count": null,
   "metadata": {
    "scrolled": true
   },
   "outputs": [],
   "source": [
    "df_drugs_sub.pivot_table(columns=[\"Sex\", \"Age\", \"Condition\"], aggfunc=\"size\")"
   ]
  },
  {
   "cell_type": "markdown",
   "metadata": {},
   "source": [
    "## Mengidentifikasi Kesalahan "
   ]
  },
  {
   "cell_type": "code",
   "execution_count": null,
   "metadata": {},
   "outputs": [],
   "source": [
    "df_drugs_sub.isnull().sum()"
   ]
  },
  {
   "cell_type": "markdown",
   "metadata": {},
   "source": [
    "Dalam mengidentifikasi kesalahahan dapat dilakukan agregasi data  menggunakan fungsi sum(). Berdasarkan analisis diatas dapat dilihat bahwa dalam dataset tersebut semua kolom tidak memiliki nilai kosong atau NULL kecuali kolom Reviews dengan 16 missing value."
   ]
  },
  {
   "cell_type": "code",
   "execution_count": null,
   "metadata": {},
   "outputs": [],
   "source": [
    "data1 = df_drugs.drop(columns = ['Reviews'])\n",
    "for col in data1:\n",
    "    s = pd.get_dummies(df_drugs[col],prefix='', prefix_sep='').sum() \n",
    "    print(col, \":\", s)\n",
    "\n",
    "# s = pd.get_dummies(data1,prefix='', prefix_sep='').sum().sort()\n",
    "# s\n"
   ]
  },
  {
   "cell_type": "markdown",
   "metadata": {},
   "source": [
    "Berdasarkan cell code diatas, tidak ditemukan noise atau nilai aneh/ganjil untuk setiap field atau kolom. Namun terdapat nilai yang kosong seperti pada atribut 'Age'"
   ]
  },
  {
   "cell_type": "markdown",
   "metadata": {},
   "source": [
    "## Membuat DataFrame"
   ]
  },
  {
   "cell_type": "code",
   "execution_count": null,
   "metadata": {},
   "outputs": [],
   "source": [
    "df_drugs.columns"
   ]
  },
  {
   "cell_type": "code",
   "execution_count": null,
   "metadata": {},
   "outputs": [],
   "source": [
    "df_drugs.rename(columns={\"DrugId\": \"ItemId\"}, inplace = True)\n",
    "df_drugs.columns"
   ]
  },
  {
   "cell_type": "code",
   "execution_count": null,
   "metadata": {},
   "outputs": [],
   "source": [
    "# Data Drug\n",
    "df_item = pd.DataFrame({'ItemId':df_drugs['ItemId'],'Drug':df_drugs['Drug'], 'ListActiveIngredient':df_drugs['ListActiveIngredient'], 'ListInactiveIngredient':df_drugs['ListInactiveIngredient'],'Sides':df_drugs['Sides']})\n",
    "df_item"
   ]
  },
  {
   "cell_type": "code",
   "execution_count": null,
   "metadata": {},
   "outputs": [],
   "source": [
    "# Data User\n",
    "df_user = pd.DataFrame({'Age':df_drugs['Age'], 'Sex':df_drugs['Sex'], 'Condition':df_drugs['Condition']})"
   ]
  },
  {
   "cell_type": "code",
   "execution_count": null,
   "metadata": {},
   "outputs": [],
   "source": [
    "df_user['UserId'] = df_user.index\n",
    "print(df_user)"
   ]
  },
  {
   "cell_type": "code",
   "execution_count": null,
   "metadata": {},
   "outputs": [],
   "source": [
    "df_user = pd.DataFrame({'UserId':df_user['UserId'], 'Age':df_drugs['Age'], 'Sex':df_drugs['Sex'], 'Condition':df_drugs['Condition']})\n",
    "df_user"
   ]
  },
  {
   "cell_type": "code",
   "execution_count": null,
   "metadata": {},
   "outputs": [],
   "source": [
    "# Data Rating\n",
    "df_rating = pd.DataFrame({'UserId':df_user['UserId'], 'ItemId':df_drugs['ItemId'], 'Effectiveness':df_drugs['Effectiveness'], 'EaseofUse':df_drugs['EaseofUse'],'Satisfaction':df_drugs['Satisfaction']})\n",
    "df_rating"
   ]
  },
  {
   "cell_type": "markdown",
   "metadata": {},
   "source": [
    "## 4. Prapemrosesan\n",
    "\n",
    "..."
   ]
  },
  {
   "cell_type": "markdown",
   "metadata": {},
   "source": [
    "## 5. Pembangunan Model Rekomendasi\n",
    "\n",
    "...\n"
   ]
  },
  {
   "cell_type": "code",
   "execution_count": null,
   "metadata": {},
   "outputs": [],
   "source": []
  },
  {
   "cell_type": "markdown",
   "metadata": {},
   "source": [
    "## 6. Pengujian Model Rekomendasi\n",
    "\n",
    "..."
   ]
  },
  {
   "cell_type": "code",
   "execution_count": null,
   "metadata": {},
   "outputs": [],
   "source": []
  },
  {
   "cell_type": "markdown",
   "metadata": {},
   "source": [
    "---"
   ]
  }
 ],
 "metadata": {
  "colab": {
   "collapsed_sections": [],
   "name": "TA-102.ipynb",
   "provenance": []
  },
  "kernelspec": {
   "display_name": "Python 3",
   "language": "python",
   "name": "python3"
  },
  "language_info": {
   "codemirror_mode": {
    "name": "ipython",
    "version": 3
   },
   "file_extension": ".py",
   "mimetype": "text/x-python",
   "name": "python",
   "nbconvert_exporter": "python",
   "pygments_lexer": "ipython3",
   "version": "3.8.3"
  }
 },
 "nbformat": 4,
 "nbformat_minor": 1
}
