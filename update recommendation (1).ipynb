{
 "cells": [
  {
   "cell_type": "markdown",
   "metadata": {
    "id": "nTGCMKSzVXtF"
   },
   "source": [
    "# Notebook\n",
    "## Sistem Rekomendasi Obat berdasarkan _Weighted Hybrid Approach_\n",
    "\n",
    "Notebook ini menyajikan penerapan dan eksperimentasi _weighted hybrid approach_ pada sistem rekomendasi obat. _Weighted hybrid approach_ yang diusulkan merupakan kombinasi antara _content-based filtering_  dan _collaborative filtering_. Beberapa teknik pembobotan yang akan dimasukkan dalam eksperimentasi antara lain _optimal weight_."
   ]
  },
  {
   "cell_type": "markdown",
   "metadata": {
    "id": "XIftJR9dUmmb"
   },
   "source": [
    "## 1. Pustaka\n",
    "\n",
    "Impor pustaka yang dibutuhkan."
   ]
  },
  {
   "cell_type": "code",
   "execution_count": 1,
   "metadata": {
    "id": "ejBtEAGbKzpI"
   },
   "outputs": [],
   "source": [
    "# pustaka eksternal\n",
    "import re\n",
    "import matplotlib.pyplot as plt\n",
    "import numpy as np\n",
    "import pandas as pd\n",
    "import plotly.graph_objects as go\n",
    "from scipy.sparse import csr_matrix\n",
    "from scipy.spatial.distance import pdist, squareform\n",
    "from sklearn.impute import SimpleImputer\n",
    "from sklearn.preprocessing import MultiLabelBinarizer\n",
    "from sklearn.ensemble import RandomForestClassifier\n",
    "from sklearn.neighbors import KNeighborsClassifier\n",
    "from sklearn.model_selection import RandomizedSearchCV\n",
    "\n",
    "# pustaka custom\n",
    "from analysis import *"
   ]
  },
  {
   "cell_type": "markdown",
   "metadata": {
    "id": "h3_BPWQqX9mt"
   },
   "source": [
    "## 2. Persiapan Set Data\n",
    "\n",
    "Pada bagian ini, dilakukan persiapan set data yang dibutuhkan dalam penelitian. Karena set data yang sesuai untuk secara langsung digunakan dalam penelitian ini belum tersedia saat penelitian ini dikerjakan, maka Peneliti melakukan pengumpulan data dari beberapa sumber dan menggabungkannya.\n",
    "\n",
    "Set data `WebMD` dan `DailyMed` digabungkan dalam struktur data DataFrame."
   ]
  },
  {
   "cell_type": "code",
   "execution_count": 2,
   "metadata": {
    "id": "OBNcD-4TKzpT",
    "scrolled": true
   },
   "outputs": [],
   "source": [
    "# berkas WebMD Drug Reviews oleh Rohan Harode dari Kaggle\n",
    "path_wmd = \"data/webmd/webmd.csv\"\n",
    "\n",
    "# berkas DailyMed Drug dari situs web DailyMed\n",
    "# yang dikompilasi dengan menggunakan generate_dailymed.py\n",
    "path_dm = \"data/dailymed/dailymed.csv\"\n",
    "\n",
    "df_wmd = pd.read_csv(path_wmd)\n",
    "df_dm = pd.read_csv(path_dm)"
   ]
  },
  {
   "cell_type": "markdown",
   "metadata": {},
   "source": [
    "Atribut yang diperlukan sebagai pelengkap data pada DailyMed, antara lain:\n",
    "1. nama obat secara umum pada kolom `sub_name`\n",
    "2. daftar bahan aktif pada kolom `list_activeIngredient`, dan \n",
    "3. daftar bahan inaktif pada kolom `list_activeIngredient`.\n",
    "\n",
    "Oleh karena itu, perlu dilakukan seleksi kolom pada DataFrame `df_dm` sebagai berikut."
   ]
  },
  {
   "cell_type": "code",
   "execution_count": 3,
   "metadata": {},
   "outputs": [],
   "source": [
    "df_dm = df_dm[[\"SubName\", \"ListActiveIngredient\", \"ListInactiveIngredient\"]]"
   ]
  },
  {
   "cell_type": "markdown",
   "metadata": {},
   "source": [
    "## 3. Prapemrosesan\n",
    "Tahapan prapemrosesan data dilakukan untuk meningkatkan kualitas data yang meliputi data preparation, selection, data cleaning dan data tranformation. "
   ]
  },
  {
   "cell_type": "markdown",
   "metadata": {},
   "source": [
    "### 3.1. Data Integration"
   ]
  },
  {
   "cell_type": "markdown",
   "metadata": {},
   "source": [
    "Tahap pertama pada data integration yaitu melakukan integrasi set data DailyMed dan WebMD pada _df_drugs_"
   ]
  },
  {
   "cell_type": "code",
   "execution_count": 4,
   "metadata": {},
   "outputs": [],
   "source": [
    "df_drugs = pd.merge(df_dm, df_wmd, left_on = \"SubName\", right_on = \"Drug\")"
   ]
  },
  {
   "cell_type": "code",
   "execution_count": 5,
   "metadata": {
    "scrolled": true
   },
   "outputs": [
    {
     "data": {
      "text/plain": [
       "Index(['SubName', 'ListActiveIngredient', 'ListInactiveIngredient', 'Age',\n",
       "       'Condition', 'Date', 'Drug', 'DrugId', 'EaseofUse', 'Effectiveness',\n",
       "       'Reviews', 'Satisfaction', 'Sex', 'Sides', 'UsefulCount'],\n",
       "      dtype='object')"
      ]
     },
     "execution_count": 5,
     "metadata": {},
     "output_type": "execute_result"
    }
   ],
   "source": [
    "df_drugs.columns"
   ]
  },
  {
   "cell_type": "markdown",
   "metadata": {},
   "source": [
    "###  3.2. Data Selection"
   ]
  },
  {
   "cell_type": "markdown",
   "metadata": {},
   "source": [
    "Tahap kedua dalam pra-pemrosesan yaitu data selection dikarenakan memfokuskan pada atribute yang akan digunakan pada penelitian "
   ]
  },
  {
   "cell_type": "code",
   "execution_count": 6,
   "metadata": {
    "scrolled": true
   },
   "outputs": [],
   "source": [
    "list_sufficient = [val for val, cnt in df_drugs[\"Drug\"].value_counts().iteritems() if cnt >= 500]\n",
    "df_drugs_sub = df_drugs[df_drugs[\"Drug\"].isin(list_sufficient)]"
   ]
  },
  {
   "cell_type": "code",
   "execution_count": 7,
   "metadata": {},
   "outputs": [
    {
     "data": {
      "text/html": [
       "<div>\n",
       "<style scoped>\n",
       "    .dataframe tbody tr th:only-of-type {\n",
       "        vertical-align: middle;\n",
       "    }\n",
       "\n",
       "    .dataframe tbody tr th {\n",
       "        vertical-align: top;\n",
       "    }\n",
       "\n",
       "    .dataframe thead th {\n",
       "        text-align: right;\n",
       "    }\n",
       "</style>\n",
       "<table border=\"1\" class=\"dataframe\">\n",
       "  <thead>\n",
       "    <tr style=\"text-align: right;\">\n",
       "      <th></th>\n",
       "      <th>ListActiveIngredient</th>\n",
       "      <th>ListInactiveIngredient</th>\n",
       "      <th>Age</th>\n",
       "      <th>Condition</th>\n",
       "      <th>Date</th>\n",
       "      <th>Drug</th>\n",
       "      <th>DrugId</th>\n",
       "      <th>EaseofUse</th>\n",
       "      <th>Effectiveness</th>\n",
       "      <th>Satisfaction</th>\n",
       "      <th>Sex</th>\n",
       "      <th>Sides</th>\n",
       "      <th>UsefulCount</th>\n",
       "    </tr>\n",
       "  </thead>\n",
       "  <tbody>\n",
       "    <tr>\n",
       "      <th>0</th>\n",
       "      <td>[['ISOSORBIDE MONONITRATE', '10', 'mg', '1', '...</td>\n",
       "      <td>[['LACTOSE, UNSPECIFIED FORM', '', '', '', '']...</td>\n",
       "      <td>75 or over</td>\n",
       "      <td>Other</td>\n",
       "      <td>3/18/2019</td>\n",
       "      <td>isosorbide mononitrate</td>\n",
       "      <td>6054</td>\n",
       "      <td>1</td>\n",
       "      <td>1</td>\n",
       "      <td>1</td>\n",
       "      <td>Male</td>\n",
       "      <td>Headache ,  dizziness ,  lightheadedness ,  na...</td>\n",
       "      <td>0</td>\n",
       "    </tr>\n",
       "    <tr>\n",
       "      <th>1</th>\n",
       "      <td>[['ISOSORBIDE MONONITRATE', '10', 'mg', '1', '...</td>\n",
       "      <td>[['LACTOSE, UNSPECIFIED FORM', '', '', '', '']...</td>\n",
       "      <td>55-64</td>\n",
       "      <td>Other</td>\n",
       "      <td>4/19/2018</td>\n",
       "      <td>isosorbide mononitrate</td>\n",
       "      <td>6054</td>\n",
       "      <td>1</td>\n",
       "      <td>5</td>\n",
       "      <td>1</td>\n",
       "      <td>Female</td>\n",
       "      <td>Headache ,  dizziness ,  lightheadedness ,  na...</td>\n",
       "      <td>0</td>\n",
       "    </tr>\n",
       "    <tr>\n",
       "      <th>2</th>\n",
       "      <td>[['ISOSORBIDE MONONITRATE', '10', 'mg', '1', '...</td>\n",
       "      <td>[['LACTOSE, UNSPECIFIED FORM', '', '', '', '']...</td>\n",
       "      <td>75 or over</td>\n",
       "      <td>Angina Pectoris Prevention</td>\n",
       "      <td>4/12/2018</td>\n",
       "      <td>isosorbide mononitrate</td>\n",
       "      <td>6054</td>\n",
       "      <td>5</td>\n",
       "      <td>5</td>\n",
       "      <td>5</td>\n",
       "      <td>Male</td>\n",
       "      <td>Headache ,  dizziness ,  lightheadedness ,  na...</td>\n",
       "      <td>4</td>\n",
       "    </tr>\n",
       "    <tr>\n",
       "      <th>3</th>\n",
       "      <td>[['ISOSORBIDE MONONITRATE', '10', 'mg', '1', '...</td>\n",
       "      <td>[['LACTOSE, UNSPECIFIED FORM', '', '', '', '']...</td>\n",
       "      <td>75 or over</td>\n",
       "      <td>Angina Pectoris Prevention</td>\n",
       "      <td>9/21/2017</td>\n",
       "      <td>isosorbide mononitrate</td>\n",
       "      <td>6054</td>\n",
       "      <td>5</td>\n",
       "      <td>5</td>\n",
       "      <td>5</td>\n",
       "      <td>Male</td>\n",
       "      <td>Headache ,  dizziness ,  lightheadedness ,  na...</td>\n",
       "      <td>10</td>\n",
       "    </tr>\n",
       "    <tr>\n",
       "      <th>4</th>\n",
       "      <td>[['ISOSORBIDE MONONITRATE', '10', 'mg', '1', '...</td>\n",
       "      <td>[['LACTOSE, UNSPECIFIED FORM', '', '', '', '']...</td>\n",
       "      <td>75 or over</td>\n",
       "      <td>Angina Pectoris Prevention</td>\n",
       "      <td>8/4/2017</td>\n",
       "      <td>isosorbide mononitrate</td>\n",
       "      <td>6054</td>\n",
       "      <td>5</td>\n",
       "      <td>5</td>\n",
       "      <td>5</td>\n",
       "      <td>Male</td>\n",
       "      <td>Headache ,  dizziness ,  lightheadedness ,  na...</td>\n",
       "      <td>6</td>\n",
       "    </tr>\n",
       "  </tbody>\n",
       "</table>\n",
       "</div>"
      ],
      "text/plain": [
       "                                ListActiveIngredient  \\\n",
       "0  [['ISOSORBIDE MONONITRATE', '10', 'mg', '1', '...   \n",
       "1  [['ISOSORBIDE MONONITRATE', '10', 'mg', '1', '...   \n",
       "2  [['ISOSORBIDE MONONITRATE', '10', 'mg', '1', '...   \n",
       "3  [['ISOSORBIDE MONONITRATE', '10', 'mg', '1', '...   \n",
       "4  [['ISOSORBIDE MONONITRATE', '10', 'mg', '1', '...   \n",
       "\n",
       "                              ListInactiveIngredient         Age  \\\n",
       "0  [['LACTOSE, UNSPECIFIED FORM', '', '', '', '']...  75 or over   \n",
       "1  [['LACTOSE, UNSPECIFIED FORM', '', '', '', '']...       55-64   \n",
       "2  [['LACTOSE, UNSPECIFIED FORM', '', '', '', '']...  75 or over   \n",
       "3  [['LACTOSE, UNSPECIFIED FORM', '', '', '', '']...  75 or over   \n",
       "4  [['LACTOSE, UNSPECIFIED FORM', '', '', '', '']...  75 or over   \n",
       "\n",
       "                    Condition       Date                    Drug  DrugId  \\\n",
       "0                       Other  3/18/2019  isosorbide mononitrate    6054   \n",
       "1                       Other  4/19/2018  isosorbide mononitrate    6054   \n",
       "2  Angina Pectoris Prevention  4/12/2018  isosorbide mononitrate    6054   \n",
       "3  Angina Pectoris Prevention  9/21/2017  isosorbide mononitrate    6054   \n",
       "4  Angina Pectoris Prevention   8/4/2017  isosorbide mononitrate    6054   \n",
       "\n",
       "   EaseofUse  Effectiveness  Satisfaction     Sex  \\\n",
       "0          1              1             1    Male   \n",
       "1          1              5             1  Female   \n",
       "2          5              5             5    Male   \n",
       "3          5              5             5    Male   \n",
       "4          5              5             5    Male   \n",
       "\n",
       "                                               Sides  UsefulCount  \n",
       "0  Headache ,  dizziness ,  lightheadedness ,  na...            0  \n",
       "1  Headache ,  dizziness ,  lightheadedness ,  na...            0  \n",
       "2  Headache ,  dizziness ,  lightheadedness ,  na...            4  \n",
       "3  Headache ,  dizziness ,  lightheadedness ,  na...           10  \n",
       "4  Headache ,  dizziness ,  lightheadedness ,  na...            6  "
      ]
     },
     "execution_count": 7,
     "metadata": {},
     "output_type": "execute_result"
    }
   ],
   "source": [
    "df_drugs_sub = df_drugs_sub.drop(columns = [\"SubName\",\"Reviews\"])\n",
    "df_drugs_sub.head()"
   ]
  },
  {
   "cell_type": "markdown",
   "metadata": {},
   "source": [
    "###  3.3. Cleaning Data"
   ]
  },
  {
   "cell_type": "markdown",
   "metadata": {},
   "source": [
    "Tahap pertama pada proses _cleaning data_ yaitu dengan mengubah nilai pada kolom `ListActiveIngredient` ke dalam bentuk _one-hot encoding vector_. _One-hot encoding_ mengubah fitur kategorikal/nominal ke format yang lebih sesuai digunakan dalam algoritma klasifikasi dan regresi. Dalam sistem rekomendasi ini, algoritma klasifikasi digunakan sebagai pembentuk model _hybrid_. "
   ]
  },
  {
   "cell_type": "code",
   "execution_count": 8,
   "metadata": {},
   "outputs": [],
   "source": [
    "def active_ingredient_text_cleaning(txt_in):\n",
    "    txt_out = txt_in.replace(\"[[\", \"\")\n",
    "    txt_out = txt_out.replace(\"]]\", \"\")\n",
    "    list_out = txt_out.split(\"], [\")\n",
    "    list_out = [[j.strip(\"\\'\") for j in i.split(\",\")][0].lower() for i in list_out]\n",
    "    return list_out\n",
    "\n",
    "list_active_ingredients = []\n",
    "for i in df_drugs_sub['ListActiveIngredient']:\n",
    "    list_active_ingredients.append(active_ingredient_text_cleaning(i))\n",
    "\n",
    "# hapus kolom list active ingredient\n",
    "df_drugs_sub = df_drugs_sub.drop(columns = [\"ListActiveIngredient\"])\n",
    "# buat kolom active ingredients berdasarkan list active ingredients\n",
    "df_drugs_sub[\"ActiveIngredients\"] = list_active_ingredients"
   ]
  },
  {
   "cell_type": "markdown",
   "metadata": {},
   "source": [
    "Kemudian mengubah nilai pada kolom `ListInactiveIngredient` ke dalam bentuk _one-hot encoding vector_ sama seperti pada `ListActiveIngredient`. "
   ]
  },
  {
   "cell_type": "code",
   "execution_count": 9,
   "metadata": {},
   "outputs": [],
   "source": [
    "def inactive_ingredient_text_cleaning(txt_in):\n",
    "    txt_out = txt_in.replace(\"[[\", \"\")\n",
    "    txt_out = txt_out.replace(\"]]\", \"\")\n",
    "    list_out = txt_out.split(\"], [\")\n",
    "    list_out = [[j.strip(\"\\'\") for j in i.split(\",\")][0].lower() for i in list_out]\n",
    "    return list_out\n",
    "\n",
    "list_inactive_ingredients = []\n",
    "for i in df_drugs_sub['ListInactiveIngredient']:\n",
    "    list_inactive_ingredients.append(inactive_ingredient_text_cleaning(i))\n",
    "\n",
    "# hapus kolom list inactive ingredient\n",
    "df_drugs_sub = df_drugs_sub.drop(columns = [\"ListInactiveIngredient\"])\n",
    "# buat kolom inactive ingredients berdasarkan list inactive ingredients\n",
    "df_drugs_sub[\"InactiveIngredients\"] = list_inactive_ingredients"
   ]
  },
  {
   "cell_type": "markdown",
   "metadata": {},
   "source": [
    "Langkah berikutnya yaitu mengubah nilai pada kolom `sides` ke dalam bentuk _one-hot encoding vector_, sama seperti pada `ListActiveIngredient` dan `ListInactiveIngredient`. "
   ]
  },
  {
   "cell_type": "code",
   "execution_count": 10,
   "metadata": {},
   "outputs": [],
   "source": [
    "def sides_text_cleaning(txt_in):\n",
    "    # ganti whitespace lebih dari 1 menjadi 1 \n",
    "    txt_out = re.sub('\\s+', ' ', txt_in)\n",
    "    # hapus kalimat keterangan\n",
    "    txt_out = txt_out.replace(\"If any of these effects persist or worsen, tell your doctor or pharmacist promptly.\", \"\")\n",
    "    txt_out = txt_out.replace(\"If any of these effects last or get worse, tell your doctor or pharmacist promptly.\", \"\")\n",
    "    txt_out = txt_out.replace(\"may occur, especially during the first 2 hours after you take the medication .\", \"\")\n",
    "    txt_out = txt_out.replace(\"may occur as your body adjusts to this medication .\", \"\")\n",
    "    txt_out = txt_out.replace(\"may occur as your body adjusts to the medication .\", \"\")\n",
    "    txt_out = txt_out.replace(\"may also occur.\", \"\")\n",
    "    txt_out = txt_out.replace(\"may occur.\", \"\")\n",
    "    txt_out = txt_out.replace(\"and \", \"\")\n",
    "    txt_out = txt_out.replace(\"your \", \"\")\n",
    "    txt_out = txt_out.replace(\"or \", \"\")\n",
    "    return txt_out\n",
    "\n",
    "list_sides = []\n",
    "for id, val in df_drugs_sub[\"Sides\"].iteritems():\n",
    "    # pembersihan text sides dan tokenisasi text sides\n",
    "    list_sides.append([i.strip().lower() for i in sides_text_cleaning(val).split(\",\")])\n",
    "\n",
    "# hapus kolom sides yang lama\n",
    "df_drugs_sub = df_drugs_sub.drop(columns = [\"Sides\"])\n",
    "# buat kolom sides yang baru berdasarkan list sides\n",
    "df_drugs_sub[\"Sides\"] = list_sides"
   ]
  },
  {
   "cell_type": "markdown",
   "metadata": {},
   "source": [
    "###  3.4. Data Transformation"
   ]
  },
  {
   "cell_type": "markdown",
   "metadata": {},
   "source": [
    "Pada `df_drugs` terdapat nilai atribut `Age` dan `Sex` yang kosong. Oleh karena itu, dilakukan imputasi dengan menggunakan Simple Imputer."
   ]
  },
  {
   "cell_type": "code",
   "execution_count": 11,
   "metadata": {
    "scrolled": true
   },
   "outputs": [],
   "source": [
    "# label encoding map untuk nilai pada sex\n",
    "map_sex = {\"Male\":0, \"Female\":1}\n",
    "# label encoding map untuk nilai pada age\n",
    "map_age = {'0-2':0,\n",
    "           '3-6':1,\n",
    "           '7-12':2,\n",
    "           '13-18':3,\n",
    "           '19-24':4,\n",
    "           '25-34':5,\n",
    "           '35-44':6,\n",
    "           '45-54':7,\n",
    "           '55-64':8,\n",
    "           '65-74':9,\n",
    "           '75 or over':10}\n",
    "\n",
    "df_tmp = df_drugs_sub.copy()\n",
    "# label encoding pada sex\n",
    "df_tmp[\"Sexmap\"] = df_tmp[\"Sex\"].map(map_sex)\n",
    "# label encoding pada age\n",
    "df_tmp[\"Agemap\"] = df_tmp[\"Age\"].map(map_age)\n",
    "\n",
    "# inverted label encoding map untuk nilai pada sex\n",
    "inv_map_sex = {v: k for k, v in map_sex.items()}\n",
    "# inverted label encoding map untuk nilai pada age\n",
    "inv_map_age = {v: k for k, v in map_age.items()}\n",
    "\n",
    "# penanganan missing values pada sex dan age\n",
    "# imp = KNNImputer(n_neighbors=1)\n",
    "imp = SimpleImputer(missing_values=np.nan, strategy=\"most_frequent\")\n",
    "mat = imp.fit_transform(df_tmp[[\"Agemap\", \"Sexmap\", \"Satisfaction\"]])\n",
    "df_tmp2 = pd.DataFrame(mat, columns=[\"NewAge\", \"NewSex\", \"NewSatisfaction\"])\n",
    "df_drugs_sub[\"Sex\"] = df_tmp2[\"NewSex\"].map(inv_map_sex).tolist()\n",
    "df_drugs_sub[\"Age\"] = df_tmp2[\"NewAge\"].map(inv_map_age).tolist()\n",
    "\n",
    "# reset index setiap baris\n",
    "df_drugs_sub = df_drugs_sub.reset_index(drop=True)"
   ]
  },
  {
   "cell_type": "markdown",
   "metadata": {},
   "source": [
    "## 4. Pembentukan Set Data Obat dan Set Data Rating"
   ]
  },
  {
   "cell_type": "markdown",
   "metadata": {},
   "source": [
    "Untuk menerapkan _item-based collaborative filtering_ pada sistem rekomendasi obat, dibutuhkan matriks pengguna/obat. Pada matriks tersebut terdapat _\"user id\"_, _\"drug id\"_, dan _\"drug rating\"_. Ilustrasi matriks tersebut adalah sebagai berikut.\n",
    "\n",
    "|  | drug<sub>1</sub> | drug<sub>2</sub> | drug<sub>3</sub> |\n",
    "| :---: | :---: | :---: | :---: |\n",
    "| user<sub>1</sub> | rating<sub>user<sub>1</sub>,drug<sub>1</sub></sub> | rating<sub>user<sub>1</sub>,drug<sub>2</sub></sub> | rating<sub>user<sub>1</sub>,drug<sub>3</sub></sub> |\n",
    "| user<sub>2</sub> | rating<sub>user<sub>2</sub>,drug<sub>1</sub></sub> | rating<sub>user<sub>2</sub>,drug<sub>2</sub></sub> | rating<sub>user<sub>2</sub>,drug<sub>3</sub></sub> |\n",
    "| user<sub>3</sub> | rating<sub>user<sub>3</sub>,drug<sub>1</sub></sub> | rating<sub>user<sub>3</sub>,drug<sub>2</sub></sub> | rating<sub>user<sub>3</sub>,drug<sub>3</sub></sub> |\n",
    "| user<sub>4</sub> | rating<sub>user<sub>4</sub>,drug<sub>1</sub></sub> | rating<sub>user<sub>4</sub>,drug<sub>2</sub></sub> | rating<sub>user<sub>4</sub>,drug<sub>3</sub></sub> |\n",
    "| user<sub>5</sub> | rating<sub>user<sub>5</sub>,drug<sub>1</sub></sub> | rating<sub>user<sub>5</sub>,drug<sub>2</sub></sub> | rating<sub>user<sub>5</sub>,drug<sub>3</sub></sub> |\n",
    "\n",
    "\n",
    "_\"user id\"_ tidak tersedia dalam `df_drugs`. Oleh karena itu, user id diambil dari df_user\n",
    "\n",
    "_\"drug id\"_ tersedia dalam `df_drugs`. Oleh karena itu, drug id akan diambil dari df_item\n",
    "\n",
    "_\"drug rating\"_ tidak tersedia dalam `df_drugs`. Oleh karena itu, drug rating diambil dari df_rating"
   ]
  },
  {
   "cell_type": "code",
   "execution_count": 12,
   "metadata": {
    "scrolled": true
   },
   "outputs": [
    {
     "data": {
      "text/html": [
       "<div>\n",
       "<style scoped>\n",
       "    .dataframe tbody tr th:only-of-type {\n",
       "        vertical-align: middle;\n",
       "    }\n",
       "\n",
       "    .dataframe tbody tr th {\n",
       "        vertical-align: top;\n",
       "    }\n",
       "\n",
       "    .dataframe thead th {\n",
       "        text-align: right;\n",
       "    }\n",
       "</style>\n",
       "<table border=\"1\" class=\"dataframe\">\n",
       "  <thead>\n",
       "    <tr style=\"text-align: right;\">\n",
       "      <th></th>\n",
       "      <th>ItemId</th>\n",
       "      <th>Drug</th>\n",
       "      <th>ActiveIngredients</th>\n",
       "      <th>InactiveIngredients</th>\n",
       "      <th>Sides</th>\n",
       "    </tr>\n",
       "  </thead>\n",
       "  <tbody>\n",
       "    <tr>\n",
       "      <th>0</th>\n",
       "      <td>1</td>\n",
       "      <td>isosorbide mononitrate</td>\n",
       "      <td>[isosorbide mononitrate]</td>\n",
       "      <td>[lactose, talc, silicon dioxide, cellulose, al...</td>\n",
       "      <td>[headache, dizziness, lightheadedness, nausea,...</td>\n",
       "    </tr>\n",
       "    <tr>\n",
       "      <th>1</th>\n",
       "      <td>2</td>\n",
       "      <td>isosorbide mononitrate</td>\n",
       "      <td>[isosorbide mononitrate]</td>\n",
       "      <td>[silicon dioxide, hydrogenated castor oil, hyp...</td>\n",
       "      <td>[headache, dizziness, lightheadedness, nausea,...</td>\n",
       "    </tr>\n",
       "    <tr>\n",
       "      <th>2</th>\n",
       "      <td>3</td>\n",
       "      <td>isosorbide mononitrate</td>\n",
       "      <td>[isosorbide mononitrate]</td>\n",
       "      <td>[[]]</td>\n",
       "      <td>[headache, dizziness, lightheadedness, nausea,...</td>\n",
       "    </tr>\n",
       "    <tr>\n",
       "      <th>3</th>\n",
       "      <td>4</td>\n",
       "      <td>isosorbide mononitrate</td>\n",
       "      <td>[isosorbide mononitrate]</td>\n",
       "      <td>[silicon dioxide, hydrogenated castor oil, hyp...</td>\n",
       "      <td>[headache, dizziness, lightheadedness, nausea,...</td>\n",
       "    </tr>\n",
       "    <tr>\n",
       "      <th>4</th>\n",
       "      <td>5</td>\n",
       "      <td>prednisone</td>\n",
       "      <td>[prednisone]</td>\n",
       "      <td>[lactose monohydrate, magnesium stearate, micr...</td>\n",
       "      <td>[nausea, vomiting, loss of appetite, heartburn...</td>\n",
       "    </tr>\n",
       "  </tbody>\n",
       "</table>\n",
       "</div>"
      ],
      "text/plain": [
       "   ItemId                    Drug         ActiveIngredients  \\\n",
       "0       1  isosorbide mononitrate  [isosorbide mononitrate]   \n",
       "1       2  isosorbide mononitrate  [isosorbide mononitrate]   \n",
       "2       3  isosorbide mononitrate  [isosorbide mononitrate]   \n",
       "3       4  isosorbide mononitrate  [isosorbide mononitrate]   \n",
       "4       5              prednisone              [prednisone]   \n",
       "\n",
       "                                 InactiveIngredients  \\\n",
       "0  [lactose, talc, silicon dioxide, cellulose, al...   \n",
       "1  [silicon dioxide, hydrogenated castor oil, hyp...   \n",
       "2                                               [[]]   \n",
       "3  [silicon dioxide, hydrogenated castor oil, hyp...   \n",
       "4  [lactose monohydrate, magnesium stearate, micr...   \n",
       "\n",
       "                                               Sides  \n",
       "0  [headache, dizziness, lightheadedness, nausea,...  \n",
       "1  [headache, dizziness, lightheadedness, nausea,...  \n",
       "2  [headache, dizziness, lightheadedness, nausea,...  \n",
       "3  [headache, dizziness, lightheadedness, nausea,...  \n",
       "4  [nausea, vomiting, loss of appetite, heartburn...  "
      ]
     },
     "execution_count": 12,
     "metadata": {},
     "output_type": "execute_result"
    }
   ],
   "source": [
    "# Data Drug\n",
    "df_item = pd.DataFrame({'Drug':df_drugs_sub['Drug'],\n",
    "                        'ActiveIngredients':df_drugs_sub['ActiveIngredients'],\n",
    "                        'InactiveIngredients':df_drugs_sub['InactiveIngredients'],\n",
    "                        'Sides':df_drugs_sub['Sides']})\n",
    "\n",
    "# buat duplikat df_item, yaitu df_tmp\n",
    "df_tmp = df_item.copy()\n",
    "# ubah nilai ActiveIngredients dari list of string menjadi\n",
    "# string untuk memungkinkan fungsi drop_duplicates dijalankan\n",
    "df_tmp['ActiveIngredients'] = [\" \".join(i) for i in df_tmp['ActiveIngredients']]\n",
    "# ubah nilai InactiveIngredients dari list of string menjadi\n",
    "# string untuk memungkinkan fungsi drop_duplicates dijalankan\n",
    "df_tmp['InactiveIngredients'] = [\" \".join(i) for i in df_tmp['InactiveIngredients']]\n",
    "# ubah nilai Sides dari list of string menjadi\n",
    "# string untuk memungkinkan fungsi drop_duplicates dijalankan\n",
    "df_tmp['Sides'] = [\" \".join(i) for i in df_tmp['Sides']]\n",
    "# hapus baris data duplikat pada df_tmp dan simpan index\n",
    "# baris data yang dipertahankan dalam list_index\n",
    "list_index = list(df_tmp.drop_duplicates().index)\n",
    "# gunakan list_index yang didapatkan untuk memfilter\n",
    "# baris data pada df_item\n",
    "df_item = df_item.iloc[list_index]\n",
    "# reset index setiap baris\n",
    "df_item = df_item.reset_index(drop=True)\n",
    "# buat kolom ItemId berdasarkan index setiap baris\n",
    "df_item[\"ItemId\"] = df_item.index + 1\n",
    "# rapikan posisi kolom dengan memindahkan \n",
    "# posisi kolom \"ItemId\" ke kolom pertama\n",
    "df_item = df_item[['ItemId','Drug','ActiveIngredients','InactiveIngredients','Sides']]\n",
    "df_item.head()"
   ]
  },
  {
   "cell_type": "code",
   "execution_count": 13,
   "metadata": {
    "scrolled": true
   },
   "outputs": [
    {
     "data": {
      "text/html": [
       "<div>\n",
       "<style scoped>\n",
       "    .dataframe tbody tr th:only-of-type {\n",
       "        vertical-align: middle;\n",
       "    }\n",
       "\n",
       "    .dataframe tbody tr th {\n",
       "        vertical-align: top;\n",
       "    }\n",
       "\n",
       "    .dataframe thead th {\n",
       "        text-align: right;\n",
       "    }\n",
       "</style>\n",
       "<table border=\"1\" class=\"dataframe\">\n",
       "  <thead>\n",
       "    <tr style=\"text-align: right;\">\n",
       "      <th></th>\n",
       "      <th>UserId</th>\n",
       "      <th>Age</th>\n",
       "      <th>Sex</th>\n",
       "      <th>Condition</th>\n",
       "    </tr>\n",
       "  </thead>\n",
       "  <tbody>\n",
       "    <tr>\n",
       "      <th>0</th>\n",
       "      <td>1</td>\n",
       "      <td>75 or over</td>\n",
       "      <td>Male</td>\n",
       "      <td>Other</td>\n",
       "    </tr>\n",
       "    <tr>\n",
       "      <th>1</th>\n",
       "      <td>2</td>\n",
       "      <td>55-64</td>\n",
       "      <td>Female</td>\n",
       "      <td>Other</td>\n",
       "    </tr>\n",
       "    <tr>\n",
       "      <th>2</th>\n",
       "      <td>3</td>\n",
       "      <td>75 or over</td>\n",
       "      <td>Male</td>\n",
       "      <td>Angina Pectoris Prevention</td>\n",
       "    </tr>\n",
       "    <tr>\n",
       "      <th>3</th>\n",
       "      <td>4</td>\n",
       "      <td>75 or over</td>\n",
       "      <td>Male</td>\n",
       "      <td>Angina Pectoris Prevention</td>\n",
       "    </tr>\n",
       "    <tr>\n",
       "      <th>4</th>\n",
       "      <td>5</td>\n",
       "      <td>75 or over</td>\n",
       "      <td>Male</td>\n",
       "      <td>Angina Pectoris Prevention</td>\n",
       "    </tr>\n",
       "  </tbody>\n",
       "</table>\n",
       "</div>"
      ],
      "text/plain": [
       "   UserId         Age     Sex                   Condition\n",
       "0       1  75 or over    Male                       Other\n",
       "1       2       55-64  Female                       Other\n",
       "2       3  75 or over    Male  Angina Pectoris Prevention\n",
       "3       4  75 or over    Male  Angina Pectoris Prevention\n",
       "4       5  75 or over    Male  Angina Pectoris Prevention"
      ]
     },
     "execution_count": 13,
     "metadata": {},
     "output_type": "execute_result"
    }
   ],
   "source": [
    "# Data User\n",
    "df_user = pd.DataFrame({'Age':df_drugs_sub['Age'],\n",
    "                        'Sex':df_drugs_sub['Sex'],\n",
    "                        'Condition':df_drugs_sub['Condition']})\n",
    "\n",
    "# buat kolom UserId berdasarkan index setiap baris\n",
    "df_user[\"UserId\"] = df_user.index + 1\n",
    "# rapikan posisi kolom dengan memindahkan \n",
    "# posisi kolom \"UserId\" ke kolom pertama\n",
    "df_user = df_user[['UserId','Age','Sex','Condition']]\n",
    "df_user.head()"
   ]
  },
  {
   "cell_type": "code",
   "execution_count": 14,
   "metadata": {
    "scrolled": true
   },
   "outputs": [
    {
     "data": {
      "text/html": [
       "<div>\n",
       "<style scoped>\n",
       "    .dataframe tbody tr th:only-of-type {\n",
       "        vertical-align: middle;\n",
       "    }\n",
       "\n",
       "    .dataframe tbody tr th {\n",
       "        vertical-align: top;\n",
       "    }\n",
       "\n",
       "    .dataframe thead th {\n",
       "        text-align: right;\n",
       "    }\n",
       "</style>\n",
       "<table border=\"1\" class=\"dataframe\">\n",
       "  <thead>\n",
       "    <tr style=\"text-align: right;\">\n",
       "      <th></th>\n",
       "      <th>UserId</th>\n",
       "      <th>ItemId</th>\n",
       "      <th>EaseofUse</th>\n",
       "      <th>Effectiveness</th>\n",
       "      <th>Satisfaction</th>\n",
       "    </tr>\n",
       "  </thead>\n",
       "  <tbody>\n",
       "    <tr>\n",
       "      <th>0</th>\n",
       "      <td>1</td>\n",
       "      <td>1</td>\n",
       "      <td>1</td>\n",
       "      <td>1</td>\n",
       "      <td>1</td>\n",
       "    </tr>\n",
       "    <tr>\n",
       "      <th>1</th>\n",
       "      <td>2</td>\n",
       "      <td>1</td>\n",
       "      <td>1</td>\n",
       "      <td>5</td>\n",
       "      <td>1</td>\n",
       "    </tr>\n",
       "    <tr>\n",
       "      <th>2</th>\n",
       "      <td>3</td>\n",
       "      <td>1</td>\n",
       "      <td>5</td>\n",
       "      <td>5</td>\n",
       "      <td>5</td>\n",
       "    </tr>\n",
       "    <tr>\n",
       "      <th>3</th>\n",
       "      <td>4</td>\n",
       "      <td>1</td>\n",
       "      <td>5</td>\n",
       "      <td>5</td>\n",
       "      <td>5</td>\n",
       "    </tr>\n",
       "    <tr>\n",
       "      <th>4</th>\n",
       "      <td>5</td>\n",
       "      <td>1</td>\n",
       "      <td>5</td>\n",
       "      <td>5</td>\n",
       "      <td>5</td>\n",
       "    </tr>\n",
       "  </tbody>\n",
       "</table>\n",
       "</div>"
      ],
      "text/plain": [
       "   UserId  ItemId  EaseofUse  Effectiveness  Satisfaction\n",
       "0       1       1          1              1             1\n",
       "1       2       1          1              5             1\n",
       "2       3       1          5              5             5\n",
       "3       4       1          5              5             5\n",
       "4       5       1          5              5             5"
      ]
     },
     "execution_count": 14,
     "metadata": {},
     "output_type": "execute_result"
    }
   ],
   "source": [
    "# Data Rating\n",
    "df_tmp2 = df_drugs_sub.copy()\n",
    "# ubah nilai ActiveIngredients dari list of string menjadi\n",
    "# string untuk memungkinkan fungsi drop_duplicates dijalankan\n",
    "df_tmp2['ActiveIngredients'] = [\" \".join(i) for i in df_tmp2['ActiveIngredients']]\n",
    "# ubah nilai InactiveIngredients dari list of string menjadi\n",
    "# string untuk memungkinkan fungsi drop_duplicates dijalankan\n",
    "df_tmp2['InactiveIngredients'] = [\" \".join(i) for i in df_tmp2['InactiveIngredients']]\n",
    "# ubah nilai Sides dari list of string menjadi\n",
    "# string untuk memungkinkan fungsi drop_duplicates dijalankan\n",
    "df_tmp2['Sides'] = [\" \".join(i) for i in df_tmp2['Sides']]\n",
    "\n",
    "df_tmp = df_item.copy()\n",
    "# ubah nilai ActiveIngredients dari list of string menjadi\n",
    "# string untuk memungkinkan fungsi drop_duplicates dijalankan\n",
    "df_tmp['ActiveIngredients'] = [\" \".join(i) for i in df_tmp['ActiveIngredients']]\n",
    "# ubah nilai InactiveIngredients dari list of string menjadi\n",
    "# string untuk memungkinkan fungsi drop_duplicates dijalankan\n",
    "df_tmp['InactiveIngredients'] = [\" \".join(i) for i in df_tmp['InactiveIngredients']]\n",
    "# ubah nilai Sides dari list of string menjadi\n",
    "# string untuk memungkinkan fungsi drop_duplicates dijalankan\n",
    "df_tmp['Sides'] = [\" \".join(i) for i in df_tmp['Sides']]\n",
    "\n",
    "df_rating = df_tmp2.merge(df_tmp,\n",
    "                          how=\"left\",\n",
    "                          on=[\"Drug\", \"ActiveIngredients\", \"InactiveIngredients\", \"Sides\"])\n",
    "df_rating[\"UserId\"] = df_user[\"UserId\"]\n",
    "df_rating = df_rating[['UserId',\n",
    "                       'ItemId',\n",
    "                       'EaseofUse',\n",
    "                       'Effectiveness',\n",
    "                       'Satisfaction']]\n",
    "df_rating.head()"
   ]
  },
  {
   "cell_type": "code",
   "execution_count": 15,
   "metadata": {},
   "outputs": [],
   "source": [
    "# one hot encoding pada kolom Condition\n",
    "one_hot = pd.get_dummies(df_user['Condition'])\n",
    "# hapus kolom Condition karena saat ini sudah di-encode\n",
    "df_user = df_user.drop('Condition', axis = 1)\n",
    "# gabungkan hasil encode ke df_user\n",
    "df_user = df_user.join(one_hot)\n",
    "\n",
    "# one hot encoding pada kolom Sex\n",
    "one_hot = pd.get_dummies(df_user['Sex'])\n",
    "# hapus kolom Sex karena saat ini sudah di-encode\n",
    "df_user = df_user.drop('Sex', axis = 1)\n",
    "# gabungkan hasil encode ke df_user\n",
    "df_user = df_user.join(one_hot)\n",
    "\n",
    "# ordinal label encoding map untuk nilai pada Age\n",
    "map_age = {'0-2':0,\n",
    "           '3-6':1,\n",
    "           '7-12':2,\n",
    "           '13-18':3,\n",
    "           '19-24':4,\n",
    "           '25-34':5,\n",
    "           '35-44':6,\n",
    "           '45-54':7,\n",
    "           '55-64':8,\n",
    "           '65-74':9,\n",
    "           '75 or over':10}\n",
    "df_tmp = df_user.copy()\n",
    "# label encoding pada Age\n",
    "df_user[\"Age\"] = df_tmp[\"Age\"].map(map_age)"
   ]
  },
  {
   "cell_type": "code",
   "execution_count": 16,
   "metadata": {},
   "outputs": [],
   "source": [
    "# one-hot encoding pada kolom ActiveIngredients\n",
    "mlb = MultiLabelBinarizer()\n",
    "df_item = df_item.join(pd.DataFrame(mlb.fit_transform(df_item.pop(\"ActiveIngredients\")),\n",
    "                                    columns=mlb.classes_,\n",
    "                                    index=df_item.index))\n",
    "\n",
    "# one-hot encoding pada kolom InactiveIngredients\n",
    "mlb = MultiLabelBinarizer()\n",
    "df_item = df_item.join(pd.DataFrame(mlb.fit_transform(df_item.pop(\"InactiveIngredients\")),\n",
    "                                    columns=mlb.classes_,\n",
    "                                    index=df_item.index))\n",
    "\n",
    "# one-hot encoding pada kolom Sides\n",
    "mlb = MultiLabelBinarizer()\n",
    "df_item = df_item.join(pd.DataFrame(mlb.fit_transform(df_item.pop(\"Sides\")),\n",
    "                                    columns=mlb.classes_,\n",
    "                                    index=df_item.index))\n",
    "\n",
    "# hapus kolom Drug (id=1), [] (id=23), \" \" (id=100)\n",
    "df_item = df_item.drop(df_item.iloc[:, [1, 23, 100]], axis=1)"
   ]
  },
  {
   "cell_type": "markdown",
   "metadata": {},
   "source": [
    "## 5. Pembangunan Model Rekomendasi\n",
    "\n",
    "Pada tahap pembangunan model rekomendasi, data dibagi menjadi 70% data latih dan sisanya 30% data uji."
   ]
  },
  {
   "cell_type": "code",
   "execution_count": 17,
   "metadata": {},
   "outputs": [],
   "source": [
    "# 70% baris data dipilih secara random \n",
    "# sebagai data train dan sisanya sebagai data test\n",
    "df_rating_train = df_rating.sample(frac = 0.7)\n",
    "df_rating_train = df_rating_train.reset_index(drop=True)\n",
    "df_rating_test = df_rating.drop(df_rating_train.index)\n",
    "df_rating_test = df_rating_test.reset_index(drop=True)"
   ]
  },
  {
   "cell_type": "code",
   "execution_count": 18,
   "metadata": {},
   "outputs": [],
   "source": [
    "x_train = df_rating_train[['UserId', 'ItemId']]\n",
    "y_train = df_rating_train[['Satisfaction']]\n",
    "x_test = df_rating_test[['UserId', 'ItemId']]\n",
    "y_test = df_rating_test['Satisfaction']"
   ]
  },
  {
   "cell_type": "code",
   "execution_count": 19,
   "metadata": {
    "scrolled": true
   },
   "outputs": [],
   "source": [
    "# merge df_item dan df_user untuk masing-masing set data latih dan uji\n",
    "x_train = x_train.join(df_user.set_index('UserId'),\n",
    "                       on = 'UserId').join(df_item.set_index('ItemId'),\n",
    "                                           on = 'ItemId')\n",
    "\n",
    "x_test = x_test.join(df_user.set_index('UserId'),\n",
    "                     on = 'UserId').join(df_item.set_index('ItemId'),\n",
    "                                         on = 'ItemId')"
   ]
  },
  {
   "cell_type": "markdown",
   "metadata": {},
   "source": [
    "x_train digabung untuk mengambil semua atribute pada dataframe user dan dataframe item dengan menggunakan UserId dan ItemId"
   ]
  },
  {
   "cell_type": "markdown",
   "metadata": {},
   "source": [
    "### 5.1. Optimasi Hiperparameter\n",
    "\n",
    "Pada bagian ini diterapkan **Randomized Search** untuk mencari kombinasi nilai hiperparameter yang mengoptimalkan performa model berdasarkan set data yang tersedia."
   ]
  },
  {
   "cell_type": "markdown",
   "metadata": {},
   "source": [
    "#### 5.1.1. Random Forest"
   ]
  },
  {
   "cell_type": "code",
   "execution_count": 20,
   "metadata": {},
   "outputs": [],
   "source": [
    "# total pohon dalam random forest\n",
    "n_estimators = [int(x) for x in np.linspace(start = 200,\n",
    "                                            stop = 2000,\n",
    "                                            num = 10)]\n",
    "\n",
    "# total fitur yang dipertimbangkan pada setiap pemisahan \n",
    "max_features = ['auto', 'sqrt']\n",
    "\n",
    "# jumlah total maksimum level di setiap pohon keputusan dengan mengembalikan \n",
    "# angka dengan interval 10, 110\n",
    "max_depth = [int(x) for x in np.linspace(10, 110, num = 11)]\n",
    "max_depth.append(None)\n",
    "\n",
    "# jumlah minimal dari titik sampel yang ada pada node sebelum dibagi\n",
    "min_samples_split = [2, 5, 10]\n",
    "\n",
    "# titik sampel minimal yang diperbolehkan pada node leaf\n",
    "min_samples_leaf = [1, 2, 4]\n",
    "\n",
    "# mengambil titik sampel\n",
    "bootstrap = [True, False]\n",
    "\n",
    "# ruang pencarian dalam bentuk hyperparameter grid\n",
    "search_space_rf = {'n_estimators': n_estimators,\n",
    "                   'max_features': max_features,\n",
    "                   'max_depth': max_depth,\n",
    "                   'min_samples_split': min_samples_split,\n",
    "                   'min_samples_leaf': min_samples_leaf,\n",
    "                   'bootstrap': bootstrap}"
   ]
  },
  {
   "cell_type": "code",
   "execution_count": 21,
   "metadata": {},
   "outputs": [
    {
     "data": {
      "text/plain": [
       "RandomizedSearchCV(cv=3, estimator=RandomForestClassifier(), n_iter=1,\n",
       "                   n_jobs=-1,\n",
       "                   param_distributions={'bootstrap': [True, False],\n",
       "                                        'max_depth': [10, 20, 30, 40, 50, 60,\n",
       "                                                      70, 80, 90, 100, 110,\n",
       "                                                      None],\n",
       "                                        'max_features': ['auto', 'sqrt'],\n",
       "                                        'min_samples_leaf': [1, 2, 4],\n",
       "                                        'min_samples_split': [2, 5, 10],\n",
       "                                        'n_estimators': [200, 400, 600, 800,\n",
       "                                                         1000, 1200, 1400, 1600,\n",
       "                                                         1800, 2000]},\n",
       "                   random_state=42)"
      ]
     },
     "execution_count": 21,
     "metadata": {},
     "output_type": "execute_result"
    }
   ],
   "source": [
    "# menggunakan random grid untuk mencari hyperparameter terbaik\n",
    "# Pertama buat model awal\n",
    "rf = RandomForestClassifier()\n",
    "\n",
    "# Mencari paramater secara acak, menggunakan cross validation 3 kali lipat\n",
    "# Mencari kombinasi yang berbeda pada 100 kombinasi yang berbeda\n",
    "# search across 100 different combinations, and use all available cores\n",
    "rf_random = RandomizedSearchCV(estimator = rf,\n",
    "                               param_distributions = search_space_rf,\n",
    "                               n_iter = 1,\n",
    "                               cv = 3,\n",
    "                               verbose = 0,\n",
    "                               random_state = 42,\n",
    "                               n_jobs = -1)\n",
    "\n",
    "# fit the random search model\n",
    "rf_random.fit(x_train.iloc[:, 2:x_train.shape[1]].values,\n",
    "              y_train[\"Satisfaction\"].values)"
   ]
  },
  {
   "cell_type": "markdown",
   "metadata": {},
   "source": [
    "#### 5.1.2. k-Nearest Neighbors"
   ]
  },
  {
   "cell_type": "code",
   "execution_count": 22,
   "metadata": {
    "scrolled": true
   },
   "outputs": [],
   "source": [
    "# Rentang nilai algorithm\n",
    "algorithms = ['auto', 'ball_tree', 'kd_tree', 'brute']\n",
    "\n",
    "# Rentang Nilai n_neighbors\n",
    "n_neighbors = [5, 7, 9, 11]\n",
    "\n",
    "# rentang nilai weight\n",
    "weights = ['uniform', 'distance']\n",
    "\n",
    "# rentang nilai leaf size\n",
    "leaf_size = [10, 20, 30]\n",
    "\n",
    "# ruang pencarian dalam bentuk hyperparameter grid\n",
    "search_space_kn = {'n_neighbors': n_neighbors,\n",
    "                   'weights': weights,\n",
    "                   'algorithm': algorithms,\n",
    "                   'leaf_size': leaf_size}"
   ]
  },
  {
   "cell_type": "code",
   "execution_count": 23,
   "metadata": {},
   "outputs": [
    {
     "data": {
      "text/plain": [
       "RandomizedSearchCV(cv=3, estimator=KNeighborsClassifier(metric='cosine'),\n",
       "                   n_iter=1, n_jobs=-1,\n",
       "                   param_distributions={'algorithm': ['auto', 'ball_tree',\n",
       "                                                      'kd_tree', 'brute'],\n",
       "                                        'leaf_size': [10, 20, 30],\n",
       "                                        'n_neighbors': [5, 7, 9, 11],\n",
       "                                        'weights': ['uniform', 'distance']},\n",
       "                   random_state=42)"
      ]
     },
     "execution_count": 23,
     "metadata": {},
     "output_type": "execute_result"
    }
   ],
   "source": [
    "# menggunakan random grid untuk mencari hyperparameter terbaik\n",
    "# Pertama buat model awal\n",
    "kn = KNeighborsClassifier(metric='cosine')\n",
    "\n",
    "# Mencari paramater secara acak, menggunakan cross validation 3 kali lipat\n",
    "# Mencari kombinasi yang berbeda pada 100 kombinasi yang berbeda\n",
    "# search across 100 different combinations, and use all available cores\n",
    "kn_random = RandomizedSearchCV(estimator = kn,\n",
    "                               param_distributions = search_space_kn,\n",
    "                               n_iter = 1,\n",
    "                               cv = 3,\n",
    "                               verbose = 0,\n",
    "                               random_state = 42,\n",
    "                               n_jobs = -1)\n",
    "\n",
    "# fit the random search model\n",
    "kn_random.fit(x_train.iloc[:, 2:x_train.shape[1]].values, \n",
    "              y_train[\"Satisfaction\"].values)"
   ]
  },
  {
   "cell_type": "markdown",
   "metadata": {},
   "source": [
    "### 5.2. Pembangunan Model Rekomendasi"
   ]
  },
  {
   "cell_type": "markdown",
   "metadata": {},
   "source": [
    "#### Content-based Filtering based on Random Forest"
   ]
  },
  {
   "cell_type": "code",
   "execution_count": 24,
   "metadata": {
    "scrolled": true
   },
   "outputs": [
    {
     "data": {
      "text/plain": [
       "RandomForestClassifier(max_depth=50, max_features='sqrt', min_samples_leaf=2,\n",
       "                       min_samples_split=10, n_estimators=200)"
      ]
     },
     "execution_count": 24,
     "metadata": {},
     "output_type": "execute_result"
    }
   ],
   "source": [
    "# model 1\n",
    "model1 = RandomForestClassifier()\n",
    "model1.set_params(**rf_random.best_params_)\n",
    "model1.fit(x_train.iloc[:, 2:x_train.shape[1]].values, \n",
    "           y_train[\"Satisfaction\"].values)"
   ]
  },
  {
   "cell_type": "markdown",
   "metadata": {},
   "source": [
    "Model1 rekomendasi yang digunakan untuk content-based filtering adalah RandomForestClasifier"
   ]
  },
  {
   "cell_type": "markdown",
   "metadata": {},
   "source": [
    "#### Collaborative-based Filtering based on k-Nearest Neighbors"
   ]
  },
  {
   "cell_type": "code",
   "execution_count": null,
   "metadata": {},
   "outputs": [],
   "source": []
  },
  {
   "cell_type": "markdown",
   "metadata": {},
   "source": [
    "### -------------------------------------------------------- update --------------------------------------------------------"
   ]
  },
  {
   "cell_type": "code",
   "execution_count": 25,
   "metadata": {},
   "outputs": [
    {
     "name": "stdout",
     "output_type": "stream",
     "text": [
      "Original rating matrix :  [[1. 0. 0. ... 0. 0. 0.]\n",
      " [1. 0. 0. ... 0. 0. 0.]\n",
      " [5. 0. 0. ... 0. 0. 0.]\n",
      " ...\n",
      " [0. 0. 0. ... 0. 0. 5.]\n",
      " [0. 0. 0. ... 0. 0. 4.]\n",
      " [0. 0. 0. ... 0. 0. 4.]]\n"
     ]
    }
   ],
   "source": [
    "n_users = df_rating_train.UserId.unique().shape[0]\n",
    "n_items = df_rating_train.ItemId.unique().shape[0]\n",
    "n_users = df_rating_train['UserId'].max()\n",
    "n_items = df_rating_train['ItemId'].max()\n",
    "A = np.zeros((n_users,n_items))\n",
    "for line in df_rating_train.itertuples():\n",
    "    A[line[1]-1,line[2]-1] = line[3]\n",
    "print(\"Original rating matrix : \",A)"
   ]
  },
  {
   "cell_type": "code",
   "execution_count": 26,
   "metadata": {},
   "outputs": [],
   "source": [
    "for i in range(len(A)):\n",
    "  for j in range(len(A[0])):\n",
    "    if A[i][j]>=3:\n",
    "      A[i][j]=1\n",
    "    else:\n",
    "      A[i][j]=0"
   ]
  },
  {
   "cell_type": "code",
   "execution_count": 27,
   "metadata": {
    "scrolled": true
   },
   "outputs": [
    {
     "name": "stdout",
     "output_type": "stream",
     "text": [
      "  (2, 0)\t1.0\n",
      "  (4, 0)\t1.0\n",
      "  (5, 0)\t1.0\n",
      "  (6, 0)\t1.0\n",
      "  (8, 0)\t1.0\n",
      "  (9, 0)\t1.0\n",
      "  (10, 0)\t1.0\n",
      "  (15, 0)\t1.0\n",
      "  (16, 0)\t1.0\n",
      "  (19, 0)\t1.0\n",
      "  (22, 0)\t1.0\n",
      "  (24, 0)\t1.0\n",
      "  (25, 0)\t1.0\n",
      "  (29, 0)\t1.0\n",
      "  (30, 0)\t1.0\n",
      "  (32, 0)\t1.0\n",
      "  (33, 0)\t1.0\n",
      "  (35, 0)\t1.0\n",
      "  (37, 0)\t1.0\n",
      "  (38, 0)\t1.0\n",
      "  (41, 0)\t1.0\n",
      "  (42, 0)\t1.0\n",
      "  (46, 0)\t1.0\n",
      "  (47, 0)\t1.0\n",
      "  (49, 0)\t1.0\n",
      "  :\t:\n",
      "  (55241, 42)\t1.0\n",
      "  (55245, 42)\t1.0\n",
      "  (55248, 42)\t1.0\n",
      "  (55250, 42)\t1.0\n",
      "  (55253, 42)\t1.0\n",
      "  (55254, 42)\t1.0\n",
      "  (55255, 42)\t1.0\n",
      "  (55256, 42)\t1.0\n",
      "  (55260, 42)\t1.0\n",
      "  (55262, 42)\t1.0\n",
      "  (55263, 42)\t1.0\n",
      "  (55265, 42)\t1.0\n",
      "  (55266, 42)\t1.0\n",
      "  (55268, 42)\t1.0\n",
      "  (55269, 42)\t1.0\n",
      "  (55270, 42)\t1.0\n",
      "  (55273, 42)\t1.0\n",
      "  (55275, 42)\t1.0\n",
      "  (55277, 42)\t1.0\n",
      "  (55278, 42)\t1.0\n",
      "  (55279, 42)\t1.0\n",
      "  (55280, 42)\t1.0\n",
      "  (55282, 42)\t1.0\n",
      "  (55283, 42)\t1.0\n",
      "  (55284, 42)\t1.0\n"
     ]
    }
   ],
   "source": [
    "csr_sample = csr_matrix(A)\n",
    "print(csr_sample)"
   ]
  },
  {
   "cell_type": "code",
   "execution_count": 28,
   "metadata": {
    "scrolled": true
   },
   "outputs": [
    {
     "ename": "TypeError",
     "evalue": "fit() missing 1 required positional argument: 'y'",
     "output_type": "error",
     "traceback": [
      "\u001b[1;31m---------------------------------------------------------------------------\u001b[0m",
      "\u001b[1;31mTypeError\u001b[0m                                 Traceback (most recent call last)",
      "\u001b[1;32m<ipython-input-28-aeeac696ea15>\u001b[0m in \u001b[0;36m<module>\u001b[1;34m\u001b[0m\n\u001b[0;32m      2\u001b[0m \u001b[0mmodel2\u001b[0m \u001b[1;33m=\u001b[0m \u001b[0mKNeighborsClassifier\u001b[0m\u001b[1;33m(\u001b[0m\u001b[0mmetric\u001b[0m\u001b[1;33m=\u001b[0m\u001b[1;34m'cosine'\u001b[0m\u001b[1;33m)\u001b[0m\u001b[1;33m\u001b[0m\u001b[1;33m\u001b[0m\u001b[0m\n\u001b[0;32m      3\u001b[0m \u001b[0mmodel2\u001b[0m\u001b[1;33m.\u001b[0m\u001b[0mset_params\u001b[0m\u001b[1;33m(\u001b[0m\u001b[1;33m**\u001b[0m\u001b[0mkn_random\u001b[0m\u001b[1;33m.\u001b[0m\u001b[0mbest_params_\u001b[0m\u001b[1;33m)\u001b[0m\u001b[1;33m\u001b[0m\u001b[1;33m\u001b[0m\u001b[0m\n\u001b[1;32m----> 4\u001b[1;33m \u001b[0mmodel2\u001b[0m\u001b[1;33m.\u001b[0m\u001b[0mfit\u001b[0m\u001b[1;33m(\u001b[0m\u001b[0mcsr_sample\u001b[0m\u001b[1;33m)\u001b[0m\u001b[1;33m\u001b[0m\u001b[1;33m\u001b[0m\u001b[0m\n\u001b[0m\u001b[0;32m      5\u001b[0m \u001b[1;31m# model2.fit(x_train.iloc[:, 2:x_train.shape[1]].values,\u001b[0m\u001b[1;33m\u001b[0m\u001b[1;33m\u001b[0m\u001b[1;33m\u001b[0m\u001b[0m\n\u001b[0;32m      6\u001b[0m \u001b[1;31m#            y_train[\"Satisfaction\"].values)\u001b[0m\u001b[1;33m\u001b[0m\u001b[1;33m\u001b[0m\u001b[1;33m\u001b[0m\u001b[0m\n",
      "\u001b[1;31mTypeError\u001b[0m: fit() missing 1 required positional argument: 'y'"
     ]
    }
   ],
   "source": [
    "# model 2\n",
    "model2 = KNeighborsClassifier(metric='cosine')\n",
    "model2.set_params(**kn_random.best_params_)\n",
    "model2.fit(csr_sample)\n",
    "# model2.fit(x_train.iloc[:, 2:x_train.shape[1]].values, \n",
    "#            y_train[\"Satisfaction\"].values)"
   ]
  },
  {
   "cell_type": "markdown",
   "metadata": {},
   "source": [
    "### -------------------------------------------------------- update --------------------------------------------------------"
   ]
  },
  {
   "cell_type": "code",
   "execution_count": null,
   "metadata": {},
   "outputs": [],
   "source": []
  },
  {
   "cell_type": "markdown",
   "metadata": {},
   "source": [
    "Model2 rekomendasi yang digunakan untuk Collaborative-based Filtering based on k-Nearest Neigboard adalah KNeighborsClassifier"
   ]
  },
  {
   "cell_type": "markdown",
   "metadata": {},
   "source": [
    "## 6. Pengujian Model Rekomendasi\n",
    "\n",
    "Pengujian model rekomendasi dilakukan menggunakan evaluasi metrik rekomendasi RMSE _(Root Mean Square Error)_"
   ]
  },
  {
   "cell_type": "markdown",
   "metadata": {},
   "source": [
    "#### Content-based Filtering based on Random Forest"
   ]
  },
  {
   "cell_type": "code",
   "execution_count": null,
   "metadata": {},
   "outputs": [],
   "source": [
    "pred1 = model1.predict(x_test.iloc[:, 2:x_test.shape[1]].values)\n",
    "rmse = np.sqrt(np.mean((pred1 - y_test.to_numpy())**2))\n",
    "print(\"content-based rmse = %.4f\" %rmse)"
   ]
  },
  {
   "cell_type": "markdown",
   "metadata": {},
   "source": [
    "#### Collaborative-based Filtering based on k-Nearest Neighbors"
   ]
  },
  {
   "cell_type": "code",
   "execution_count": null,
   "metadata": {},
   "outputs": [],
   "source": [
    "pred2 = model2.predict(x_test.iloc[:, 2:x_test.shape[1]].values)\n",
    "rmse = np.sqrt(np.mean((pred2 - y_test.to_numpy())**2))\n",
    "print(\"collaborative-based rmse = %.4f\" %rmse)"
   ]
  },
  {
   "cell_type": "code",
   "execution_count": null,
   "metadata": {},
   "outputs": [],
   "source": [
    "# print(\"Satisfaction Aktual\")\n",
    "# print([i for i in y_test])"
   ]
  },
  {
   "cell_type": "code",
   "execution_count": null,
   "metadata": {},
   "outputs": [],
   "source": [
    "# print(\"Satisfaction Prediction dari Random Forest\")\n",
    "# print([i for i in pred1])"
   ]
  },
  {
   "cell_type": "code",
   "execution_count": null,
   "metadata": {},
   "outputs": [],
   "source": [
    "# print(\"Satisfaction Prediction dari k-Nearest Neighbors\")\n",
    "# print([i for i in pred2])"
   ]
  },
  {
   "cell_type": "markdown",
   "metadata": {},
   "source": [
    "#### Hybrid"
   ]
  },
  {
   "cell_type": "code",
   "execution_count": null,
   "metadata": {},
   "outputs": [],
   "source": [
    "# simple average\n",
    "bobot = 0.5\n",
    "pred3 = pred1*bobot + pred2*(1-bobot)\n",
    "rmse = np.sqrt(np.mean((pred3 - y_test.to_numpy())**2))\n",
    "print(\"hybrid rmse = %.4f\" %rmse)"
   ]
  },
  {
   "cell_type": "code",
   "execution_count": null,
   "metadata": {},
   "outputs": [],
   "source": [
    "# optimal weight\n",
    "bobot = 0.468749004\n",
    "pred3 = pred1*bobot + pred2*(1-bobot)\n",
    "rmse = np.sqrt(np.mean((pred3 - y_test.to_numpy())**2))\n",
    "print(\"hybrid rmse = %.4f\" %rmse)"
   ]
  },
  {
   "cell_type": "code",
   "execution_count": null,
   "metadata": {},
   "outputs": [],
   "source": [
    "# optimal weight ignoring error correlation\n",
    "bobot = 0.03085328059\n",
    "pred3 = pred1*bobot + pred2*(1-bobot)\n",
    "rmse = np.sqrt(np.mean((pred3 - y_test.to_numpy())**2))\n",
    "print(\"hybrid rmse = %.4f\" %rmse)"
   ]
  },
  {
   "cell_type": "markdown",
   "metadata": {},
   "source": [
    "Observasi rentang konfigurasi pembobotan yang optimal. Dalam hal ini digunakan fungsi `linspace` pada NumPy untuk membuat sekuens _weight_."
   ]
  },
  {
   "cell_type": "code",
   "execution_count": null,
   "metadata": {
    "scrolled": true
   },
   "outputs": [],
   "source": [
    "chart_val = []\n",
    "\n",
    "w = np.linspace(0,1,21)\n",
    "\n",
    "for i in w:\n",
    "    pred3 = pred1*i + pred2*(1-i)\n",
    "    rmse = np.sqrt(np.mean((pred3 - y_test.to_numpy())**2))\n",
    "    chart_val.append([i, rmse])\n",
    "\n",
    "chart_val_np = np.array(chart_val)\n",
    "plt.plot(chart_val_np[:, 0], chart_val_np[:,1])\n",
    "plt.xlabel('Random Forest Model Weight Proportional to Item Based Collaborative')\n",
    "plt.ylabel('RMSE')"
   ]
  },
  {
   "cell_type": "code",
   "execution_count": null,
   "metadata": {},
   "outputs": [],
   "source": [
    "#chart_val_np"
   ]
  },
  {
   "cell_type": "markdown",
   "metadata": {},
   "source": [
    "Dapat dilihat bahwa _weight_ terbaik (RMSE terkecil) adalah di antara `0,4` s.d. `0.6`."
   ]
  },
  {
   "cell_type": "markdown",
   "metadata": {},
   "source": [
    "---"
   ]
  }
 ],
 "metadata": {
  "colab": {
   "collapsed_sections": [],
   "name": "TA-102.ipynb",
   "provenance": []
  },
  "kernelspec": {
   "display_name": "Python 3",
   "language": "python",
   "name": "python3"
  },
  "language_info": {
   "codemirror_mode": {
    "name": "ipython",
    "version": 3
   },
   "file_extension": ".py",
   "mimetype": "text/x-python",
   "name": "python",
   "nbconvert_exporter": "python",
   "pygments_lexer": "ipython3",
   "version": "3.8.3"
  }
 },
 "nbformat": 4,
 "nbformat_minor": 1
}
